{
  "nbformat": 4,
  "nbformat_minor": 0,
  "metadata": {
    "colab": {
      "name": "data_cleaning_R.ipynb",
      "provenance": [],
      "include_colab_link": true
    },
    "kernelspec": {
      "name": "ir",
      "display_name": "R"
    },
    "language_info": {
      "name": "R"
    }
  },
  "cells": [
    {
      "cell_type": "markdown",
      "metadata": {
        "id": "view-in-github",
        "colab_type": "text"
      },
      "source": [
        "<a href=\"https://colab.research.google.com/github/GabrielleRab/SRMPmachine/blob/main/data_cleaning_R.ipynb\" target=\"_parent\"><img src=\"https://colab.research.google.com/assets/colab-badge.svg\" alt=\"Open In Colab\"/></a>"
      ]
    },
    {
      "cell_type": "markdown",
      "source": [
        "# **Cleaning our data using R** \n",
        "\n",
        "This colab does the same thing as our Python data cleaning colab, but it is written in a different programming language called \"R\".\n",
        "\n",
        "If you try to run the cells, you will notice that they are out of order! Using the Python colab we've already run together, try to arrange these cells in the correct order. \n",
        "\n",
        "Click on a cell and then use the the up and down arrows to move it around."
      ],
      "metadata": {
        "id": "GoY0XBJcxDdI"
      }
    },
    {
      "cell_type": "code",
      "source": [
        "dim(df)[1]"
      ],
      "metadata": {
        "id": "pI76OD85sF1C"
      },
      "execution_count": null,
      "outputs": []
    },
    {
      "cell_type": "code",
      "source": [
        "boxplot(x=df_clean$pl_bmassj)"
      ],
      "metadata": {
        "id": "BjirEZCmw6G4"
      },
      "execution_count": null,
      "outputs": []
    },
    {
      "cell_type": "code",
      "source": [
        "print(\"Orbital period\")\n",
        "hist(df$pl_orbper)"
      ],
      "metadata": {
        "id": "LOYfoHKkveZU"
      },
      "execution_count": null,
      "outputs": []
    },
    {
      "cell_type": "code",
      "source": [
        "boxplot(x=df$pl_bmassj)"
      ],
      "metadata": {
        "id": "KSnhwix3v23c"
      },
      "execution_count": null,
      "outputs": []
    },
    {
      "cell_type": "code",
      "source": [
        "print(\"Hello world\")"
      ],
      "metadata": {
        "id": "gcQ4Dmqnr7Uw"
      },
      "execution_count": null,
      "outputs": []
    },
    {
      "cell_type": "code",
      "source": [
        "print(\"Planetary mass\")\n",
        "hist(df$pl_bmassj)"
      ],
      "metadata": {
        "id": "XtiYES-dvVNy"
      },
      "execution_count": null,
      "outputs": []
    },
    {
      "cell_type": "code",
      "source": [
        "print(\"Planetary mass\")\n",
        "print(\"mean:\")\n",
        "print(mean(df$pl_bmassj, na.rm = TRUE))\n",
        "print(\"quartiles:\")\n",
        "print(quantile(df$pl_bmassj, na.rm = TRUE))\n",
        "\n",
        "print(\"\")\n",
        "\n",
        "print(\"Orbital period\")\n",
        "print(\"mean:\")\n",
        "print(mean(df$pl_orbper, na.rm = TRUE))\n",
        "print(\"quartiles:\")\n",
        "print(quantile(df$pl_orbper, na.rm = TRUE))\n",
        "\n",
        "print(\"\")\n",
        "\n",
        "print(\"Planetary radius\")\n",
        "print(\"mean:\")\n",
        "print(mean(df$pl_radj, na.rm = TRUE))\n",
        "print(\"quartiles:\")\n",
        "print(quantile(df$pl_radj, na.rm = TRUE))\n",
        "\n",
        "print(\"\")\n",
        "\n",
        "print(\"Star distance\")\n",
        "print(\"mean:\")\n",
        "print(mean(df$sy_dist, na.rm = TRUE))\n",
        "print(\"quartiles:\")\n",
        "print(quantile(df$sy_dist, na.rm = TRUE))"
      ],
      "metadata": {
        "id": "8bxA_fnhsQHS"
      },
      "execution_count": null,
      "outputs": []
    },
    {
      "cell_type": "code",
      "source": [
        "print(\"Planetary radius\")\n",
        "hist(df$pl_radj)"
      ],
      "metadata": {
        "id": "sdeEtQyKvlz-"
      },
      "execution_count": null,
      "outputs": []
    },
    {
      "cell_type": "code",
      "source": [
        "dim(df_clean)[1]"
      ],
      "metadata": {
        "id": "W7p4xyUvwcL3"
      },
      "execution_count": null,
      "outputs": []
    },
    {
      "cell_type": "code",
      "source": [
        "dim(df)[1]-dim(df_clean)[1]"
      ],
      "metadata": {
        "id": "0e-z4SmFweYj"
      },
      "execution_count": null,
      "outputs": []
    },
    {
      "cell_type": "code",
      "source": [
        "print(\"Star distance\")\n",
        "hist(df$sy_dist)"
      ],
      "metadata": {
        "id": "qCTC-MkVvuUj"
      },
      "execution_count": null,
      "outputs": []
    },
    {
      "cell_type": "code",
      "execution_count": null,
      "metadata": {
        "id": "2gCByARxrCC_"
      },
      "outputs": [],
      "source": [
        "df<-read.csv(\"https://raw.githubusercontent.com/GabrielleRab/SRMPmachine/main/datasets/exoplanets.csv\")\n",
        "head(df)"
      ]
    },
    {
      "cell_type": "code",
      "source": [
        "print(\"Planetary mass (cleaned)\")\n",
        "hist(df_clean$pl_bmassj)"
      ],
      "metadata": {
        "id": "urZe0eeEwxfR"
      },
      "execution_count": null,
      "outputs": []
    },
    {
      "cell_type": "code",
      "source": [
        "df_clean<-df[df$pl_bmassj < 13,]"
      ],
      "metadata": {
        "id": "g5ta8no_v-YJ"
      },
      "execution_count": null,
      "outputs": []
    }
  ]
}