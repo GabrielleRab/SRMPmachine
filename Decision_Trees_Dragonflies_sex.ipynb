{
  "cells": [
    {
      "cell_type": "markdown",
      "metadata": {
        "id": "view-in-github",
        "colab_type": "text"
      },
      "source": [
        "<a href=\"https://colab.research.google.com/github/GabrielleRab/SRMPmachine/blob/main/Decision_Trees_Dragonflies_sex.ipynb\" target=\"_parent\"><img src=\"https://colab.research.google.com/assets/colab-badge.svg\" alt=\"Open In Colab\"/></a>"
      ]
    },
    {
      "cell_type": "markdown",
      "metadata": {
        "id": "eg16fWNG_ioj"
      },
      "source": [
        "# **Exploring Dragonfly wings with Decision Trees**\n",
        "\n",
        "### **Step 1:** Identify your question\n",
        "\n",
        "In this colab, you will build a machine learning model to figure out which characteristics of a dragonfly's wing are best correlated with its sex."
      ]
    },
    {
      "cell_type": "markdown",
      "metadata": {
        "id": "TEVDmRuIDesI"
      },
      "source": [
        "### **Step 2:** Select your data\n",
        "\n",
        "## ***Add description of data and column names***"
      ]
    },
    {
      "cell_type": "markdown",
      "metadata": {
        "id": "e_CkpMjbxtmX"
      },
      "source": [
        "Let's load the data into the colab and take a look. Run the cell below to create a dataframe (table) of our data and preview the first five rows:"
      ]
    },
    {
      "cell_type": "code",
      "execution_count": null,
      "metadata": {
        "id": "3l3JLv18DaDg",
        "outputId": "580379da-b550-416f-acc3-f4ea365d5530",
        "colab": {
          "base_uri": "https://localhost:8080/",
          "height": 473
        }
      },
      "outputs": [
        {
          "output_type": "execute_result",
          "data": {
            "text/plain": [
              "       Collection Unique ID    Suborder     Family   Genus     Species  \\\n",
              "0                     36572  Anisoptera  Aeshnidae  Aeshna  canadensis   \n",
              "1                     40718  Anisoptera  Aeshnidae  Aeshna  canadensis   \n",
              "2                     39652  Anisoptera  Aeshnidae  Aeshna  canadensis   \n",
              "3  RU-N:WL:OdoD: 2017 00208  Anisoptera  Aeshnidae  Aeshna  canadensis   \n",
              "4  RU-N:WL:OdoD: 2017 00209  Anisoptera  Aeshnidae  Aeshna  canadensis   \n",
              "\n",
              "        Species name Sex Wing Side  Area FW (mm2)  Area HW (mm2)  ...  \\\n",
              "0  Aeshna canadensis   F     right        373.376        491.105  ...   \n",
              "1  Aeshna canadensis   F     right        427.353        545.907  ...   \n",
              "2  Aeshna canadensis   F     right        356.478        493.993  ...   \n",
              "3  Aeshna canadensis   F     right        360.092        471.772  ...   \n",
              "4  Aeshna canadensis   F     right        375.965        472.819  ...   \n",
              "\n",
              "   Width (outer) HW (mm)  Widest ratio FW  Widest ratio HW  \\\n",
              "0                 15.431         0.556762         0.289720   \n",
              "1                 15.812         0.511051         0.271583   \n",
              "2                 15.494         0.615949         0.305995   \n",
              "3                 15.177         0.622098         0.302613   \n",
              "4                 14.880         0.600734         0.292293   \n",
              "\n",
              "   Slope of thickness FW  Slope of thickness HW  Apex ratio FW  Apex ratio HW  \\\n",
              "0               0.012417              -0.121772       0.592727       0.640604   \n",
              "1               0.008964              -0.105335       0.581911       0.631861   \n",
              "2               0.066308              -0.077950       0.600000       0.658470   \n",
              "3               0.055618              -0.054726       0.565558       0.599721   \n",
              "4               0.045708              -0.059991       0.573896       0.617354   \n",
              "\n",
              "   Tip angle FW (°)  Tip angle HW (°)  Scale calib factor (px/mm)  \n",
              "0        117.457148        109.273755                      47.244  \n",
              "1        113.887191        105.261849                      47.244  \n",
              "2        120.962536        109.693890                      47.244  \n",
              "3        119.703030        112.428416                      47.244  \n",
              "4        119.434881        111.368972                      47.244  \n",
              "\n",
              "[5 rows x 27 columns]"
            ],
            "text/html": [
              "\n",
              "  <div id=\"df-768367b9-f1a7-4d4f-8b95-923a71da9c8b\">\n",
              "    <div class=\"colab-df-container\">\n",
              "      <div>\n",
              "<style scoped>\n",
              "    .dataframe tbody tr th:only-of-type {\n",
              "        vertical-align: middle;\n",
              "    }\n",
              "\n",
              "    .dataframe tbody tr th {\n",
              "        vertical-align: top;\n",
              "    }\n",
              "\n",
              "    .dataframe thead th {\n",
              "        text-align: right;\n",
              "    }\n",
              "</style>\n",
              "<table border=\"1\" class=\"dataframe\">\n",
              "  <thead>\n",
              "    <tr style=\"text-align: right;\">\n",
              "      <th></th>\n",
              "      <th>Collection Unique ID</th>\n",
              "      <th>Suborder</th>\n",
              "      <th>Family</th>\n",
              "      <th>Genus</th>\n",
              "      <th>Species</th>\n",
              "      <th>Species name</th>\n",
              "      <th>Sex</th>\n",
              "      <th>Wing Side</th>\n",
              "      <th>Area FW (mm2)</th>\n",
              "      <th>Area HW (mm2)</th>\n",
              "      <th>...</th>\n",
              "      <th>Width (outer) HW (mm)</th>\n",
              "      <th>Widest ratio FW</th>\n",
              "      <th>Widest ratio HW</th>\n",
              "      <th>Slope of thickness FW</th>\n",
              "      <th>Slope of thickness HW</th>\n",
              "      <th>Apex ratio FW</th>\n",
              "      <th>Apex ratio HW</th>\n",
              "      <th>Tip angle FW (°)</th>\n",
              "      <th>Tip angle HW (°)</th>\n",
              "      <th>Scale calib factor (px/mm)</th>\n",
              "    </tr>\n",
              "  </thead>\n",
              "  <tbody>\n",
              "    <tr>\n",
              "      <th>0</th>\n",
              "      <td>36572</td>\n",
              "      <td>Anisoptera</td>\n",
              "      <td>Aeshnidae</td>\n",
              "      <td>Aeshna</td>\n",
              "      <td>canadensis</td>\n",
              "      <td>Aeshna canadensis</td>\n",
              "      <td>F</td>\n",
              "      <td>right</td>\n",
              "      <td>373.376</td>\n",
              "      <td>491.105</td>\n",
              "      <td>...</td>\n",
              "      <td>15.431</td>\n",
              "      <td>0.556762</td>\n",
              "      <td>0.289720</td>\n",
              "      <td>0.012417</td>\n",
              "      <td>-0.121772</td>\n",
              "      <td>0.592727</td>\n",
              "      <td>0.640604</td>\n",
              "      <td>117.457148</td>\n",
              "      <td>109.273755</td>\n",
              "      <td>47.244</td>\n",
              "    </tr>\n",
              "    <tr>\n",
              "      <th>1</th>\n",
              "      <td>40718</td>\n",
              "      <td>Anisoptera</td>\n",
              "      <td>Aeshnidae</td>\n",
              "      <td>Aeshna</td>\n",
              "      <td>canadensis</td>\n",
              "      <td>Aeshna canadensis</td>\n",
              "      <td>F</td>\n",
              "      <td>right</td>\n",
              "      <td>427.353</td>\n",
              "      <td>545.907</td>\n",
              "      <td>...</td>\n",
              "      <td>15.812</td>\n",
              "      <td>0.511051</td>\n",
              "      <td>0.271583</td>\n",
              "      <td>0.008964</td>\n",
              "      <td>-0.105335</td>\n",
              "      <td>0.581911</td>\n",
              "      <td>0.631861</td>\n",
              "      <td>113.887191</td>\n",
              "      <td>105.261849</td>\n",
              "      <td>47.244</td>\n",
              "    </tr>\n",
              "    <tr>\n",
              "      <th>2</th>\n",
              "      <td>39652</td>\n",
              "      <td>Anisoptera</td>\n",
              "      <td>Aeshnidae</td>\n",
              "      <td>Aeshna</td>\n",
              "      <td>canadensis</td>\n",
              "      <td>Aeshna canadensis</td>\n",
              "      <td>F</td>\n",
              "      <td>right</td>\n",
              "      <td>356.478</td>\n",
              "      <td>493.993</td>\n",
              "      <td>...</td>\n",
              "      <td>15.494</td>\n",
              "      <td>0.615949</td>\n",
              "      <td>0.305995</td>\n",
              "      <td>0.066308</td>\n",
              "      <td>-0.077950</td>\n",
              "      <td>0.600000</td>\n",
              "      <td>0.658470</td>\n",
              "      <td>120.962536</td>\n",
              "      <td>109.693890</td>\n",
              "      <td>47.244</td>\n",
              "    </tr>\n",
              "    <tr>\n",
              "      <th>3</th>\n",
              "      <td>RU-N:WL:OdoD: 2017 00208</td>\n",
              "      <td>Anisoptera</td>\n",
              "      <td>Aeshnidae</td>\n",
              "      <td>Aeshna</td>\n",
              "      <td>canadensis</td>\n",
              "      <td>Aeshna canadensis</td>\n",
              "      <td>F</td>\n",
              "      <td>right</td>\n",
              "      <td>360.092</td>\n",
              "      <td>471.772</td>\n",
              "      <td>...</td>\n",
              "      <td>15.177</td>\n",
              "      <td>0.622098</td>\n",
              "      <td>0.302613</td>\n",
              "      <td>0.055618</td>\n",
              "      <td>-0.054726</td>\n",
              "      <td>0.565558</td>\n",
              "      <td>0.599721</td>\n",
              "      <td>119.703030</td>\n",
              "      <td>112.428416</td>\n",
              "      <td>47.244</td>\n",
              "    </tr>\n",
              "    <tr>\n",
              "      <th>4</th>\n",
              "      <td>RU-N:WL:OdoD: 2017 00209</td>\n",
              "      <td>Anisoptera</td>\n",
              "      <td>Aeshnidae</td>\n",
              "      <td>Aeshna</td>\n",
              "      <td>canadensis</td>\n",
              "      <td>Aeshna canadensis</td>\n",
              "      <td>F</td>\n",
              "      <td>right</td>\n",
              "      <td>375.965</td>\n",
              "      <td>472.819</td>\n",
              "      <td>...</td>\n",
              "      <td>14.880</td>\n",
              "      <td>0.600734</td>\n",
              "      <td>0.292293</td>\n",
              "      <td>0.045708</td>\n",
              "      <td>-0.059991</td>\n",
              "      <td>0.573896</td>\n",
              "      <td>0.617354</td>\n",
              "      <td>119.434881</td>\n",
              "      <td>111.368972</td>\n",
              "      <td>47.244</td>\n",
              "    </tr>\n",
              "  </tbody>\n",
              "</table>\n",
              "<p>5 rows × 27 columns</p>\n",
              "</div>\n",
              "      <button class=\"colab-df-convert\" onclick=\"convertToInteractive('df-768367b9-f1a7-4d4f-8b95-923a71da9c8b')\"\n",
              "              title=\"Convert this dataframe to an interactive table.\"\n",
              "              style=\"display:none;\">\n",
              "        \n",
              "  <svg xmlns=\"http://www.w3.org/2000/svg\" height=\"24px\"viewBox=\"0 0 24 24\"\n",
              "       width=\"24px\">\n",
              "    <path d=\"M0 0h24v24H0V0z\" fill=\"none\"/>\n",
              "    <path d=\"M18.56 5.44l.94 2.06.94-2.06 2.06-.94-2.06-.94-.94-2.06-.94 2.06-2.06.94zm-11 1L8.5 8.5l.94-2.06 2.06-.94-2.06-.94L8.5 2.5l-.94 2.06-2.06.94zm10 10l.94 2.06.94-2.06 2.06-.94-2.06-.94-.94-2.06-.94 2.06-2.06.94z\"/><path d=\"M17.41 7.96l-1.37-1.37c-.4-.4-.92-.59-1.43-.59-.52 0-1.04.2-1.43.59L10.3 9.45l-7.72 7.72c-.78.78-.78 2.05 0 2.83L4 21.41c.39.39.9.59 1.41.59.51 0 1.02-.2 1.41-.59l7.78-7.78 2.81-2.81c.8-.78.8-2.07 0-2.86zM5.41 20L4 18.59l7.72-7.72 1.47 1.35L5.41 20z\"/>\n",
              "  </svg>\n",
              "      </button>\n",
              "      \n",
              "  <style>\n",
              "    .colab-df-container {\n",
              "      display:flex;\n",
              "      flex-wrap:wrap;\n",
              "      gap: 12px;\n",
              "    }\n",
              "\n",
              "    .colab-df-convert {\n",
              "      background-color: #E8F0FE;\n",
              "      border: none;\n",
              "      border-radius: 50%;\n",
              "      cursor: pointer;\n",
              "      display: none;\n",
              "      fill: #1967D2;\n",
              "      height: 32px;\n",
              "      padding: 0 0 0 0;\n",
              "      width: 32px;\n",
              "    }\n",
              "\n",
              "    .colab-df-convert:hover {\n",
              "      background-color: #E2EBFA;\n",
              "      box-shadow: 0px 1px 2px rgba(60, 64, 67, 0.3), 0px 1px 3px 1px rgba(60, 64, 67, 0.15);\n",
              "      fill: #174EA6;\n",
              "    }\n",
              "\n",
              "    [theme=dark] .colab-df-convert {\n",
              "      background-color: #3B4455;\n",
              "      fill: #D2E3FC;\n",
              "    }\n",
              "\n",
              "    [theme=dark] .colab-df-convert:hover {\n",
              "      background-color: #434B5C;\n",
              "      box-shadow: 0px 1px 3px 1px rgba(0, 0, 0, 0.15);\n",
              "      filter: drop-shadow(0px 1px 2px rgba(0, 0, 0, 0.3));\n",
              "      fill: #FFFFFF;\n",
              "    }\n",
              "  </style>\n",
              "\n",
              "      <script>\n",
              "        const buttonEl =\n",
              "          document.querySelector('#df-768367b9-f1a7-4d4f-8b95-923a71da9c8b button.colab-df-convert');\n",
              "        buttonEl.style.display =\n",
              "          google.colab.kernel.accessAllowed ? 'block' : 'none';\n",
              "\n",
              "        async function convertToInteractive(key) {\n",
              "          const element = document.querySelector('#df-768367b9-f1a7-4d4f-8b95-923a71da9c8b');\n",
              "          const dataTable =\n",
              "            await google.colab.kernel.invokeFunction('convertToInteractive',\n",
              "                                                     [key], {});\n",
              "          if (!dataTable) return;\n",
              "\n",
              "          const docLinkHtml = 'Like what you see? Visit the ' +\n",
              "            '<a target=\"_blank\" href=https://colab.research.google.com/notebooks/data_table.ipynb>data table notebook</a>'\n",
              "            + ' to learn more about interactive tables.';\n",
              "          element.innerHTML = '';\n",
              "          dataTable['output_type'] = 'display_data';\n",
              "          await google.colab.output.renderOutput(dataTable, element);\n",
              "          const docLink = document.createElement('div');\n",
              "          docLink.innerHTML = docLinkHtml;\n",
              "          element.appendChild(docLink);\n",
              "        }\n",
              "      </script>\n",
              "    </div>\n",
              "  </div>\n",
              "  "
            ]
          },
          "metadata": {},
          "execution_count": 1
        }
      ],
      "source": [
        "# import the necessary Python libraries\n",
        "import pandas as pd\n",
        "\n",
        "# create a dataframe called \"df\" with the dataset\n",
        "df = pd.read_csv(\"https://raw.githubusercontent.com/GabrielleRab/SRMPmachine/main/datasets/wing_measurements.csv\")\n",
        "\n",
        "# preview the first five rows\n",
        "df.head()"
      ]
    },
    {
      "cell_type": "markdown",
      "metadata": {
        "id": "0O-e1Lpr0P0B"
      },
      "source": [
        "The \"discoverymethod\" column contains the labels for this dataset. It tells us in advance which detection method was used for each exoplanet.\n",
        "\n",
        "##THIS LABEL IS NOT VISIBLE TO ME - SAFI. I believe this is leftover from exoplanets and need to be sex instead here?\n",
        "\n",
        "Suggested text: We are trying the sex of new dragonfly specimen that we may find. In our training data, the \"sex\" column contains labels for the sex for this dataset. This makes this dataset a \"labelled\" dataset with pre-existing \"sex\" labels for existing dragonfly wings. Now let's try to see how big our dataset is."
      ]
    },
    {
      "cell_type": "markdown",
      "metadata": {
        "id": "A8tqBQAhzy73"
      },
      "source": [
        "Run the code below to find out how many rows are in our dataset. Each row represents a dragonfly wing's information that has been collected.\n",
        "\n",
        "Let's also check how many of those are Male or Female."
      ]
    },
    {
      "cell_type": "code",
      "execution_count": null,
      "metadata": {
        "id": "8rP0ExL5zxnt",
        "colab": {
          "base_uri": "https://localhost:8080/"
        },
        "outputId": "26891b08-bd95-4476-bd72-c100a46e42e7"
      },
      "outputs": [
        {
          "output_type": "stream",
          "name": "stdout",
          "text": [
            "4665\n",
            "M    3012\n",
            "F    1653\n",
            "Name: Sex, dtype: int64\n"
          ]
        }
      ],
      "source": [
        "# return the number of rows in the dataset\n",
        "print (len(df))\n",
        "\n",
        "# count the frequency of different values in the \"Sex\" column (M/F)\n",
        "dfsex = df1 = df['Sex'].value_counts()\n",
        "print(dfsex)\n"
      ]
    },
    {
      "cell_type": "markdown",
      "metadata": {
        "id": "0DO64X0aET2F"
      },
      "source": [
        "### **Step 3:** Choose your method\n",
        "\n",
        "We will be using the Decision Tree method today, as it is a good fit for categorizing labeled data.\n",
        "\n",
        "Run the code below to import the necessary Python libraries for creating Decision Trees."
      ]
    },
    {
      "cell_type": "code",
      "execution_count": null,
      "metadata": {
        "id": "W7BtJ4Td0qlQ"
      },
      "outputs": [],
      "source": [
        "#import necessary Python libraries\n",
        "from sklearn.model_selection import train_test_split\n",
        "from sklearn.preprocessing import StandardScaler\n",
        "from sklearn import tree\n",
        "from sklearn.tree import DecisionTreeClassifier\n",
        "from sklearn.metrics import accuracy_score\n",
        "import graphviz\n",
        "from numpy.ma.extras import unique"
      ]
    },
    {
      "cell_type": "markdown",
      "metadata": {
        "id": "yQd76u9wbIoO"
      },
      "source": [
        "### **Step 4:** Prepare your data\n",
        "\n",
        "Decision Trees work best when the features being analyzed are numerical. Aside from our labels (\"sex\"), there are several other columns with non-numerical data. We will remove those now."
      ]
    },
    {
      "cell_type": "code",
      "execution_count": null,
      "metadata": {
        "id": "XoYfvbw4cUOa",
        "colab": {
          "base_uri": "https://localhost:8080/",
          "height": 565
        },
        "outputId": "3aa6b531-9768-42e6-b329-93c3e1cc54e6"
      },
      "outputs": [
        {
          "output_type": "stream",
          "name": "stderr",
          "text": [
            "<ipython-input-4-779320cdcb59>:2: FutureWarning: In a future version of pandas all arguments of DataFrame.drop except for the argument 'labels' will be keyword-only.\n",
            "  df = df.drop('Collection Unique ID', 1)\n",
            "<ipython-input-4-779320cdcb59>:3: FutureWarning: In a future version of pandas all arguments of DataFrame.drop except for the argument 'labels' will be keyword-only.\n",
            "  df = df.drop('Suborder', 1)\n",
            "<ipython-input-4-779320cdcb59>:4: FutureWarning: In a future version of pandas all arguments of DataFrame.drop except for the argument 'labels' will be keyword-only.\n",
            "  df = df.drop('Family', 1)\n",
            "<ipython-input-4-779320cdcb59>:5: FutureWarning: In a future version of pandas all arguments of DataFrame.drop except for the argument 'labels' will be keyword-only.\n",
            "  df = df.drop('Genus', 1)\n",
            "<ipython-input-4-779320cdcb59>:6: FutureWarning: In a future version of pandas all arguments of DataFrame.drop except for the argument 'labels' will be keyword-only.\n",
            "  df = df.drop('Species', 1)\n",
            "<ipython-input-4-779320cdcb59>:7: FutureWarning: In a future version of pandas all arguments of DataFrame.drop except for the argument 'labels' will be keyword-only.\n",
            "  df = df.drop('Species name', 1)\n",
            "<ipython-input-4-779320cdcb59>:8: FutureWarning: In a future version of pandas all arguments of DataFrame.drop except for the argument 'labels' will be keyword-only.\n",
            "  df = df.drop('Wing Side', 1)\n"
          ]
        },
        {
          "output_type": "execute_result",
          "data": {
            "text/plain": [
              "  Sex  Area FW (mm2)  Area HW (mm2)  Length (inner) FW (mm)  \\\n",
              "0   F        373.376        491.105                  42.630   \n",
              "1   F        427.353        545.907                  46.524   \n",
              "2   F        356.478        493.993                  43.180   \n",
              "3   F        360.092        471.772                  44.810   \n",
              "4   F        375.965        472.819                  45.191   \n",
              "\n",
              "   Length (inner) HW (mm)  Length (outer) FW (mm)  Length (outer) HW (mm)  \\\n",
              "0                  42.355                  42.884                  43.032   \n",
              "1                  46.355                  46.927                  47.075   \n",
              "2                  43.201                  43.265                  44.133   \n",
              "3                  42.990                  45.593                  44.556   \n",
              "4                  42.609                  46.122                  45.043   \n",
              "\n",
              "   Width (inner) FW (mm)  Width (inner) HW (mm)  Width (outer) FW (mm)  \\\n",
              "0                 11.028                 14.012                 11.642   \n",
              "1                 11.451                 14.859                 12.404   \n",
              "2                 10.880                 14.245                 11.430   \n",
              "3                 10.160                 13.483                 10.816   \n",
              "4                 10.520                 13.229                 11.028   \n",
              "\n",
              "   Width (outer) HW (mm)  Widest ratio FW  Widest ratio HW  \\\n",
              "0                 15.431         0.556762         0.289720   \n",
              "1                 15.812         0.511051         0.271583   \n",
              "2                 15.494         0.615949         0.305995   \n",
              "3                 15.177         0.622098         0.302613   \n",
              "4                 14.880         0.600734         0.292293   \n",
              "\n",
              "   Slope of thickness FW  Slope of thickness HW  Apex ratio FW  Apex ratio HW  \\\n",
              "0               0.012417              -0.121772       0.592727       0.640604   \n",
              "1               0.008964              -0.105335       0.581911       0.631861   \n",
              "2               0.066308              -0.077950       0.600000       0.658470   \n",
              "3               0.055618              -0.054726       0.565558       0.599721   \n",
              "4               0.045708              -0.059991       0.573896       0.617354   \n",
              "\n",
              "   Tip angle FW (°)  Tip angle HW (°)  Scale calib factor (px/mm)  \n",
              "0        117.457148        109.273755                      47.244  \n",
              "1        113.887191        105.261849                      47.244  \n",
              "2        120.962536        109.693890                      47.244  \n",
              "3        119.703030        112.428416                      47.244  \n",
              "4        119.434881        111.368972                      47.244  "
            ],
            "text/html": [
              "\n",
              "  <div id=\"df-f6b6aa0d-c220-4eba-9b7b-1045234aecb2\">\n",
              "    <div class=\"colab-df-container\">\n",
              "      <div>\n",
              "<style scoped>\n",
              "    .dataframe tbody tr th:only-of-type {\n",
              "        vertical-align: middle;\n",
              "    }\n",
              "\n",
              "    .dataframe tbody tr th {\n",
              "        vertical-align: top;\n",
              "    }\n",
              "\n",
              "    .dataframe thead th {\n",
              "        text-align: right;\n",
              "    }\n",
              "</style>\n",
              "<table border=\"1\" class=\"dataframe\">\n",
              "  <thead>\n",
              "    <tr style=\"text-align: right;\">\n",
              "      <th></th>\n",
              "      <th>Sex</th>\n",
              "      <th>Area FW (mm2)</th>\n",
              "      <th>Area HW (mm2)</th>\n",
              "      <th>Length (inner) FW (mm)</th>\n",
              "      <th>Length (inner) HW (mm)</th>\n",
              "      <th>Length (outer) FW (mm)</th>\n",
              "      <th>Length (outer) HW (mm)</th>\n",
              "      <th>Width (inner) FW (mm)</th>\n",
              "      <th>Width (inner) HW (mm)</th>\n",
              "      <th>Width (outer) FW (mm)</th>\n",
              "      <th>Width (outer) HW (mm)</th>\n",
              "      <th>Widest ratio FW</th>\n",
              "      <th>Widest ratio HW</th>\n",
              "      <th>Slope of thickness FW</th>\n",
              "      <th>Slope of thickness HW</th>\n",
              "      <th>Apex ratio FW</th>\n",
              "      <th>Apex ratio HW</th>\n",
              "      <th>Tip angle FW (°)</th>\n",
              "      <th>Tip angle HW (°)</th>\n",
              "      <th>Scale calib factor (px/mm)</th>\n",
              "    </tr>\n",
              "  </thead>\n",
              "  <tbody>\n",
              "    <tr>\n",
              "      <th>0</th>\n",
              "      <td>F</td>\n",
              "      <td>373.376</td>\n",
              "      <td>491.105</td>\n",
              "      <td>42.630</td>\n",
              "      <td>42.355</td>\n",
              "      <td>42.884</td>\n",
              "      <td>43.032</td>\n",
              "      <td>11.028</td>\n",
              "      <td>14.012</td>\n",
              "      <td>11.642</td>\n",
              "      <td>15.431</td>\n",
              "      <td>0.556762</td>\n",
              "      <td>0.289720</td>\n",
              "      <td>0.012417</td>\n",
              "      <td>-0.121772</td>\n",
              "      <td>0.592727</td>\n",
              "      <td>0.640604</td>\n",
              "      <td>117.457148</td>\n",
              "      <td>109.273755</td>\n",
              "      <td>47.244</td>\n",
              "    </tr>\n",
              "    <tr>\n",
              "      <th>1</th>\n",
              "      <td>F</td>\n",
              "      <td>427.353</td>\n",
              "      <td>545.907</td>\n",
              "      <td>46.524</td>\n",
              "      <td>46.355</td>\n",
              "      <td>46.927</td>\n",
              "      <td>47.075</td>\n",
              "      <td>11.451</td>\n",
              "      <td>14.859</td>\n",
              "      <td>12.404</td>\n",
              "      <td>15.812</td>\n",
              "      <td>0.511051</td>\n",
              "      <td>0.271583</td>\n",
              "      <td>0.008964</td>\n",
              "      <td>-0.105335</td>\n",
              "      <td>0.581911</td>\n",
              "      <td>0.631861</td>\n",
              "      <td>113.887191</td>\n",
              "      <td>105.261849</td>\n",
              "      <td>47.244</td>\n",
              "    </tr>\n",
              "    <tr>\n",
              "      <th>2</th>\n",
              "      <td>F</td>\n",
              "      <td>356.478</td>\n",
              "      <td>493.993</td>\n",
              "      <td>43.180</td>\n",
              "      <td>43.201</td>\n",
              "      <td>43.265</td>\n",
              "      <td>44.133</td>\n",
              "      <td>10.880</td>\n",
              "      <td>14.245</td>\n",
              "      <td>11.430</td>\n",
              "      <td>15.494</td>\n",
              "      <td>0.615949</td>\n",
              "      <td>0.305995</td>\n",
              "      <td>0.066308</td>\n",
              "      <td>-0.077950</td>\n",
              "      <td>0.600000</td>\n",
              "      <td>0.658470</td>\n",
              "      <td>120.962536</td>\n",
              "      <td>109.693890</td>\n",
              "      <td>47.244</td>\n",
              "    </tr>\n",
              "    <tr>\n",
              "      <th>3</th>\n",
              "      <td>F</td>\n",
              "      <td>360.092</td>\n",
              "      <td>471.772</td>\n",
              "      <td>44.810</td>\n",
              "      <td>42.990</td>\n",
              "      <td>45.593</td>\n",
              "      <td>44.556</td>\n",
              "      <td>10.160</td>\n",
              "      <td>13.483</td>\n",
              "      <td>10.816</td>\n",
              "      <td>15.177</td>\n",
              "      <td>0.622098</td>\n",
              "      <td>0.302613</td>\n",
              "      <td>0.055618</td>\n",
              "      <td>-0.054726</td>\n",
              "      <td>0.565558</td>\n",
              "      <td>0.599721</td>\n",
              "      <td>119.703030</td>\n",
              "      <td>112.428416</td>\n",
              "      <td>47.244</td>\n",
              "    </tr>\n",
              "    <tr>\n",
              "      <th>4</th>\n",
              "      <td>F</td>\n",
              "      <td>375.965</td>\n",
              "      <td>472.819</td>\n",
              "      <td>45.191</td>\n",
              "      <td>42.609</td>\n",
              "      <td>46.122</td>\n",
              "      <td>45.043</td>\n",
              "      <td>10.520</td>\n",
              "      <td>13.229</td>\n",
              "      <td>11.028</td>\n",
              "      <td>14.880</td>\n",
              "      <td>0.600734</td>\n",
              "      <td>0.292293</td>\n",
              "      <td>0.045708</td>\n",
              "      <td>-0.059991</td>\n",
              "      <td>0.573896</td>\n",
              "      <td>0.617354</td>\n",
              "      <td>119.434881</td>\n",
              "      <td>111.368972</td>\n",
              "      <td>47.244</td>\n",
              "    </tr>\n",
              "  </tbody>\n",
              "</table>\n",
              "</div>\n",
              "      <button class=\"colab-df-convert\" onclick=\"convertToInteractive('df-f6b6aa0d-c220-4eba-9b7b-1045234aecb2')\"\n",
              "              title=\"Convert this dataframe to an interactive table.\"\n",
              "              style=\"display:none;\">\n",
              "        \n",
              "  <svg xmlns=\"http://www.w3.org/2000/svg\" height=\"24px\"viewBox=\"0 0 24 24\"\n",
              "       width=\"24px\">\n",
              "    <path d=\"M0 0h24v24H0V0z\" fill=\"none\"/>\n",
              "    <path d=\"M18.56 5.44l.94 2.06.94-2.06 2.06-.94-2.06-.94-.94-2.06-.94 2.06-2.06.94zm-11 1L8.5 8.5l.94-2.06 2.06-.94-2.06-.94L8.5 2.5l-.94 2.06-2.06.94zm10 10l.94 2.06.94-2.06 2.06-.94-2.06-.94-.94-2.06-.94 2.06-2.06.94z\"/><path d=\"M17.41 7.96l-1.37-1.37c-.4-.4-.92-.59-1.43-.59-.52 0-1.04.2-1.43.59L10.3 9.45l-7.72 7.72c-.78.78-.78 2.05 0 2.83L4 21.41c.39.39.9.59 1.41.59.51 0 1.02-.2 1.41-.59l7.78-7.78 2.81-2.81c.8-.78.8-2.07 0-2.86zM5.41 20L4 18.59l7.72-7.72 1.47 1.35L5.41 20z\"/>\n",
              "  </svg>\n",
              "      </button>\n",
              "      \n",
              "  <style>\n",
              "    .colab-df-container {\n",
              "      display:flex;\n",
              "      flex-wrap:wrap;\n",
              "      gap: 12px;\n",
              "    }\n",
              "\n",
              "    .colab-df-convert {\n",
              "      background-color: #E8F0FE;\n",
              "      border: none;\n",
              "      border-radius: 50%;\n",
              "      cursor: pointer;\n",
              "      display: none;\n",
              "      fill: #1967D2;\n",
              "      height: 32px;\n",
              "      padding: 0 0 0 0;\n",
              "      width: 32px;\n",
              "    }\n",
              "\n",
              "    .colab-df-convert:hover {\n",
              "      background-color: #E2EBFA;\n",
              "      box-shadow: 0px 1px 2px rgba(60, 64, 67, 0.3), 0px 1px 3px 1px rgba(60, 64, 67, 0.15);\n",
              "      fill: #174EA6;\n",
              "    }\n",
              "\n",
              "    [theme=dark] .colab-df-convert {\n",
              "      background-color: #3B4455;\n",
              "      fill: #D2E3FC;\n",
              "    }\n",
              "\n",
              "    [theme=dark] .colab-df-convert:hover {\n",
              "      background-color: #434B5C;\n",
              "      box-shadow: 0px 1px 3px 1px rgba(0, 0, 0, 0.15);\n",
              "      filter: drop-shadow(0px 1px 2px rgba(0, 0, 0, 0.3));\n",
              "      fill: #FFFFFF;\n",
              "    }\n",
              "  </style>\n",
              "\n",
              "      <script>\n",
              "        const buttonEl =\n",
              "          document.querySelector('#df-f6b6aa0d-c220-4eba-9b7b-1045234aecb2 button.colab-df-convert');\n",
              "        buttonEl.style.display =\n",
              "          google.colab.kernel.accessAllowed ? 'block' : 'none';\n",
              "\n",
              "        async function convertToInteractive(key) {\n",
              "          const element = document.querySelector('#df-f6b6aa0d-c220-4eba-9b7b-1045234aecb2');\n",
              "          const dataTable =\n",
              "            await google.colab.kernel.invokeFunction('convertToInteractive',\n",
              "                                                     [key], {});\n",
              "          if (!dataTable) return;\n",
              "\n",
              "          const docLinkHtml = 'Like what you see? Visit the ' +\n",
              "            '<a target=\"_blank\" href=https://colab.research.google.com/notebooks/data_table.ipynb>data table notebook</a>'\n",
              "            + ' to learn more about interactive tables.';\n",
              "          element.innerHTML = '';\n",
              "          dataTable['output_type'] = 'display_data';\n",
              "          await google.colab.output.renderOutput(dataTable, element);\n",
              "          const docLink = document.createElement('div');\n",
              "          docLink.innerHTML = docLinkHtml;\n",
              "          element.appendChild(docLink);\n",
              "        }\n",
              "      </script>\n",
              "    </div>\n",
              "  </div>\n",
              "  "
            ]
          },
          "metadata": {},
          "execution_count": 4
        }
      ],
      "source": [
        "#We will remove columns we don't need for this investigation\n",
        "df = df.drop('Collection Unique ID', 1)\n",
        "df = df.drop('Suborder', 1)\n",
        "df = df.drop('Family', 1)\n",
        "df = df.drop('Genus', 1)\n",
        "df = df.drop('Species', 1)\n",
        "df = df.drop('Species name', 1)\n",
        "df = df.drop('Wing Side', 1)\n",
        "\n",
        "#Return the first 5 rows of the dataframe\n",
        "df.head()"
      ]
    },
    {
      "cell_type": "markdown",
      "metadata": {
        "id": "Ep52vMKU3OqZ"
      },
      "source": [
        "Since we aren't worried about preserving any of the information from missing values, we can remove all of the rows with anything missing. Run the code below to do so:"
      ]
    },
    {
      "cell_type": "code",
      "execution_count": null,
      "metadata": {
        "id": "k-o6tx7Ndv2Z",
        "colab": {
          "base_uri": "https://localhost:8080/"
        },
        "outputId": "ea785c80-b10e-43c1-d994-9da85a3faa34"
      },
      "outputs": [
        {
          "output_type": "stream",
          "name": "stdout",
          "text": [
            "4665\n"
          ]
        }
      ],
      "source": [
        "#Remove any rows with missing values\n",
        "df = df.dropna()\n",
        "\n",
        "#Return the remaining number of rows\n",
        "print(len(df))"
      ]
    },
    {
      "cell_type": "markdown",
      "metadata": {
        "id": "2HFLL80Q49Zd"
      },
      "source": [
        "We just removed 5 rows from our dataset."
      ]
    },
    {
      "cell_type": "markdown",
      "metadata": {
        "id": "Cvu0MXEF6TKR"
      },
      "source": [
        "Now that our dataset is ready, let's check it for balance. Are there the same number of male and female dragonflies? Run the code below to find out:"
      ]
    },
    {
      "cell_type": "code",
      "execution_count": null,
      "metadata": {
        "id": "wJCwwfWOeovg",
        "colab": {
          "base_uri": "https://localhost:8080/"
        },
        "outputId": "d227e6de-c2a2-4dcc-f497-20547c8d988e"
      },
      "outputs": [
        {
          "output_type": "stream",
          "name": "stdout",
          "text": [
            "Male: 3012\n",
            "Female: 1653\n"
          ]
        }
      ],
      "source": [
        "#Return the number of rows with either Radial Velocity or Transit for discovery method\n",
        "print(\"Male:\",len(df[df.Sex == 'M']))\n",
        "print(\"Female:\",len(df[df.Sex == 'F']))"
      ]
    },
    {
      "cell_type": "markdown",
      "metadata": {
        "id": "gMMJgjEm6jPA"
      },
      "source": [
        "As it turns out, there are significantly more male dragonflies than female dragonflies.\n",
        "\n",
        "**Bias Alert:** This introduces a possible source of statistical bias into our analysis. Our decision tree may end up better prepared to identify male vs female dragonflies because it has more information about them.\n",
        "\n",
        "One way to address this source of bias is to ensure that our training and testing data both contain enough dragonflies of each sex. Another is to make sure that we have a large enough training dataset to include sufficient female dragonflies."
      ]
    },
    {
      "cell_type": "markdown",
      "metadata": {
        "id": "DC0k603a8n7R"
      },
      "source": [
        "Now it's time to split our data into a training and a testing dataset.\n",
        "\n",
        "**Bias Alert:** If we split our data 50/50 and we see a difference in the number of dragonflies of each sex in the two halves, it's a sign that our data is sorted.\n",
        "\n",
        "Run the code below to check:"
      ]
    },
    {
      "cell_type": "code",
      "source": [
        "#Create a dataframe with the first half of our data\n",
        "df_first = df[0:2214]\n",
        "\n",
        "#Create a dataframe with the second half of our data\n",
        "df_last = df[2214:4429]\n",
        "\n",
        "#Return the number of exoplanets detected using each method for both halves\n",
        "print(\"First Half\")\n",
        "print(\"Male:\",len(df_first[df_first.Sex == 'M']))\n",
        "print(\"Female:\",len(df_first[df_first.Sex == 'F']))\n",
        "print(\"\")\n",
        "print(\"Second Half\")\n",
        "print(\"Male:\",len(df_last[df_last.Sex == 'M']))\n",
        "print(\"Female:\",len(df_last[df_last.Sex == 'F']))"
      ],
      "metadata": {
        "id": "xEZG7dGT_TVP",
        "colab": {
          "base_uri": "https://localhost:8080/"
        },
        "outputId": "805227ca-9924-4498-eea4-800f61a52058"
      },
      "execution_count": null,
      "outputs": [
        {
          "output_type": "stream",
          "name": "stdout",
          "text": [
            "First Half\n",
            "Male: 1452\n",
            "Female: 762\n",
            "\n",
            "Second Half\n",
            "Male: 1388\n",
            "Female: 827\n"
          ]
        }
      ]
    },
    {
      "cell_type": "markdown",
      "source": [
        "Our dataset does not appear to be sorted.\n",
        "\n",
        "But just to double check, let's create a random split instead. Run the code below to do so:"
      ],
      "metadata": {
        "id": "2wQpoLZG_7vn"
      }
    },
    {
      "cell_type": "code",
      "execution_count": null,
      "metadata": {
        "id": "mfNcjA8rLWbe"
      },
      "outputs": [],
      "source": [
        "#Get the features and labels from the data\n",
        "x = df.drop(['Sex'], axis=1)\n",
        "y = df['Sex']\n",
        "\n",
        "#Specify a 50% split\n",
        "training_percentage = 50\n",
        "\n",
        "#Create the training and testing datasets\n",
        "X_train, X_test, Y_train, Y_test = train_test_split(x, y, train_size=training_percentage/100)"
      ]
    },
    {
      "cell_type": "markdown",
      "metadata": {
        "id": "hg2O6Ty-Mp9G"
      },
      "source": [
        "### **Step 5:** Train the model\n",
        "\n",
        "Now it's time to make our decision tree. We will also need to set the hyperparameters (values that control how the model learns and makes decisions). In this case we will specify the maximum depth and the criterion the model will use to evaluate each feature.\n",
        "\n",
        "The \"Gini index\" is a measure of how pure the split is for each node in the Decision Tree. A lower Gini index indicates a more pure split.\n",
        "\n",
        "Run the code below to create your model:"
      ]
    },
    {
      "cell_type": "code",
      "execution_count": null,
      "metadata": {
        "id": "F8Z877SLNSx3"
      },
      "outputs": [],
      "source": [
        "#Create a decision tree classifier called \"clf\"\n",
        "clf = DecisionTreeClassifier(criterion='gini', max_depth=2, random_state=0)"
      ]
    },
    {
      "cell_type": "markdown",
      "metadata": {
        "id": "cxZowIOUOjmj"
      },
      "source": [
        "Now that we have created a decision tree it's time to train it using our training dataset. We will also evaluate the model's accuracy (what percent of exoplanets did it correctly classify based on discovery method).\n",
        "\n",
        "Run the code below to train and evaluate our model:"
      ]
    },
    {
      "cell_type": "code",
      "execution_count": null,
      "metadata": {
        "id": "GNVwoVZlOkAU",
        "colab": {
          "base_uri": "https://localhost:8080/"
        },
        "outputId": "ff4e3dfb-3de7-4f39-fc05-bba1cd57e780"
      },
      "outputs": [
        {
          "output_type": "stream",
          "name": "stdout",
          "text": [
            "\n",
            "Training Accuracy (%):  67.53859348198971\n"
          ]
        }
      ],
      "source": [
        "#Train the model\n",
        "clf.fit(X_train, Y_train)\n",
        "\n",
        "#Print the training accuracy\n",
        "print('\\nTraining Accuracy (%): ',(100*(clf.score(X_train,Y_train))))"
      ]
    },
    {
      "cell_type": "markdown",
      "source": [
        "## ***Add interpretation of training accuracy***\n",
        "\n",
        "We can try to address this by training the model with a few different split percentages (instead of a 50/50 train/test split). Run the code below to see how they compare:"
      ],
      "metadata": {
        "id": "ooIT8KM9BbHz"
      }
    },
    {
      "cell_type": "code",
      "source": [
        "#Train and test the model with a 40% training percentage\n",
        "X_train_b, X_test_b, Y_train_b, Y_test_b = train_test_split(x, y, train_size=40/100)\n",
        "clf_b = DecisionTreeClassifier(criterion='gini', max_depth=2)\n",
        "clf_b.fit(X_train, Y_train)\n",
        "print('Training Accuracy (%) for 40/60 split: ',(100*(clf_b.score(X_train_b,Y_train_b))))\n",
        "\n",
        "#Create the training and testing datasets with a 30% training percentage\n",
        "X_train_c, X_test_c, Y_train_c, Y_test_c = train_test_split(x, y, train_size=30/100)\n",
        "clf_c = DecisionTreeClassifier(criterion='gini', max_depth=2)\n",
        "clf_c.fit(X_train_c, Y_train_c)\n",
        "print('Training Accuracy (%) for 30/70 split: ',(100*(clf_c.score(X_train,Y_train))))"
      ],
      "metadata": {
        "id": "E6J1jAoBBwLv",
        "colab": {
          "base_uri": "https://localhost:8080/"
        },
        "outputId": "5408fcfc-4c6e-4957-e172-da1dd347297b"
      },
      "execution_count": null,
      "outputs": [
        {
          "output_type": "stream",
          "name": "stdout",
          "text": [
            "Training Accuracy (%) for 40/60 split:  64.7374062165059\n",
            "Training Accuracy (%) for 30/70 split:  65.2229845626072\n"
          ]
        }
      ]
    },
    {
      "cell_type": "markdown",
      "source": [
        "Rerun the code above a few times to see how the results change.\n",
        "\n",
        "Our Decision Tree's training accuracy is always around 64%, regardless of the split percentage we use."
      ],
      "metadata": {
        "id": "gKLO2fcoDe02"
      }
    },
    {
      "cell_type": "markdown",
      "metadata": {
        "id": "XkrDKDZUQ7EU"
      },
      "source": [
        "Now that we have trained our model, we can see which features it is using to make predictions.\n",
        "\n",
        "Run the code below to visualize the tree based off of the original 50/50 split:"
      ]
    },
    {
      "cell_type": "code",
      "execution_count": null,
      "metadata": {
        "id": "jthDniVbRbgR",
        "colab": {
          "base_uri": "https://localhost:8080/",
          "height": 440
        },
        "outputId": "2d07d44d-48d9-4da8-9ab6-eb8ec3d9a5bd"
      },
      "outputs": [
        {
          "output_type": "execute_result",
          "data": {
            "image/svg+xml": "<?xml version=\"1.0\" encoding=\"UTF-8\" standalone=\"no\"?>\n<!DOCTYPE svg PUBLIC \"-//W3C//DTD SVG 1.1//EN\"\n \"http://www.w3.org/Graphics/SVG/1.1/DTD/svg11.dtd\">\n<!-- Generated by graphviz version 2.43.0 (0)\n -->\n<!-- Title: Tree Pages: 1 -->\n<svg width=\"587pt\" height=\"314pt\"\n viewBox=\"0.00 0.00 587.00 314.00\" xmlns=\"http://www.w3.org/2000/svg\" xmlns:xlink=\"http://www.w3.org/1999/xlink\">\n<g id=\"graph0\" class=\"graph\" transform=\"scale(1 1) rotate(0) translate(4 310)\">\n<title>Tree</title>\n<polygon fill=\"white\" stroke=\"transparent\" points=\"-4,4 -4,-310 583,-310 583,4 -4,4\"/>\n<!-- 0 -->\n<g id=\"node1\" class=\"node\">\n<title>0</title>\n<path fill=\"#a3d1f3\" stroke=\"black\" d=\"M355.5,-306C355.5,-306 215.5,-306 215.5,-306 209.5,-306 203.5,-300 203.5,-294 203.5,-294 203.5,-235 203.5,-235 203.5,-229 209.5,-223 215.5,-223 215.5,-223 355.5,-223 355.5,-223 361.5,-223 367.5,-229 367.5,-235 367.5,-235 367.5,-294 367.5,-294 367.5,-300 361.5,-306 355.5,-306\"/>\n<text text-anchor=\"start\" x=\"211.5\" y=\"-290.8\" font-family=\"Helvetica,sans-Serif\" font-size=\"14.00\">Widest ratio HW ≤ 0.283</text>\n<text text-anchor=\"start\" x=\"250\" y=\"-275.8\" font-family=\"Helvetica,sans-Serif\" font-size=\"14.00\">gini = 0.454</text>\n<text text-anchor=\"start\" x=\"237\" y=\"-260.8\" font-family=\"Helvetica,sans-Serif\" font-size=\"14.00\">samples = 2332</text>\n<text text-anchor=\"start\" x=\"227.5\" y=\"-245.8\" font-family=\"Helvetica,sans-Serif\" font-size=\"14.00\">value = [811, 1521]</text>\n<text text-anchor=\"start\" x=\"256\" y=\"-230.8\" font-family=\"Helvetica,sans-Serif\" font-size=\"14.00\">class = M</text>\n</g>\n<!-- 1 -->\n<g id=\"node2\" class=\"node\">\n<title>1</title>\n<path fill=\"#80c0ee\" stroke=\"black\" d=\"M274,-187C274,-187 83,-187 83,-187 77,-187 71,-181 71,-175 71,-175 71,-116 71,-116 71,-110 77,-104 83,-104 83,-104 274,-104 274,-104 280,-104 286,-110 286,-116 286,-116 286,-175 286,-175 286,-181 280,-187 274,-187\"/>\n<text text-anchor=\"start\" x=\"79\" y=\"-171.8\" font-family=\"Helvetica,sans-Serif\" font-size=\"14.00\">Width (outer) HW (mm) ≤ 16.849</text>\n<text text-anchor=\"start\" x=\"146.5\" y=\"-156.8\" font-family=\"Helvetica,sans-Serif\" font-size=\"14.00\">gini = 0.39</text>\n<text text-anchor=\"start\" x=\"133.5\" y=\"-141.8\" font-family=\"Helvetica,sans-Serif\" font-size=\"14.00\">samples = 977</text>\n<text text-anchor=\"start\" x=\"124\" y=\"-126.8\" font-family=\"Helvetica,sans-Serif\" font-size=\"14.00\">value = [259, 718]</text>\n<text text-anchor=\"start\" x=\"149\" y=\"-111.8\" font-family=\"Helvetica,sans-Serif\" font-size=\"14.00\">class = M</text>\n</g>\n<!-- 0&#45;&gt;1 -->\n<g id=\"edge1\" class=\"edge\">\n<title>0&#45;&gt;1</title>\n<path fill=\"none\" stroke=\"black\" d=\"M248.38,-222.91C239.99,-213.74 231.02,-203.93 222.39,-194.49\"/>\n<polygon fill=\"black\" stroke=\"black\" points=\"224.89,-192.04 215.56,-187.02 219.72,-196.76 224.89,-192.04\"/>\n<text text-anchor=\"middle\" x=\"214.44\" y=\"-208.3\" font-family=\"Helvetica,sans-Serif\" font-size=\"14.00\">True</text>\n</g>\n<!-- 4 -->\n<g id=\"node5\" class=\"node\">\n<title>4</title>\n<path fill=\"#c1e0f7\" stroke=\"black\" d=\"M471,-187C471,-187 316,-187 316,-187 310,-187 304,-181 304,-175 304,-175 304,-116 304,-116 304,-110 310,-104 316,-104 316,-104 471,-104 471,-104 477,-104 483,-110 483,-116 483,-116 483,-175 483,-175 483,-181 477,-187 471,-187\"/>\n<text text-anchor=\"start\" x=\"312\" y=\"-171.8\" font-family=\"Helvetica,sans-Serif\" font-size=\"14.00\">Tip angle FW (°) ≤ 123.946</text>\n<text text-anchor=\"start\" x=\"358\" y=\"-156.8\" font-family=\"Helvetica,sans-Serif\" font-size=\"14.00\">gini = 0.483</text>\n<text text-anchor=\"start\" x=\"345\" y=\"-141.8\" font-family=\"Helvetica,sans-Serif\" font-size=\"14.00\">samples = 1355</text>\n<text text-anchor=\"start\" x=\"339\" y=\"-126.8\" font-family=\"Helvetica,sans-Serif\" font-size=\"14.00\">value = [552, 803]</text>\n<text text-anchor=\"start\" x=\"364\" y=\"-111.8\" font-family=\"Helvetica,sans-Serif\" font-size=\"14.00\">class = M</text>\n</g>\n<!-- 0&#45;&gt;4 -->\n<g id=\"edge4\" class=\"edge\">\n<title>0&#45;&gt;4</title>\n<path fill=\"none\" stroke=\"black\" d=\"M322.97,-222.91C331.43,-213.74 340.49,-203.93 349.2,-194.49\"/>\n<polygon fill=\"black\" stroke=\"black\" points=\"351.89,-196.74 356.1,-187.02 346.74,-191.99 351.89,-196.74\"/>\n<text text-anchor=\"middle\" x=\"357.1\" y=\"-208.3\" font-family=\"Helvetica,sans-Serif\" font-size=\"14.00\">False</text>\n</g>\n<!-- 2 -->\n<g id=\"node3\" class=\"node\">\n<title>2</title>\n<path fill=\"#78bced\" stroke=\"black\" d=\"M113,-68C113,-68 12,-68 12,-68 6,-68 0,-62 0,-56 0,-56 0,-12 0,-12 0,-6 6,0 12,0 12,0 113,0 113,0 119,0 125,-6 125,-12 125,-12 125,-56 125,-56 125,-62 119,-68 113,-68\"/>\n<text text-anchor=\"start\" x=\"27\" y=\"-52.8\" font-family=\"Helvetica,sans-Serif\" font-size=\"14.00\">gini = 0.367</text>\n<text text-anchor=\"start\" x=\"17.5\" y=\"-37.8\" font-family=\"Helvetica,sans-Serif\" font-size=\"14.00\">samples = 909</text>\n<text text-anchor=\"start\" x=\"8\" y=\"-22.8\" font-family=\"Helvetica,sans-Serif\" font-size=\"14.00\">value = [220, 689]</text>\n<text text-anchor=\"start\" x=\"33\" y=\"-7.8\" font-family=\"Helvetica,sans-Serif\" font-size=\"14.00\">class = M</text>\n</g>\n<!-- 1&#45;&gt;2 -->\n<g id=\"edge2\" class=\"edge\">\n<title>1&#45;&gt;2</title>\n<path fill=\"none\" stroke=\"black\" d=\"M135.31,-103.73C125.45,-94.42 114.98,-84.54 105.15,-75.26\"/>\n<polygon fill=\"black\" stroke=\"black\" points=\"107.45,-72.62 97.78,-68.3 102.65,-77.71 107.45,-72.62\"/>\n</g>\n<!-- 3 -->\n<g id=\"node4\" class=\"node\">\n<title>3</title>\n<path fill=\"#f8dfcc\" stroke=\"black\" d=\"M241.5,-68C241.5,-68 155.5,-68 155.5,-68 149.5,-68 143.5,-62 143.5,-56 143.5,-56 143.5,-12 143.5,-12 143.5,-6 149.5,0 155.5,0 155.5,0 241.5,0 241.5,0 247.5,0 253.5,-6 253.5,-12 253.5,-12 253.5,-56 253.5,-56 253.5,-62 247.5,-68 241.5,-68\"/>\n<text text-anchor=\"start\" x=\"163\" y=\"-52.8\" font-family=\"Helvetica,sans-Serif\" font-size=\"14.00\">gini = 0.489</text>\n<text text-anchor=\"start\" x=\"157.5\" y=\"-37.8\" font-family=\"Helvetica,sans-Serif\" font-size=\"14.00\">samples = 68</text>\n<text text-anchor=\"start\" x=\"151.5\" y=\"-22.8\" font-family=\"Helvetica,sans-Serif\" font-size=\"14.00\">value = [39, 29]</text>\n<text text-anchor=\"start\" x=\"171\" y=\"-7.8\" font-family=\"Helvetica,sans-Serif\" font-size=\"14.00\">class = F</text>\n</g>\n<!-- 1&#45;&gt;3 -->\n<g id=\"edge3\" class=\"edge\">\n<title>1&#45;&gt;3</title>\n<path fill=\"none\" stroke=\"black\" d=\"M185.95,-103.73C187.46,-95.43 189.06,-86.67 190.59,-78.28\"/>\n<polygon fill=\"black\" stroke=\"black\" points=\"194.06,-78.77 192.42,-68.3 187.18,-77.51 194.06,-78.77\"/>\n</g>\n<!-- 5 -->\n<g id=\"node6\" class=\"node\">\n<title>5</title>\n<path fill=\"#fae7da\" stroke=\"black\" d=\"M424,-68C424,-68 323,-68 323,-68 317,-68 311,-62 311,-56 311,-56 311,-12 311,-12 311,-6 317,0 323,0 323,0 424,0 424,0 430,0 436,-6 436,-12 436,-12 436,-56 436,-56 436,-62 430,-68 424,-68\"/>\n<text text-anchor=\"start\" x=\"338\" y=\"-52.8\" font-family=\"Helvetica,sans-Serif\" font-size=\"14.00\">gini = 0.495</text>\n<text text-anchor=\"start\" x=\"328.5\" y=\"-37.8\" font-family=\"Helvetica,sans-Serif\" font-size=\"14.00\">samples = 424</text>\n<text text-anchor=\"start\" x=\"319\" y=\"-22.8\" font-family=\"Helvetica,sans-Serif\" font-size=\"14.00\">value = [234, 190]</text>\n<text text-anchor=\"start\" x=\"346\" y=\"-7.8\" font-family=\"Helvetica,sans-Serif\" font-size=\"14.00\">class = F</text>\n</g>\n<!-- 4&#45;&gt;5 -->\n<g id=\"edge5\" class=\"edge\">\n<title>4&#45;&gt;5</title>\n<path fill=\"none\" stroke=\"black\" d=\"M386.05,-103.73C384.54,-95.43 382.94,-86.67 381.41,-78.28\"/>\n<polygon fill=\"black\" stroke=\"black\" points=\"384.82,-77.51 379.58,-68.3 377.94,-78.77 384.82,-77.51\"/>\n</g>\n<!-- 6 -->\n<g id=\"node7\" class=\"node\">\n<title>6</title>\n<path fill=\"#a0d0f2\" stroke=\"black\" d=\"M567,-68C567,-68 466,-68 466,-68 460,-68 454,-62 454,-56 454,-56 454,-12 454,-12 454,-6 460,0 466,0 466,0 567,0 567,0 573,0 579,-6 579,-12 579,-12 579,-56 579,-56 579,-62 573,-68 567,-68\"/>\n<text text-anchor=\"start\" x=\"484.5\" y=\"-52.8\" font-family=\"Helvetica,sans-Serif\" font-size=\"14.00\">gini = 0.45</text>\n<text text-anchor=\"start\" x=\"471.5\" y=\"-37.8\" font-family=\"Helvetica,sans-Serif\" font-size=\"14.00\">samples = 931</text>\n<text text-anchor=\"start\" x=\"462\" y=\"-22.8\" font-family=\"Helvetica,sans-Serif\" font-size=\"14.00\">value = [318, 613]</text>\n<text text-anchor=\"start\" x=\"487\" y=\"-7.8\" font-family=\"Helvetica,sans-Serif\" font-size=\"14.00\">class = M</text>\n</g>\n<!-- 4&#45;&gt;6 -->\n<g id=\"edge6\" class=\"edge\">\n<title>4&#45;&gt;6</title>\n<path fill=\"none\" stroke=\"black\" d=\"M439.3,-103.73C449.85,-94.33 461.07,-84.35 471.58,-74.99\"/>\n<polygon fill=\"black\" stroke=\"black\" points=\"473.95,-77.56 479.09,-68.3 469.3,-72.33 473.95,-77.56\"/>\n</g>\n</g>\n</svg>\n",
            "text/plain": [
              "<graphviz.sources.Source at 0x7f91bfade920>"
            ]
          },
          "metadata": {},
          "execution_count": 12
        }
      ],
      "source": [
        "#Create a visualization for the decision tree\n",
        "dot_data = tree.export_graphviz(clf, out_file=None,\n",
        "                               feature_names=X_train.columns,\n",
        "                               class_names=unique(Y_train.values, ''),\n",
        "                               filled=True, rounded=True,\n",
        "                               special_characters=True)\n",
        "graph = graphviz.Source(dot_data)\n",
        "graph"
      ]
    },
    {
      "cell_type": "markdown",
      "metadata": {
        "id": "4K1mpky-7qmC"
      },
      "source": [
        "### **Step 6:** Test the model\n",
        "\n",
        "Run this code block to run the other half of our data (the testing dataset) through the model we just trained to find out how accurate it is with new data:"
      ]
    },
    {
      "cell_type": "code",
      "execution_count": null,
      "metadata": {
        "id": "D8BugqKW8Ika",
        "colab": {
          "base_uri": "https://localhost:8080/"
        },
        "outputId": "b5284658-49e9-49dd-9361-11ea06e64260"
      },
      "outputs": [
        {
          "output_type": "stream",
          "name": "stdout",
          "text": [
            "Percentage accuracy:  62.10887269609944\n"
          ]
        }
      ],
      "source": [
        "#Make the prediction using the model\n",
        "Y_pred = clf.predict(X_test)\n",
        "\n",
        "print('Percentage accuracy: ', 100*accuracy_score(Y_test, Y_pred))"
      ]
    },
    {
      "cell_type": "markdown",
      "source": [
        "Our decision tree was more accurate in classifying the testing data than the training data. That's a good sign that we didn't overfit it to the training data.\n",
        "\n"
      ],
      "metadata": {
        "id": "LZgL_fA0Hac6"
      }
    },
    {
      "cell_type": "markdown",
      "source": [
        "### **Step 7:** Evaluate the model\n",
        "\n",
        "Let's evaluate the model"
      ],
      "metadata": {
        "id": "n8jS1TnWHrq7"
      }
    }
  ],
  "metadata": {
    "colab": {
      "collapsed_sections": [
        "D9PTyURgxr9G",
        "88xxnr1lx1nh",
        "CmBl1jdgEE2-",
        "CKtcxO4hEeoR",
        "bts3jKENKK4O",
        "rZ7zIvD6Ln0o",
        "vJdwTahuMTKp",
        "NnsGTrCBMWrZ",
        "qTB4_LUPiY_J",
        "hBJh7Abmg9K-",
        "bg2J0IMzQMdr",
        "t6IFsuz-hkhc",
        "K63jPXpihkhm",
        "CAWF0-GJhkhm",
        "7ahGANG2hkhn",
        "fxByzmDshkho",
        "L4yPVX6VmTAM",
        "r2GQIyxKmTAO",
        "lLkpNVLZxgA2"
      ],
      "provenance": [],
      "include_colab_link": true
    },
    "kernelspec": {
      "display_name": "Python 3",
      "name": "python3"
    },
    "language_info": {
      "name": "python"
    }
  },
  "nbformat": 4,
  "nbformat_minor": 0
}