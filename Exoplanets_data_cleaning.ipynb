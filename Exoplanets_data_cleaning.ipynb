{
  "nbformat": 4,
  "nbformat_minor": 0,
  "metadata": {
    "colab": {
      "name": "Exoplanets_data_cleaning.ipynb",
      "provenance": [],
      "include_colab_link": true
    },
    "kernelspec": {
      "name": "python3",
      "display_name": "Python 3"
    },
    "language_info": {
      "name": "python"
    }
  },
  "cells": [
    {
      "cell_type": "markdown",
      "metadata": {
        "id": "view-in-github",
        "colab_type": "text"
      },
      "source": [
        "<a href=\"https://colab.research.google.com/github/GabrielleRab/SRMPmachine/blob/main/Exoplanets_data_cleaning.ipynb\" target=\"_parent\"><img src=\"https://colab.research.google.com/assets/colab-badge.svg\" alt=\"Open In Colab\"/></a>"
      ]
    },
    {
      "cell_type": "markdown",
      "source": [
        "# **Cleaning the exoplanet data** \n",
        "\n",
        "Welcome to Google Colab! This is an interactive coding environment where you can run code to perform calculations and much more! Today we will be using the programming language Python to clean our exoplanet dataset.\n",
        "\n",
        "But first, let's learn a little bit about colabs..."
      ],
      "metadata": {
        "id": "4t_XJIR2rJ_T"
      }
    },
    {
      "cell_type": "markdown",
      "source": [
        "All the text and code in a colab is written in cells. (Even these words you are reading are inside of a text cell!) In order for any of the code in a colab to execute, you need to **run** its cell. \n",
        "\n",
        "Let's practice. Run the code cell below by pressing the \"play\" button on the left:"
      ],
      "metadata": {
        "id": "bvtZUdQkrgIJ"
      }
    },
    {
      "cell_type": "code",
      "source": [
        "print(\"hello world!\")"
      ],
      "metadata": {
        "id": "FImYw3jkr1T2"
      },
      "execution_count": null,
      "outputs": []
    },
    {
      "cell_type": "markdown",
      "source": [
        "Congratulations! You just ran some Python code!\n",
        "\n",
        "You'll notice a little [1] on the left side of the cell now. That means its the first code cell you've run. If you run it again, that number will change to a [2] because it is now the *second* code cell you've run. In general, you should only run each code cell a single time unless instructed to do otherwise."
      ],
      "metadata": {
        "id": "jIGKiIXVr8Tt"
      }
    },
    {
      "cell_type": "markdown",
      "source": [
        "## Importing libraries\n",
        "\n",
        "Now let's run some code we will need to work with the exoplanets dataset. In Python, you can access a lot of pre-written commands by importing *libraries*, or bundles of commands. Let's import the libraries we will need. \n",
        "\n",
        "Go ahead and run the next code cell:"
      ],
      "metadata": {
        "id": "M_4Y5tW4st19"
      }
    },
    {
      "cell_type": "code",
      "execution_count": null,
      "metadata": {
        "id": "Vmg1iNzZ6fAY"
      },
      "outputs": [],
      "source": [
        "# import the necessary python libraries\n",
        "import pandas as pd\n",
        "import seaborn as sns"
      ]
    },
    {
      "cell_type": "markdown",
      "source": [
        "## Loading the data\n",
        "\n",
        "Next we will load in the dataset. This is the same data we've been working with in Google Sheets, but this time we will turn it into a *data frame* which is a fancy way of describing a spread sheet that Python can read.\n",
        "\n",
        "Run this code to import and preview the data frame:"
      ],
      "metadata": {
        "id": "aFXiNsNus5ph"
      }
    },
    {
      "cell_type": "code",
      "source": [
        "# load in the data and create a data frame called \"df\"\n",
        "df = pd.read_csv(\"https://raw.githubusercontent.com/GabrielleRab/SRMPmachine/main/datasets/exoplanets.csv\")\n",
        "\n",
        "# return the first 5 rows of the data frame\n",
        "df.head()"
      ],
      "metadata": {
        "id": "W6HE_6T8Xiuo"
      },
      "execution_count": null,
      "outputs": []
    },
    {
      "cell_type": "markdown",
      "source": [
        "You'll notice that these are the same columns of data we worked with yesterday! We can print the \"length\" of the data frame to see how many rows there are:"
      ],
      "metadata": {
        "id": "SGhUVfYntMY5"
      }
    },
    {
      "cell_type": "code",
      "source": [
        "# return the number of rows in the data frame\n",
        "len(df)"
      ],
      "metadata": {
        "id": "SK2Xvbx1tUp9"
      },
      "execution_count": null,
      "outputs": []
    },
    {
      "cell_type": "markdown",
      "source": [
        "## Describing the data\n",
        "\n",
        "Now let's calculate some summary statistics. We'll look at the same statistics we calculated using Google Sheets yesterday:"
      ],
      "metadata": {
        "id": "Ti9hhMzTtYtp"
      }
    },
    {
      "cell_type": "code",
      "source": [
        "# calculate mean, quartiles, and a histogram for relevant variables \n",
        "print(\"Planetary mass\")\n",
        "print(\"mean:\", df[\"pl_bmassj\"].mean())\n",
        "print(\"median:\", df[\"pl_bmassj\"].median())\n",
        "print(\"1st quartile:\", df[\"pl_bmassj\"].quantile(0.25))\n",
        "print(\"3rd quartile:\", df[\"pl_bmassj\"].quantile(0.75))\n",
        "\n",
        "print(\"\")\n",
        "\n",
        "print(\"Orbital period\")\n",
        "print(\"mean:\", df[\"pl_orbper\"].mean())\n",
        "print(\"median:\", df[\"pl_orbper\"].median())\n",
        "print(\"1st quartile:\", df[\"pl_orbper\"].quantile(0.25))\n",
        "print(\"3rd quartile:\", df[\"pl_orbper\"].quantile(0.75))\n",
        "\n",
        "print(\"\")\n",
        "\n",
        "print(\"Planetary radius\")\n",
        "print(\"mean:\", df[\"pl_radj\"].mean())\n",
        "print(\"median:\", df[\"pl_radj\"].median())\n",
        "print(\"1st quartile:\", df[\"pl_radj\"].quantile(0.25))\n",
        "print(\"3rd quartile:\", df[\"pl_radj\"].quantile(0.75))\n",
        "\n",
        "print(\"\")\n",
        "\n",
        "print(\"Star distance\")\n",
        "print(\"mean:\", df[\"sy_dist\"].mean())\n",
        "print(\"median:\", df[\"sy_dist\"].median())\n",
        "print(\"1st quartile:\", df[\"sy_dist\"].quantile(0.25))\n",
        "print(\"3rd quartile:\", df[\"sy_dist\"].quantile(0.75))"
      ],
      "metadata": {
        "id": "CGBspvHmtoQ6"
      },
      "execution_count": null,
      "outputs": []
    },
    {
      "cell_type": "markdown",
      "source": [
        "We can create histograms as well:"
      ],
      "metadata": {
        "id": "UcOiFirEwUuk"
      }
    },
    {
      "cell_type": "code",
      "source": [
        "# creating the planetary mass histogram\n",
        "print(\"Planetary mass\")\n",
        "print(df[\"pl_bmassj\"].hist())"
      ],
      "metadata": {
        "id": "WEaWGa2dyHl2"
      },
      "execution_count": null,
      "outputs": []
    },
    {
      "cell_type": "code",
      "source": [
        "# create the orbital period histogram\n",
        "print(\"Orbital period\")\n",
        "print(df[\"pl_orbper\"].hist())"
      ],
      "metadata": {
        "id": "du8uLr9ZytKK"
      },
      "execution_count": null,
      "outputs": []
    },
    {
      "cell_type": "code",
      "source": [
        "# create the planetary radius histogram\n",
        "print(\"Planetary radius\")\n",
        "print(df[\"pl_radj\"].hist())"
      ],
      "metadata": {
        "id": "BM7Ijz1iywvL"
      },
      "execution_count": null,
      "outputs": []
    },
    {
      "cell_type": "code",
      "source": [
        "# create the star distance histogram\n",
        "print(\"Star distance\")\n",
        "print(df[\"sy_dist\"].hist())"
      ],
      "metadata": {
        "id": "aCjAsKCay1Zc"
      },
      "execution_count": null,
      "outputs": []
    },
    {
      "cell_type": "markdown",
      "source": [
        "We can also create box plots to visualize these variables and identify outliers:"
      ],
      "metadata": {
        "id": "E5Y35pgLwJ6Y"
      }
    },
    {
      "cell_type": "code",
      "source": [
        "# create a boxplot for planetary mass\n",
        "sns.boxplot(x=df['pl_bmassj'])"
      ],
      "metadata": {
        "id": "zDHvqYoBYkcD"
      },
      "execution_count": null,
      "outputs": []
    },
    {
      "cell_type": "markdown",
      "source": [
        "## Removing outliers\n",
        "\n",
        "You may notice that there are a number of exoplanets hundreds of times the mass of Jupiter and at least one supposed exoplanet with a mass of over 700 Jupiters. In fact, once you get beyond 13 times the mass of Jupiter, you're too big to be a planet!\n",
        "\n",
        "This means that some stars have accidentally been included in this dataset. Let's remove all rows with a planetary mass of greater than 13 Jupiters. We will create a new cleaned data frame so we don't lose any of our original data:"
      ],
      "metadata": {
        "id": "CJNspY80zIe5"
      }
    },
    {
      "cell_type": "code",
      "source": [
        "# remove all rows with a planetary mass of greater than 13 Jupiters\n",
        "# and store this cleaned data in a new dataframe\n",
        "df_clean = df.drop(df[df.pl_bmassj > 13].index)"
      ],
      "metadata": {
        "id": "tpXoG-6UzM_Y"
      },
      "execution_count": null,
      "outputs": []
    },
    {
      "cell_type": "markdown",
      "source": [
        "Let's see how many rows we have left:"
      ],
      "metadata": {
        "id": "ch2iU89Dztvr"
      }
    },
    {
      "cell_type": "code",
      "source": [
        "# calculate the number of rows in the cleaned dataset\n",
        "len(df_clean)"
      ],
      "metadata": {
        "id": "dz0UfcwBzx3a"
      },
      "execution_count": null,
      "outputs": []
    },
    {
      "cell_type": "markdown",
      "source": [
        "Subtracting that from our original will tell us how many outliers we removed:"
      ],
      "metadata": {
        "id": "5P8HdFxxz5BH"
      }
    },
    {
      "cell_type": "code",
      "source": [
        "# calculate the number of removed rows\n",
        "print(len(df)-len(df_clean))"
      ],
      "metadata": {
        "id": "B6l8KzQsz9lF"
      },
      "execution_count": null,
      "outputs": []
    },
    {
      "cell_type": "markdown",
      "source": [
        "We can create another histogram and boxplot for this variable to see how our distribution has changed"
      ],
      "metadata": {
        "id": "OdDykISj0Kal"
      }
    },
    {
      "cell_type": "code",
      "source": [
        "# create a histogram for the cleaned planetary mass data\n",
        "print(\"Planetary mass (cleaned)\")\n",
        "print(df_clean[\"pl_bmassj\"].hist())"
      ],
      "metadata": {
        "id": "fjZkBnxozt4l"
      },
      "execution_count": null,
      "outputs": []
    },
    {
      "cell_type": "code",
      "source": [
        "# create a boxplot for the cleaned planetary mass data\n",
        "sns.boxplot(x=df_clean['pl_bmassj'])"
      ],
      "metadata": {
        "id": "VvP4mzbh0h-c"
      },
      "execution_count": null,
      "outputs": []
    }
  ]
}