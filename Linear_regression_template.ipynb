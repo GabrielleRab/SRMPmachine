{
  "metadata": {
    "kernelspec": {
      "display_name": "Python 3",
      "language": "python",
      "name": "python3"
    },
    "language_info": {
      "name": "python",
      "version": "3.6.6",
      "mimetype": "text/x-python",
      "codemirror_mode": {
        "name": "ipython",
        "version": 3
      },
      "pygments_lexer": "ipython3",
      "nbconvert_exporter": "python",
      "file_extension": ".py"
    },
    "colab": {
      "name": "Linear_regression_template.ipynb",
      "provenance": [],
      "collapsed_sections": [
        "GqrtvNT-Cn3I",
        "W7ztttZcCn3J"
      ],
      "include_colab_link": true
    }
  },
  "nbformat_minor": 0,
  "nbformat": 4,
  "cells": [
    {
      "cell_type": "markdown",
      "metadata": {
        "id": "view-in-github",
        "colab_type": "text"
      },
      "source": [
        "<a href=\"https://colab.research.google.com/github/GabrielleRab/SRMPmachine/blob/main/Linear_regression_template.ipynb\" target=\"_parent\"><img src=\"https://colab.research.google.com/assets/colab-badge.svg\" alt=\"Open In Colab\"/></a>"
      ]
    },
    {
      "cell_type": "markdown",
      "source": [
        "# **Linear regression with a dataset of your choice** \n",
        "\n",
        "Recall that we use linear regression when our research question calls for the analysis of a predictive relationship between at least one independent and dependent variable. Put another way: are you trying to demonstrate that one characteristic of your dataset can be predicted by another? If the answer is yes, you might want to use linear regression!"
      ],
      "metadata": {
        "_uuid": "d98e260fd46b2018f8235d76d6b46d6e149ded86",
        "id": "_DtPtkJcCn28"
      }
    },
    {
      "cell_type": "markdown",
      "source": [
        "### **Step 1:** Identify your question\n",
        "\n",
        "\n",
        "This has already been done for you! Look at the research question for your dataset and consider whether or not it's a good fit for the linear regression approach."
      ],
      "metadata": {
        "_uuid": "eb75d57ef5c0c094eb265c3fb4ef77b8f8c73dce",
        "id": "OtKPTjUACn2_"
      }
    },
    {
      "cell_type": "markdown",
      "source": [
        "\n",
        "### **Step 2:** Select your data\n",
        "\n",
        "Let's import our data. First we need to load in the necessary Python libraries. Run the code below:"
      ],
      "metadata": {
        "_uuid": "eb75d57ef5c0c094eb265c3fb4ef77b8f8c73dce",
        "id": "FX4ZjP3p2MnH"
      }
    },
    {
      "cell_type": "code",
      "source": [
        "# Supress Warnings\n",
        "import warnings\n",
        "warnings.filterwarnings('ignore')\n",
        "\n",
        "# Import the numpy and pandas package\n",
        "import numpy as np\n",
        "import pandas as pd\n",
        "from scipy import stats\n",
        "\n",
        "# Data Visualisation\n",
        "import matplotlib.pyplot as plt \n",
        "import seaborn as sns"
      ],
      "metadata": {
        "_uuid": "d68008018678c65564ddda5994cb05129f3ca72b",
        "execution": {
          "iopub.status.busy": "2022-07-08T08:46:02.974890Z",
          "iopub.execute_input": "2022-07-08T08:46:02.975520Z",
          "iopub.status.idle": "2022-07-08T08:46:02.982643Z",
          "shell.execute_reply.started": "2022-07-08T08:46:02.975469Z",
          "shell.execute_reply": "2022-07-08T08:46:02.981331Z"
        },
        "trusted": true,
        "id": "Y1JnBxdlCn3A"
      },
      "execution_count": 1,
      "outputs": []
    },
    {
      "cell_type": "markdown",
      "source": [
        "Next, we create a dataframe called with a pre-cleaned version of your data. \n",
        "\n",
        "**Important:** *Only run the cell for your chosen dataset. Ignore the other two cells.*"
      ],
      "metadata": {
        "id": "cVUQOhC4hKnS"
      }
    },
    {
      "cell_type": "code",
      "source": [
        "# Run this cell ONLY if you are using the stellar rotation dataset\n",
        "df = pd.DataFrame(pd.read_csv(\"https://raw.githubusercontent.com/GabrielleRab/SRMPmachine/main/datasets/Stellar_rotation_clean.csv\"))"
      ],
      "metadata": {
        "_uuid": "1365d38deb407ea9c0f4e93830c5f9d4d65ebd9d",
        "execution": {
          "iopub.status.busy": "2022-07-08T08:46:05.457205Z",
          "iopub.execute_input": "2022-07-08T08:46:05.457708Z",
          "iopub.status.idle": "2022-07-08T08:46:05.512457Z",
          "shell.execute_reply.started": "2022-07-08T08:46:05.457666Z",
          "shell.execute_reply": "2022-07-08T08:46:05.511804Z"
        },
        "trusted": true,
        "id": "mS0-jD-ECn3B"
      },
      "execution_count": 13,
      "outputs": []
    },
    {
      "cell_type": "code",
      "source": [
        "# Run this cell ONLY if you are using the dragonfly wing dataset\n",
        "df = pd.DataFrame(pd.read_csv(\"https://raw.githubusercontent.com/GabrielleRab/SRMPmachine/main/datasets/wing_measurements_clean.csv\"))"
      ],
      "metadata": {
        "id": "J1KFhOY340mV"
      },
      "execution_count": null,
      "outputs": []
    },
    {
      "cell_type": "code",
      "source": [
        "# Run this cell ONLY if you are using the North Carolina crime dataset\n",
        "df = pd.DataFrame(pd.read_csv(\"https://raw.githubusercontent.com/GabrielleRab/SRMPmachine/main/datasets/crime_data_clean.csv\"))"
      ],
      "metadata": {
        "id": "SPRaxkG_46lj"
      },
      "execution_count": null,
      "outputs": []
    },
    {
      "cell_type": "markdown",
      "source": [
        "Let's take a look at the first 5 rows of the dataset. Make sure this is the dataset you meant to import! If it's wrong, just go back and run the correct cell above. That will over-write the dataframe."
      ],
      "metadata": {
        "id": "l6ScA9X45msq"
      }
    },
    {
      "cell_type": "code",
      "source": [
        "df.head()"
      ],
      "metadata": {
        "id": "713Ojzfv5l-4"
      },
      "execution_count": null,
      "outputs": []
    },
    {
      "cell_type": "markdown",
      "source": [
        "Let's see how big the dataset is:"
      ],
      "metadata": {
        "id": "SuHjvtH88bTe"
      }
    },
    {
      "cell_type": "code",
      "source": [
        "len(df)"
      ],
      "metadata": {
        "id": "9BSlLx3S8dDE"
      },
      "execution_count": null,
      "outputs": []
    },
    {
      "cell_type": "markdown",
      "source": [
        "### **Step 3:** Choose your method\n",
        "\n",
        "Review your dataset and your research question one more time to make sure that you're ready to run linear regression. There should be two numerical variables that you believe might have a linear predictive relationship. This approach is not good for categorizing data or finding non-libear patterns."
      ],
      "metadata": {
        "id": "c9Tsm7d6w5ld"
      }
    },
    {
      "cell_type": "markdown",
      "source": [
        "### **Step 4:** Prepare your data\n",
        "\n",
        "This step has been taken care of for you! All three datasets have had rows with missing data and problematic outliers removed."
      ],
      "metadata": {
        "_uuid": "fab7463f8ed5eb55f1357db16c69204351295edf",
        "id": "3GEIBUrUCn3E"
      }
    },
    {
      "cell_type": "markdown",
      "source": [
        "Create some boxplots to confirm:\n",
        "\n",
        "**Simply replace the xxxx in the quotation marks with the name of the column you would like to use for the box plot. Make sure you don't have any typos in the column name!**\n",
        "\n",
        "If you want to look at more than one boxplot, just change the column name and re-run the cell."
      ],
      "metadata": {
        "id": "Mh4Kvwej6-_R"
      }
    },
    {
      "cell_type": "code",
      "source": [
        "# Boxplot for your data. Replace xxxx with the name of your column\n",
        "sns.boxplot(df[\"xxxx\"])"
      ],
      "metadata": {
        "_uuid": "c427a8e8a84e617eccdeda7df5eccd25f740f25d",
        "execution": {
          "iopub.status.busy": "2022-07-08T08:46:28.809703Z",
          "iopub.execute_input": "2022-07-08T08:46:28.810488Z",
          "iopub.status.idle": "2022-07-08T08:46:29.558415Z",
          "shell.execute_reply.started": "2022-07-08T08:46:28.810401Z",
          "shell.execute_reply": "2022-07-08T08:46:29.557459Z"
        },
        "trusted": true,
        "id": "55eovPU1J5sy"
      },
      "execution_count": null,
      "outputs": []
    },
    {
      "cell_type": "markdown",
      "source": [
        "Let's look at the correlations between all variables in your dataset. This will help you choose which variables to compare for linear regression:"
      ],
      "metadata": {
        "id": "rUeOO7ZsCCiG"
      }
    },
    {
      "cell_type": "code",
      "source": [
        "# Let's see the correlation between different variables.\n",
        "sns.heatmap(df.corr(), cmap=\"YlGnBu\", annot = True)\n",
        "plt.show()"
      ],
      "metadata": {
        "id": "CiY-CZXCCBI2"
      },
      "execution_count": null,
      "outputs": []
    },
    {
      "cell_type": "markdown",
      "source": [
        "Now it's time to choose your dependent and independent variables for linear regression analysis. \n",
        "\n",
        "Consider: Which variable do you expect to predict another variable? This is the independent variable. Which variable will be predicted? This is the dependent variable.\n",
        "\n",
        "**Replace the word \"independent\" and \"dependent\" with the correct column names:**"
      ],
      "metadata": {
        "_uuid": "fe62b625cb69b757c37930b85ffc1b4b4805f4ca",
        "id": "dDlPc4ygCn3H"
      }
    },
    {
      "cell_type": "code",
      "source": [
        "# Replace the word \"independent\" and \"dependent\" with the correct column names:\n",
        "ind_var = \"independent\"\n",
        "dep_var = \"dependent\"\n",
        "\n",
        "X = df[ind_var]\n",
        "y = df[dep_var]\n",
        "xlabel = ind_var\n",
        "ylabel = dep_var"
      ],
      "metadata": {
        "_uuid": "ae7285c79fd678fad0ee4fb18f8923daf024838b",
        "execution": {
          "iopub.status.busy": "2022-07-08T08:48:00.813411Z",
          "iopub.execute_input": "2022-07-08T08:48:00.814205Z",
          "iopub.status.idle": "2022-07-08T08:48:00.819219Z",
          "shell.execute_reply.started": "2022-07-08T08:48:00.814101Z",
          "shell.execute_reply": "2022-07-08T08:48:00.818327Z"
        },
        "trusted": true,
        "id": "axV6Wz5lCn3H"
      },
      "execution_count": 38,
      "outputs": []
    },
    {
      "cell_type": "markdown",
      "source": [
        "### **Step 5:** Train the model"
      ],
      "metadata": {
        "_uuid": "1c10d5d48b611a9c66e1c99e66c44f6b36191a92",
        "id": "xBjwzI5dCn3G"
      }
    },
    {
      "cell_type": "markdown",
      "source": [
        "We now need to split our variable into training and testing sets. We'll perform this by importing `train_test_split` from the `sklearn.model_selection` library. It is usually a good practice to keep 70% of the data in your train dataset and the rest 30% in your test dataset"
      ],
      "metadata": {
        "_uuid": "b3d9b88574b3b83dd47e7e0425c8e627443c4ec3",
        "id": "GkfrDZGJCn3H"
      }
    },
    {
      "cell_type": "code",
      "source": [
        "# import train test split function\n",
        "from sklearn.model_selection import train_test_split\n",
        "\n",
        "# split the data into 70% training and 30% testing\n",
        "X_train, X_test, y_train, y_test = train_test_split(X, y, train_size = 0.7, test_size = 0.3, random_state = 100)"
      ],
      "metadata": {
        "_uuid": "997311202075aaa98631ef95c1a0d91cdbefa2af",
        "execution": {
          "iopub.status.busy": "2022-07-08T08:48:08.113624Z",
          "iopub.execute_input": "2022-07-08T08:48:08.113980Z",
          "iopub.status.idle": "2022-07-08T08:48:08.120436Z",
          "shell.execute_reply.started": "2022-07-08T08:48:08.113918Z",
          "shell.execute_reply": "2022-07-08T08:48:08.119615Z"
        },
        "trusted": true,
        "id": "emc81-gTCn3H"
      },
      "execution_count": 39,
      "outputs": []
    },
    {
      "cell_type": "markdown",
      "source": [
        "You first need to import the `statsmodel.api` library using which you'll perform the linear regression."
      ],
      "metadata": {
        "_uuid": "a53ec07eb3235dca5ca72cc9c2f6ca0634a33a09",
        "id": "amhsiqHXCn3H"
      }
    },
    {
      "cell_type": "code",
      "source": [
        "import statsmodels.api as sm"
      ],
      "metadata": {
        "_uuid": "226e3704ff6b78a47273fd816009f9c30b8f0a81",
        "execution": {
          "iopub.status.busy": "2022-07-08T08:48:14.946604Z",
          "iopub.execute_input": "2022-07-08T08:48:14.946897Z",
          "iopub.status.idle": "2022-07-08T08:48:14.951137Z",
          "shell.execute_reply.started": "2022-07-08T08:48:14.946853Z",
          "shell.execute_reply": "2022-07-08T08:48:14.950224Z"
        },
        "trusted": true,
        "id": "NXSWIA7VCn3H"
      },
      "execution_count": 40,
      "outputs": []
    },
    {
      "cell_type": "markdown",
      "source": [
        "By default, the `statsmodels` library fits a line on the dataset which passes through the origin. But in order to have an intercept, you need to manually use the `add_constant` attribute of `statsmodels`. And once you've added the constant to your `X_train` dataset, you can go ahead and fit a regression line using the `OLS` (Ordinary Least Squares) attribute of `statsmodels` as shown below"
      ],
      "metadata": {
        "_uuid": "7aace406b025306a7ba85016b8bd48ae662d1ec1",
        "id": "MX4cdx0bCn3H"
      }
    },
    {
      "cell_type": "code",
      "source": [
        "# Add a constant to get an intercept\n",
        "X_train_sm = sm.add_constant(X_train)\n",
        "\n",
        "# Fit the resgression line using 'OLS'\n",
        "lr = sm.OLS(y_train, X_train_sm).fit()"
      ],
      "metadata": {
        "_uuid": "b80a766082e6c9c40c3f09499fec4cfc51f62763",
        "execution": {
          "iopub.status.busy": "2022-07-08T08:48:19.259830Z",
          "iopub.execute_input": "2022-07-08T08:48:19.260541Z",
          "iopub.status.idle": "2022-07-08T08:48:19.284919Z",
          "shell.execute_reply.started": "2022-07-08T08:48:19.260482Z",
          "shell.execute_reply": "2022-07-08T08:48:19.283737Z"
        },
        "trusted": true,
        "id": "I5c-_mIkCn3H"
      },
      "execution_count": 41,
      "outputs": []
    },
    {
      "cell_type": "code",
      "source": [
        "# Print the parameters, i.e. the intercept and the slope of the regression line fitted\n",
        "lr.params"
      ],
      "metadata": {
        "_uuid": "fd4287b550d2f05555ae3e18d6f497912424f8cf",
        "execution": {
          "iopub.status.busy": "2022-07-08T08:48:25.857965Z",
          "iopub.execute_input": "2022-07-08T08:48:25.858309Z",
          "iopub.status.idle": "2022-07-08T08:48:25.867133Z",
          "shell.execute_reply.started": "2022-07-08T08:48:25.858238Z",
          "shell.execute_reply": "2022-07-08T08:48:25.866312Z"
        },
        "trusted": true,
        "id": "_clcjMg5Cn3I"
      },
      "execution_count": null,
      "outputs": []
    },
    {
      "cell_type": "code",
      "source": [
        "# Performing a summary operation lists out all the different parameters of the regression line fitted\n",
        "print(lr.summary())"
      ],
      "metadata": {
        "_uuid": "f841995801587a25a9b4c4b77ef396e538e9ad1f",
        "execution": {
          "iopub.status.busy": "2022-07-08T08:48:34.421339Z",
          "iopub.execute_input": "2022-07-08T08:48:34.422170Z",
          "iopub.status.idle": "2022-07-08T08:48:34.445984Z",
          "shell.execute_reply.started": "2022-07-08T08:48:34.422082Z",
          "shell.execute_reply": "2022-07-08T08:48:34.445110Z"
        },
        "trusted": true,
        "id": "gDy0jZBFCn3I"
      },
      "execution_count": null,
      "outputs": []
    },
    {
      "cell_type": "markdown",
      "source": [
        "**How does your R-squared look?**\n",
        "\n",
        "In scientific studies, the R-squared may need to be above 0.95 for a regression model to be considered reliable, so we're pretty close! In other domains, an R-squared of just 0.3 may be sufficient if there is extreme variability in the dataset.\n"
      ],
      "metadata": {
        "_uuid": "2eb6f1c6f44cf4b216aaf184ef64be7358c12bb7",
        "id": "J9mWSYnECn3I"
      }
    },
    {
      "cell_type": "markdown",
      "source": [
        "Let's visualize how well the model fit the data:"
      ],
      "metadata": {
        "_uuid": "355241eda62e0f3fb9b843256640d56ab6bf7fd1",
        "id": "UcnVCPaWCn3I"
      }
    },
    {
      "cell_type": "code",
      "source": [
        "plt.scatter(X_train, y_train)\n",
        "plt.title(\"Training data\")\n",
        "plt.xlabel(xlabel)\n",
        "plt.ylabel(ylabel)\n",
        "plt.plot(X_train, lr.params[1]*X_train + lr.params[0], 'r')\n",
        "plt.show()"
      ],
      "metadata": {
        "scrolled": true,
        "_uuid": "6e0dc97a88b9fc1d4e975c2fe511e59bd0cd2b8a",
        "execution": {
          "iopub.status.busy": "2022-07-08T08:59:22.755250Z",
          "iopub.execute_input": "2022-07-08T08:59:22.755588Z",
          "iopub.status.idle": "2022-07-08T08:59:23.005199Z",
          "shell.execute_reply.started": "2022-07-08T08:59:22.755528Z",
          "shell.execute_reply": "2022-07-08T08:59:23.004121Z"
        },
        "trusted": true,
        "id": "rvg_lWTTCn3I"
      },
      "execution_count": null,
      "outputs": []
    },
    {
      "cell_type": "markdown",
      "source": [
        "### **Step 6:** Test the model"
      ],
      "metadata": {
        "id": "b2mg8P5Ve7Fx"
      }
    },
    {
      "cell_type": "markdown",
      "source": [
        "Now that we've fitted a regression line on the training dataset, it's time to make some predictions on the test data:"
      ],
      "metadata": {
        "_uuid": "a88d571a4e726470bb1af84b6197e7065bcd23d4",
        "id": "wjxTuiOpCn3J"
      }
    },
    {
      "cell_type": "code",
      "source": [
        "# Add a constant to X_test\n",
        "X_test_sm = sm.add_constant(X_test)\n",
        "\n",
        "# Predict the y values corresponding to X_test_sm\n",
        "y_pred = lr.predict(X_test_sm)"
      ],
      "metadata": {
        "_uuid": "f0bed7ce820292dceee1c3b00b9ecbcb9fdbbd37",
        "execution": {
          "iopub.status.busy": "2022-07-08T09:00:00.172166Z",
          "iopub.execute_input": "2022-07-08T09:00:00.172803Z",
          "iopub.status.idle": "2022-07-08T09:00:00.181239Z",
          "shell.execute_reply.started": "2022-07-08T09:00:00.172753Z",
          "shell.execute_reply": "2022-07-08T09:00:00.180310Z"
        },
        "trusted": true,
        "id": "qV7reIKYCn3J"
      },
      "execution_count": 45,
      "outputs": []
    },
    {
      "cell_type": "markdown",
      "source": [
        "Let's check the R-squared on the test set. The closer R squared is to 1, the better our correlation:"
      ],
      "metadata": {
        "_uuid": "ab9e84c7ccf6d83fd215ba8771cb0243a59bc88e",
        "id": "yRQWOrk2Cn3K"
      }
    },
    {
      "cell_type": "code",
      "source": [
        "from sklearn.metrics import r2_score\n",
        "r_squared = r2_score(y_test, y_pred)\n",
        "r_squared"
      ],
      "metadata": {
        "_uuid": "6ce19fc28741a4d2b558a377f2fd39c81abdb72e",
        "execution": {
          "iopub.status.busy": "2022-07-08T09:00:16.729346Z",
          "iopub.execute_input": "2022-07-08T09:00:16.729844Z",
          "iopub.status.idle": "2022-07-08T09:00:16.736189Z",
          "shell.execute_reply.started": "2022-07-08T09:00:16.729773Z",
          "shell.execute_reply": "2022-07-08T09:00:16.735589Z"
        },
        "trusted": true,
        "id": "EyZr70lVCn3K"
      },
      "execution_count": null,
      "outputs": []
    },
    {
      "cell_type": "code",
      "source": [
        "print(r_squared*100, \"of the variance in \"+ dep_var+ \" in the test set is explained by \"+ ind_var)"
      ],
      "metadata": {
        "id": "qRWbIPunEtEW"
      },
      "execution_count": null,
      "outputs": []
    },
    {
      "cell_type": "markdown",
      "source": [
        "Let's visualize the fit on the test set:"
      ],
      "metadata": {
        "id": "xtdWQhVPgvVn"
      }
    },
    {
      "cell_type": "code",
      "source": [
        "plt.scatter(X_test, y_test)\n",
        "plt.plot(X_test, lr.params[1]*X_test + lr.params[0], 'r')\n",
        "plt.title(\"Test data\")\n",
        "plt.xlabel(xlabel)\n",
        "plt.ylabel(ylabel)\n",
        "plt.show()"
      ],
      "metadata": {
        "scrolled": true,
        "_uuid": "eb08ac34d4e148e3221adfe126072f108adbfa24",
        "trusted": true,
        "id": "nElxbQC2Cn3K"
      },
      "execution_count": null,
      "outputs": []
    },
    {
      "cell_type": "markdown",
      "source": [
        "### **Step 7:** Evaluate the model\n",
        "\n",
        "Did this model help you answer your research question?\n",
        "\n",
        "What are some forms of bias that you need to be aware of in this analysis?\n",
        "\n",
        "What questions do you still have?"
      ],
      "metadata": {
        "id": "k5MD4aLBh-_b"
      }
    }
  ]
}