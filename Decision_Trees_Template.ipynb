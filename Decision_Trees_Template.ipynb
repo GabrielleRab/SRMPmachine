{
  "cells": [
    {
      "cell_type": "markdown",
      "metadata": {
        "id": "view-in-github",
        "colab_type": "text"
      },
      "source": [
        "<a href=\"https://colab.research.google.com/github/GabrielleRab/SRMPmachine/blob/main/Decision_Trees_Template.ipynb\" target=\"_parent\"><img src=\"https://colab.research.google.com/assets/colab-badge.svg\" alt=\"Open In Colab\"/></a>"
      ]
    },
    {
      "cell_type": "markdown",
      "metadata": {
        "id": "eg16fWNG_ioj"
      },
      "source": [
        "# **Decision trees with a dataset of your choice** \n",
        "\n",
        "Recall that we use decision trees when we have labeled data and our research question calls for categorization of our data into different groups based on their features.\n",
        "\n",
        "### **Step 1:** Identify your question\n",
        "\n",
        "This has already been done for you! Look at the research question for your dataset and consider whether or not it's a good fit for the decision tree approach."
      ]
    },
    {
      "cell_type": "markdown",
      "metadata": {
        "id": "TEVDmRuIDesI"
      },
      "source": [
        "### **Step 2:** Select your data\n",
        "\n",
        "Let's import our data. First we need to load in the necessary Python libraries. Run the code below:"
      ]
    },
    {
      "cell_type": "code",
      "execution_count": null,
      "metadata": {
        "id": "3l3JLv18DaDg"
      },
      "outputs": [],
      "source": [
        "# import the necessary Python library\n",
        "import pandas as pd"
      ]
    },
    {
      "cell_type": "markdown",
      "source": [
        "Next, we create a dataframe called with a pre-cleaned version of your data. \n",
        "\n",
        "**Important:** *Only run the cell for your chosen dataset. Ignore the other two cells.*"
      ],
      "metadata": {
        "id": "SV6xfsGyGdD3"
      }
    },
    {
      "cell_type": "code",
      "source": [
        "# Run this cell ONLY if you are using the stellar rotation dataset\n",
        "df = pd.DataFrame(pd.read_csv(\"https://raw.githubusercontent.com/GabrielleRab/SRMPmachine/main/datasets/Stellar_rotation_clean.csv\"))"
      ],
      "metadata": {
        "_uuid": "1365d38deb407ea9c0f4e93830c5f9d4d65ebd9d",
        "execution": {
          "iopub.status.busy": "2022-07-08T08:46:05.457205Z",
          "iopub.execute_input": "2022-07-08T08:46:05.457708Z",
          "iopub.status.idle": "2022-07-08T08:46:05.512457Z",
          "shell.execute_reply.started": "2022-07-08T08:46:05.457666Z",
          "shell.execute_reply": "2022-07-08T08:46:05.511804Z"
        },
        "trusted": true,
        "id": "mS0-jD-ECn3B"
      },
      "execution_count": null,
      "outputs": []
    },
    {
      "cell_type": "code",
      "source": [
        "# Run this cell ONLY if you are using the dragonfly wing dataset\n",
        "df = pd.DataFrame(pd.read_csv(\"https://raw.githubusercontent.com/GabrielleRab/SRMPmachine/main/datasets/wing_measurements_clean.csv\"))"
      ],
      "metadata": {
        "id": "J1KFhOY340mV"
      },
      "execution_count": null,
      "outputs": []
    },
    {
      "cell_type": "code",
      "source": [
        "# Run this cell ONLY if you are using the North Carolina crime dataset\n",
        "df = pd.DataFrame(pd.read_csv(\"https://raw.githubusercontent.com/GabrielleRab/SRMPmachine/main/datasets/crime_data_clean.csv\"))"
      ],
      "metadata": {
        "id": "SPRaxkG_46lj"
      },
      "execution_count": null,
      "outputs": []
    },
    {
      "cell_type": "markdown",
      "metadata": {
        "id": "0O-e1Lpr0P0B"
      },
      "source": [
        "Let's take a look at the first 5 rows of the dataset. Make sure this is the dataset you meant to import! If it's wrong, just go back and run the correct cell above. That will over-write the dataframe."
      ]
    },
    {
      "cell_type": "code",
      "source": [
        "df.head()"
      ],
      "metadata": {
        "id": "KjQ7IlA9GpQJ"
      },
      "execution_count": null,
      "outputs": []
    },
    {
      "cell_type": "markdown",
      "metadata": {
        "id": "A8tqBQAhzy73"
      },
      "source": [
        "Run the code below to find out how many rows are in our dataset:"
      ]
    },
    {
      "cell_type": "code",
      "execution_count": null,
      "metadata": {
        "id": "8rP0ExL5zxnt"
      },
      "outputs": [],
      "source": [
        "# return the number of rows in the dataset\n",
        "len(df)"
      ]
    },
    {
      "cell_type": "markdown",
      "metadata": {
        "id": "0DO64X0aET2F"
      },
      "source": [
        "### **Step 3:** Choose your method\n",
        "\n",
        "Review your dataset and your research question one more time to make sure that you're ready to use the decision tree model. Remember that it is a good fit for categorizing labeled data.\n",
        "\n",
        "Run the code below to import the necessary Python libraries for creating Decision Trees."
      ]
    },
    {
      "cell_type": "code",
      "execution_count": null,
      "metadata": {
        "id": "W7BtJ4Td0qlQ"
      },
      "outputs": [],
      "source": [
        "#import necessary Python libraries\n",
        "from sklearn.model_selection import train_test_split\n",
        "from sklearn.preprocessing import StandardScaler\n",
        "from sklearn import tree\n",
        "from sklearn.tree import DecisionTreeClassifier\n",
        "from sklearn.metrics import accuracy_score\n",
        "import graphviz\n",
        "from numpy.ma.extras import unique"
      ]
    },
    {
      "cell_type": "markdown",
      "metadata": {
        "id": "yQd76u9wbIoO"
      },
      "source": [
        "### **Step 4:** Prepare your data\n",
        "\n",
        "This step has been taken care of for you! All three datasets only contain the needed columns and have all relevant data in numerical form.\n",
        "\n",
        "Let's check our dataset for balance! \n",
        "**Replace aaaa and bbbb with the name of your first label and your second label.**\n",
        "\n",
        "**Then replace xxxx in all three lines of code with the column that contains your labels.**"
      ]
    },
    {
      "cell_type": "code",
      "execution_count": null,
      "metadata": {
        "id": "wJCwwfWOeovg"
      },
      "outputs": [],
      "source": [
        "#Replace aaaa and bbbb with the name of your first label and your second label:\n",
        "label1 = \"aaaa\"\n",
        "label2 = \"bbbb\"\n",
        "\n",
        "# Replace xxxx with the column that contains your labels in ALL THREE ROWS below:\n",
        "colname = \"xxxx\"\n",
        "print(label1+\":\",len(df[df.xxxx == label1]))\n",
        "print(label2+\":\",len(df[df.xxxx == label2]))"
      ]
    },
    {
      "cell_type": "markdown",
      "metadata": {
        "id": "gMMJgjEm6jPA"
      },
      "source": [
        "**Bias Alert:** If there are more values with one label than the other, this introduces a possible source of statistical bias into our analysis. Our decision tree may end up better prepared to identify values with one label than the other. \n",
        "\n",
        "You can still use Decision Trees even if you have unbalanced data, but if your tree is not as effective as you hoped this could be a possible explanation as to why."
      ]
    },
    {
      "cell_type": "markdown",
      "metadata": {
        "id": "DC0k603a8n7R"
      },
      "source": [
        "Now it's time to split our data into a training and a testing dataset using a random split:"
      ]
    },
    {
      "cell_type": "code",
      "execution_count": null,
      "metadata": {
        "id": "mfNcjA8rLWbe"
      },
      "outputs": [],
      "source": [
        "#Get the features and labels from the data \n",
        "x = df.drop([colname], axis=1)\n",
        "y = df[colname]\n",
        "\n",
        "#Specify a 50% split\n",
        "training_percentage = 50 \n",
        "\n",
        "#Create the training and testing datasets\n",
        "X_train, X_test, Y_train, Y_test = train_test_split(x, y, train_size=training_percentage/100)"
      ]
    },
    {
      "cell_type": "markdown",
      "metadata": {
        "id": "hg2O6Ty-Mp9G"
      },
      "source": [
        "### **Step 5:** Train the model\n",
        "\n",
        "Now it's time to make our decision tree. We will also need to set the hyperparameters (values that control how the model learns and makes decisions). In this case we will specify the maximum depth and the criterion the model will use to evaluate each feature. \n",
        "\n",
        "The \"Gini index\" is a measure of how pure the split is for each node in the Decision Tree. A lower Gini index indicates a more pure split.\n",
        "\n",
        "Run the code below to create your model:"
      ]
    },
    {
      "cell_type": "code",
      "execution_count": null,
      "metadata": {
        "id": "F8Z877SLNSx3"
      },
      "outputs": [],
      "source": [
        "#Create a decision tree classifier called \"clf\"\n",
        "clf = DecisionTreeClassifier(criterion='gini', max_depth=2, random_state=0)"
      ]
    },
    {
      "cell_type": "markdown",
      "metadata": {
        "id": "cxZowIOUOjmj"
      },
      "source": [
        "Now that we have created a decision tree it's time to train it using our training dataset. We will also evaluate the model's accuracy (what percent of exoplanets did it correctly classify based on discovery method).\n",
        "\n",
        "Run the code below to train and evaluate our model:"
      ]
    },
    {
      "cell_type": "code",
      "execution_count": null,
      "metadata": {
        "id": "GNVwoVZlOkAU"
      },
      "outputs": [],
      "source": [
        "#Train the model\n",
        "clf.fit(X_train, Y_train)\n",
        "\n",
        "#Print the training accuracy \n",
        "print('\\nTraining Accuracy (%): ',(100*(clf.score(X_train,Y_train))))"
      ]
    },
    {
      "cell_type": "markdown",
      "metadata": {
        "id": "XkrDKDZUQ7EU"
      },
      "source": [
        "Now that we have trained our model, we can see which features it is using to make predictions. \n",
        "\n",
        "Run the code below to visualize the tree based off of the original 50/50 split:"
      ]
    },
    {
      "cell_type": "code",
      "execution_count": null,
      "metadata": {
        "id": "jthDniVbRbgR"
      },
      "outputs": [],
      "source": [
        "#Create a visualization for the decision tree\n",
        "dot_data = tree.export_graphviz(clf, out_file=None,\n",
        "                               feature_names=X_train.columns,\n",
        "                               class_names=unique(Y_train.values, ''),                                \n",
        "                               filled=True, rounded=True,\n",
        "                               special_characters=True)\n",
        "graph = graphviz.Source(dot_data)\n",
        "graph\n",
        "\n",
        "#did not use inclination -> is transit"
      ]
    },
    {
      "cell_type": "markdown",
      "metadata": {
        "id": "4K1mpky-7qmC"
      },
      "source": [
        "### **Step 6:** Test the model\n",
        "\n",
        "Run this code block to run the other half of our data (the testing dataset) through the model we just trained to find out how accurate it is with new data:"
      ]
    },
    {
      "cell_type": "code",
      "execution_count": null,
      "metadata": {
        "id": "D8BugqKW8Ika"
      },
      "outputs": [],
      "source": [
        "#Make the prediction using the model\n",
        "Y_pred = clf.predict(X_test)\n",
        "\n",
        "print('Percentage accuracy: ', 100*accuracy_score(Y_test, Y_pred))"
      ]
    },
    {
      "cell_type": "markdown",
      "source": [
        "### **Step 7:** Evaluate the model\n",
        "\n",
        "Did this model help you answer your research question?\n",
        "\n",
        "What are some forms of bias that you need to be aware of in this analysis?\n",
        "\n",
        "What questions do you still have?"
      ],
      "metadata": {
        "id": "n8jS1TnWHrq7"
      }
    }
  ],
  "metadata": {
    "colab": {
      "collapsed_sections": [
        "D9PTyURgxr9G",
        "88xxnr1lx1nh",
        "CmBl1jdgEE2-",
        "CKtcxO4hEeoR",
        "bts3jKENKK4O",
        "rZ7zIvD6Ln0o",
        "vJdwTahuMTKp",
        "NnsGTrCBMWrZ",
        "qTB4_LUPiY_J",
        "hBJh7Abmg9K-",
        "bg2J0IMzQMdr",
        "t6IFsuz-hkhc",
        "K63jPXpihkhm",
        "CAWF0-GJhkhm",
        "7ahGANG2hkhn",
        "fxByzmDshkho",
        "L4yPVX6VmTAM",
        "r2GQIyxKmTAO",
        "lLkpNVLZxgA2"
      ],
      "name": "Decision_Trees_Template.ipynb",
      "provenance": [],
      "include_colab_link": true
    },
    "kernelspec": {
      "display_name": "Python 3",
      "name": "python3"
    },
    "language_info": {
      "name": "python"
    }
  },
  "nbformat": 4,
  "nbformat_minor": 0
}