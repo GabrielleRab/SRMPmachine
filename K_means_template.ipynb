{
  "nbformat": 4,
  "nbformat_minor": 0,
  "metadata": {
    "colab": {
      "name": "K-means_template.ipynb",
      "provenance": [],
      "collapsed_sections": [],
      "include_colab_link": true
    },
    "kernelspec": {
      "name": "python3",
      "display_name": "Python 3"
    },
    "language_info": {
      "name": "python"
    }
  },
  "cells": [
    {
      "cell_type": "markdown",
      "metadata": {
        "id": "view-in-github",
        "colab_type": "text"
      },
      "source": [
        "<a href=\"https://colab.research.google.com/github/GabrielleRab/SRMPmachine/blob/main/K_means_template.ipynb\" target=\"_parent\"><img src=\"https://colab.research.google.com/assets/colab-badge.svg\" alt=\"Open In Colab\"/></a>"
      ]
    },
    {
      "cell_type": "markdown",
      "metadata": {
        "id": "eg16fWNG_ioj"
      },
      "source": [
        "# **K-means clustering with a dataset of your choice**\n",
        "\n",
        "Recall that we use k-means clustering when we have unlabeled data and we want to find patterns based on specific characteristics.\n",
        "\n",
        "### **Step 1:** Identify your question\n",
        "\n",
        "This has already been done for you! Look at the research question for your dataset and consider whether or not it's a good fit for the k-means clustering approach."
      ]
    },
    {
      "cell_type": "markdown",
      "metadata": {
        "id": "TEVDmRuIDesI"
      },
      "source": [
        "### **Step 2:** Select your data\n",
        "\n",
        "Let's import our data. First we need to load in the necessary Python libraries. Run the code below:"
      ]
    },
    {
      "cell_type": "code",
      "execution_count": null,
      "metadata": {
        "id": "5dYdyVUWNGrn"
      },
      "outputs": [],
      "source": [
        "# import the necessary Python library\n",
        "import pandas as pd"
      ]
    },
    {
      "cell_type": "markdown",
      "source": [
        "Next, we create a dataframe called with a pre-cleaned version of your data. \n",
        "\n",
        "**Important:** *Only run the cell for your chosen dataset. Ignore the other two cells.*"
      ],
      "metadata": {
        "id": "SV6xfsGyGdD3"
      }
    },
    {
      "cell_type": "code",
      "source": [
        "# Run this cell ONLY if you are using the stellar rotation dataset\n",
        "df = pd.DataFrame(pd.read_csv(\"https://raw.githubusercontent.com/GabrielleRab/SRMPmachine/main/datasets/Stellar_rotation_clean.csv\"))"
      ],
      "metadata": {
        "_uuid": "1365d38deb407ea9c0f4e93830c5f9d4d65ebd9d",
        "execution": {
          "iopub.status.busy": "2022-07-08T08:46:05.457205Z",
          "iopub.execute_input": "2022-07-08T08:46:05.457708Z",
          "iopub.status.idle": "2022-07-08T08:46:05.512457Z",
          "shell.execute_reply.started": "2022-07-08T08:46:05.457666Z",
          "shell.execute_reply": "2022-07-08T08:46:05.511804Z"
        },
        "trusted": true,
        "id": "mS0-jD-ECn3B"
      },
      "execution_count": null,
      "outputs": []
    },
    {
      "cell_type": "code",
      "source": [
        "# Run this cell ONLY if you are using the dragonfly wing dataset\n",
        "df = pd.DataFrame(pd.read_csv(\"https://raw.githubusercontent.com/GabrielleRab/SRMPmachine/main/datasets/wing_measurements_clean.csv\"))"
      ],
      "metadata": {
        "id": "J1KFhOY340mV"
      },
      "execution_count": null,
      "outputs": []
    },
    {
      "cell_type": "code",
      "source": [
        "# Run this cell ONLY if you are using the North Carolina crime dataset\n",
        "df = pd.DataFrame(pd.read_csv(\"https://raw.githubusercontent.com/GabrielleRab/SRMPmachine/main/datasets/crime_data_clean.csv\"))"
      ],
      "metadata": {
        "id": "SPRaxkG_46lj"
      },
      "execution_count": null,
      "outputs": []
    },
    {
      "cell_type": "markdown",
      "metadata": {
        "id": "0O-e1Lpr0P0B"
      },
      "source": [
        "Let's take a look at the first 5 rows of the dataset. Make sure this is the dataset you meant to import! If it's wrong, just go back and run the correct cell above. That will over-write the dataframe."
      ]
    },
    {
      "cell_type": "code",
      "source": [
        "df.head()"
      ],
      "metadata": {
        "id": "KjQ7IlA9GpQJ"
      },
      "execution_count": null,
      "outputs": []
    },
    {
      "cell_type": "markdown",
      "metadata": {
        "id": "A8tqBQAhzy73"
      },
      "source": [
        "Run the code below to find out how many rows are in our dataset:"
      ]
    },
    {
      "cell_type": "code",
      "execution_count": null,
      "metadata": {
        "id": "8rP0ExL5zxnt"
      },
      "outputs": [],
      "source": [
        "# return the number of rows in the dataset\n",
        "len(df)"
      ]
    },
    {
      "cell_type": "markdown",
      "source": [
        "### **Step 3:** Choose your method\n",
        "\n",
        "Review your dataset and your research question one more time to make sure that you're ready to use the k-means clustering method. This is an unsupervised method that works best when your data is not already classified. K-means clustering is an algorithm used to group unlabelled datasets based on their feature similarities. \n",
        "\n",
        "Run the code below to import the necessary Python libraries for k-means clustering."
      ],
      "metadata": {
        "id": "cDBL042e7n34"
      }
    },
    {
      "cell_type": "code",
      "source": [
        "# import necessary Python libraries\n",
        "import pylab as plt\n",
        "import numpy as np\n",
        "from scipy import stats\n",
        "\n",
        "import matplotlib.pyplot as mplt \n",
        "import seaborn as sns\n",
        "\n",
        "from sklearn.cluster import KMeans\n",
        "from sklearn.model_selection import train_test_split"
      ],
      "metadata": {
        "id": "9RI8ndED8qhI"
      },
      "execution_count": null,
      "outputs": []
    },
    {
      "cell_type": "markdown",
      "source": [
        "### **Step 4:** Prepare your data\n",
        "\n",
        "This step has been taken care of for you! There are no rows with missing data."
      ],
      "metadata": {
        "id": "xMXAX4kSNQV7"
      }
    },
    {
      "cell_type": "markdown",
      "source": [
        "Now it's time to choose which features you will use for your clustering analysis. \n",
        "\n",
        "**Replace aaaa and bbbb below with the names of the columns that contain the features you want to compare (make sure there are no typos!):**\n",
        "\n",
        "If you want to try clustering with different features, simply replace the column names with new ones and then rerun this cell and all the cells below it."
      ],
      "metadata": {
        "id": "pmQo1r_uNebL"
      }
    },
    {
      "cell_type": "code",
      "source": [
        "# Replace aaaa and bbbb below with the names of the columns \n",
        "# that contain the features you want to compare:\n",
        "\n",
        "col1 = \"aaaa\"\n",
        "col2 = \"bbbb\"\n",
        "\n",
        "x = df.iloc[:, [df.columns.get_loc(col1),df.columns.get_loc(col2)]].values"
      ],
      "metadata": {
        "id": "G8IQRCE4Nem7"
      },
      "execution_count": null,
      "outputs": []
    },
    {
      "cell_type": "markdown",
      "source": [
        "Let's examine the distribution of the two features you have chosen to examine the data distrubiton. "
      ],
      "metadata": {
        "id": "RuYPH8Uvby2B"
      }
    },
    {
      "cell_type": "code",
      "source": [
        "# plt.boxplot(x[:, 0])\n",
        "fig, axs = plt.subplots(2, figsize = (10,4))\n",
        "plt1 = sns.boxplot(x[:, 0], ax = axs[0])\n",
        "plt2 = sns.boxplot(x[:, 1], ax = axs[1])\n",
        "plt.tight_layout()"
      ],
      "metadata": {
        "id": "Xqt7fvYzuT62"
      },
      "execution_count": null,
      "outputs": []
    },
    {
      "cell_type": "markdown",
      "source": [
        "Let's look at the overall distribution of our data. We will create a \"distplot\" which  represents the univariate distribution of data i.e. data distribution of a variable against the density distribution. So the y-axis in a density plot is the probability density function for the kernel density estimation, which is why it says density. :"
      ],
      "metadata": {
        "id": "KCb2iIlvnWyC"
      }
    },
    {
      "cell_type": "code",
      "source": [
        "# Plot distribution\n",
        "sns.distplot(x)"
      ],
      "metadata": {
        "id": "bvDUIfBu6zbw"
      },
      "execution_count": null,
      "outputs": []
    },
    {
      "cell_type": "markdown",
      "source": [
        "### **Step 5:** Create and Use the model\n",
        "\n",
        "Now it's time to make our k-means classifier. We will also need to set the hyperparameters (values that control how the model learns and makes decisions).\n",
        "\n",
        "**Note:** Because k-means clustering is an unsupervised method, we do not need to split our data into a training and a testing set. No data is labeled, so there is no way to train the model.\n",
        "\n",
        "Run the code below to create the model:"
      ],
      "metadata": {
        "id": "hg2O6Ty-Mp9G"
      }
    },
    {
      "cell_type": "markdown",
      "source": [
        "To calculate the optimum value of k (number of clusters) in the k-means model, we draw an elbow curve to see where the steep decline happens. "
      ],
      "metadata": {
        "id": "gjsk2aWFuMf6"
      }
    },
    {
      "cell_type": "code",
      "source": [
        "distorsions = []\n",
        "for k in range(1, 10):\n",
        "    kmeans = KMeans(n_clusters=k)\n",
        "    kmeans.fit(x)\n",
        "    distorsions.append(kmeans.inertia_)\n",
        "\n",
        "fig = plt.figure(figsize=(15, 5))\n",
        "plt.plot(range(1, 10), distorsions)\n",
        "plt.grid(True)\n",
        "plt.title('Elbow curve')"
      ],
      "metadata": {
        "id": "sk_puoTHtu9c"
      },
      "execution_count": null,
      "outputs": []
    },
    {
      "cell_type": "markdown",
      "source": [
        "See a sample elbow point below:\n",
        "\n",
        "<img src=\"https://miro.medium.com/max/1400/1*V25YoNWK7v1fSDP5ixPPfQ.png\">"
      ],
      "metadata": {
        "id": "ejrVpTVuQcv4"
      }
    },
    {
      "cell_type": "markdown",
      "source": [
        "**Enter the correct number for k below:**\n",
        "\n",
        "Remember to change this if you rerun your code with new features."
      ],
      "metadata": {
        "id": "qIhZ2X6OuVOU"
      }
    },
    {
      "cell_type": "code",
      "source": [
        "# enter your number for k (replace the x) below:\n",
        "k = x\n",
        "\n",
        "# create the k-means classifier\n",
        "kmeans = KMeans(n_clusters = k, init = 'k-means++', max_iter = 300, n_init = 10, random_state = 0)\n"
      ],
      "metadata": {
        "id": "F8Z877SLNSx3"
      },
      "execution_count": null,
      "outputs": []
    },
    {
      "cell_type": "markdown",
      "source": [
        "Next we will apply the model to the data:"
      ],
      "metadata": {
        "id": "cxZowIOUOjmj"
      }
    },
    {
      "cell_type": "code",
      "source": [
        "# fit the model to the data\n",
        "y_kmeans = kmeans.fit_predict(x)"
      ],
      "metadata": {
        "id": "GNVwoVZlOkAU"
      },
      "execution_count": null,
      "outputs": []
    },
    {
      "cell_type": "markdown",
      "source": [
        "Let's compute the size of each cluster that our model formed. "
      ],
      "metadata": {
        "id": "vvW2VSaAG5sd"
      }
    },
    {
      "cell_type": "code",
      "source": [
        "#Sizes of each cluster \n",
        "for i in range(k):\n",
        "  print(x[y_kmeans == i].size)"
      ],
      "metadata": {
        "id": "L7qtLbxKG0n8"
      },
      "execution_count": null,
      "outputs": []
    },
    {
      "cell_type": "markdown",
      "source": [
        "**Bias Alert!** If your clusters are not similar in size, this might introduce some inaccuracy in our clustering. K-means clustering will always form clusters of similar areas, but different clusters may have different densities."
      ],
      "metadata": {
        "id": "b7d5PzlkG_bz"
      }
    },
    {
      "cell_type": "markdown",
      "source": [
        "Let's visualize the clusters that our model has created. We will add the planets from our solar system for reference:"
      ],
      "metadata": {
        "id": "fyN77EAqW0Lr"
      }
    },
    {
      "cell_type": "code",
      "source": [
        "font = {'family' : 'normal',\n",
        "        'weight' : 'bold',\n",
        "        'size'   : 22}\n",
        "\n",
        "colors = [\"purple\", \"blue\", \"orange\", \"green\", \"yellow\", \"lightblue\", \"magenta\", \"red\", \"pink\", \"turquoise\", \"grey\"]\n",
        "\n",
        "#Visualising the clusters\n",
        "for i in range(k):\n",
        "  plt.scatter(x[y_kmeans == i, 0], x[y_kmeans == i, 1], s = 20, c = colors[i])\n",
        "\n",
        "#Plotting the centroids of the clusters\n",
        "# print(kmeans.cluster_centers_)\n",
        "plt.scatter(\n",
        "    kmeans.cluster_centers_[:, 0], kmeans.cluster_centers_[:, 1],\n",
        "    s=100, marker='*',\n",
        "    c='black', \n",
        "    label='centroids'\n",
        ")\n",
        "\n",
        "plt.xlabel(col1)\n",
        "plt.ylabel(col2)\n",
        "plt.legend()\n"
      ],
      "metadata": {
        "id": "jthDniVbRbgR"
      },
      "execution_count": null,
      "outputs": []
    },
    {
      "cell_type": "markdown",
      "source": [
        "What do you notice? \n",
        "\n",
        "Do the clusters of data points in your dataset make any logical sense to you?"
      ],
      "metadata": {
        "id": "F4gMUKyFZIXz"
      }
    },
    {
      "cell_type": "markdown",
      "source": [
        "**Bias alert!** How much space is there between your clusters? Recall that the borders between closely packed clusters may be somewhat arbitrary. Points along the borders should be considered with caution.\n",
        "\n",
        "Remember that the k-means clustering algorithm will *always create clusters* even if you don't think they look very meaningful. If these clusters don't look real to you, go back and try different features.\n",
        "\n",
        "**Note: if your data looks like it has a linear correlation, you might want to try Linear Regression instead.**"
      ],
      "metadata": {
        "id": "xpsINcY8jv9J"
      }
    },
    {
      "cell_type": "markdown",
      "source": [
        "Evaluate the model\n",
        "\n",
        "Did this model help you answer your research question?\n",
        "\n",
        "What are some forms of bias that you need to be aware of in this analysis?\n",
        "\n",
        "What questions do you still have?"
      ],
      "metadata": {
        "id": "ypv7SJ5zSyqu"
      }
    }
  ]
}