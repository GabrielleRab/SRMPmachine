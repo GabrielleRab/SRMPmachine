{
  "metadata": {
    "kernelspec": {
      "display_name": "Python 3",
      "language": "python",
      "name": "python3"
    },
    "language_info": {
      "name": "python",
      "version": "3.6.6",
      "mimetype": "text/x-python",
      "codemirror_mode": {
        "name": "ipython",
        "version": 3
      },
      "pygments_lexer": "ipython3",
      "nbconvert_exporter": "python",
      "file_extension": ".py"
    },
    "colab": {
      "name": "Linear_regression_exoplanets.ipynb",
      "provenance": [],
      "collapsed_sections": [
        "GqrtvNT-Cn3I",
        "W7ztttZcCn3J"
      ],
      "include_colab_link": true
    }
  },
  "nbformat_minor": 0,
  "nbformat": 4,
  "cells": [
    {
      "cell_type": "markdown",
      "metadata": {
        "id": "view-in-github",
        "colab_type": "text"
      },
      "source": [
        "<a href=\"https://colab.research.google.com/github/GabrielleRab/SRMPmachine/blob/main/Linear_regression_exoplanets.ipynb\" target=\"_parent\"><img src=\"https://colab.research.google.com/assets/colab-badge.svg\" alt=\"Open In Colab\"/></a>"
      ]
    },
    {
      "cell_type": "markdown",
      "source": [
        "# **Linear Regression with Exoplanets** \n",
        "\n",
        "We've already explored linear regression in Google Sheets. Now it's time to use our Colab skills to run linear regression analysis using code. We will also see how this method follows the machine learning pipeline."
      ],
      "metadata": {
        "_uuid": "d98e260fd46b2018f8235d76d6b46d6e149ded86",
        "id": "_DtPtkJcCn28"
      }
    },
    {
      "cell_type": "markdown",
      "source": [
        "### **Step 1:** Identify your question\n",
        "\n",
        "\n",
        "In this case, we will use linear regression to verify that exoplanets follow the laws of physics as observed in our own solar system. We are interested in the correlations between different features of exoplanets and discovering which known features can be used to predict unknown features."
      ],
      "metadata": {
        "_uuid": "eb75d57ef5c0c094eb265c3fb4ef77b8f8c73dce",
        "id": "OtKPTjUACn2_"
      }
    },
    {
      "cell_type": "markdown",
      "source": [
        "\n",
        "### **Step 2:** Select your data\n",
        "\n",
        "Let's first read and explore our data. First we need to load in the necessary Python libraries. Run the code below:"
      ],
      "metadata": {
        "_uuid": "eb75d57ef5c0c094eb265c3fb4ef77b8f8c73dce",
        "id": "FX4ZjP3p2MnH"
      }
    },
    {
      "cell_type": "code",
      "source": [
        "# Supress Warnings\n",
        "import warnings\n",
        "warnings.filterwarnings('ignore')\n",
        "\n",
        "# Import the numpy and pandas package\n",
        "import numpy as np\n",
        "import pandas as pd\n",
        "from scipy import stats\n",
        "\n",
        "# Data Visualisation\n",
        "import matplotlib.pyplot as plt \n",
        "import seaborn as sns"
      ],
      "metadata": {
        "_uuid": "d68008018678c65564ddda5994cb05129f3ca72b",
        "execution": {
          "iopub.status.busy": "2022-07-08T08:46:02.974890Z",
          "iopub.execute_input": "2022-07-08T08:46:02.975520Z",
          "iopub.status.idle": "2022-07-08T08:46:02.982643Z",
          "shell.execute_reply.started": "2022-07-08T08:46:02.975469Z",
          "shell.execute_reply": "2022-07-08T08:46:02.981331Z"
        },
        "trusted": true,
        "id": "Y1JnBxdlCn3A"
      },
      "execution_count": null,
      "outputs": []
    },
    {
      "cell_type": "markdown",
      "source": [
        "Next, we will create a dataframe called \"exoplanets\" with a cleaned version of our exoplanets data (which has had the outlying stars removed):"
      ],
      "metadata": {
        "id": "cVUQOhC4hKnS"
      }
    },
    {
      "cell_type": "code",
      "source": [
        "exoplanets = pd.DataFrame(pd.read_csv(\"https://raw.githubusercontent.com/GabrielleRab/SRMPmachine/main/datasets/exoplanets_cleaned.csv\"))\n",
        "exoplanets.head()"
      ],
      "metadata": {
        "_uuid": "1365d38deb407ea9c0f4e93830c5f9d4d65ebd9d",
        "execution": {
          "iopub.status.busy": "2022-07-08T08:46:05.457205Z",
          "iopub.execute_input": "2022-07-08T08:46:05.457708Z",
          "iopub.status.idle": "2022-07-08T08:46:05.512457Z",
          "shell.execute_reply.started": "2022-07-08T08:46:05.457666Z",
          "shell.execute_reply": "2022-07-08T08:46:05.511804Z"
        },
        "trusted": true,
        "id": "mS0-jD-ECn3B"
      },
      "execution_count": null,
      "outputs": []
    },
    {
      "cell_type": "markdown",
      "source": [
        "### **Step 3:** Choose your method\n",
        "\n",
        "Our goal here is to understand the relationship between different variables of the exoplanets. Because we expect them to have linear relationships (in some cases after a bit of mathematical transformation), we can use the Linear Regression method. But first, we need to prepare our dataset. "
      ],
      "metadata": {
        "id": "c9Tsm7d6w5ld"
      }
    },
    {
      "cell_type": "markdown",
      "source": [
        "### **Step 4:** Prepare your data\n",
        "\n",
        "Even though we are using the cleaned version of our exoplanets dataset, there may be more cleaning necessary becore we can run the linear regression analysis. For example, there may be missing values. \n",
        "\n",
        "The code below returns the percent of each column that is made up of blank cells:"
      ],
      "metadata": {
        "_uuid": "fab7463f8ed5eb55f1357db16c69204351295edf",
        "id": "3GEIBUrUCn3E"
      }
    },
    {
      "cell_type": "code",
      "source": [
        "# Calculating percent \"null\" or blank\n",
        "exoplanets.isnull().sum()*100/exoplanets.shape[0]\n",
        "\n",
        "\n",
        "# Discovery year vs radius = disc_year vs pl_radj\n",
        "# mass of star vs mass of planet = st_mass vs pl_bmassj\n",
        "# mass of planet vs radius of planet = pl_bmassj vs pl_radj"
      ],
      "metadata": {
        "_uuid": "cf9580e58b78c0558d96f54272701b6d2d32a018",
        "execution": {
          "iopub.status.busy": "2022-07-08T08:46:19.181428Z",
          "iopub.execute_input": "2022-07-08T08:46:19.182081Z",
          "iopub.status.idle": "2022-07-08T08:46:19.194303Z",
          "shell.execute_reply.started": "2022-07-08T08:46:19.182011Z",
          "shell.execute_reply": "2022-07-08T08:46:19.193504Z"
        },
        "trusted": true,
        "id": "o8okk1MPCn3E"
      },
      "execution_count": null,
      "outputs": []
    },
    {
      "cell_type": "markdown",
      "source": [
        "Let's create a cleaned dataframe whithout any exoplanets that are missing values to avoid introducing false correlations or detract from real correlations:"
      ],
      "metadata": {
        "id": "vSrSn75--g32"
      }
    },
    {
      "cell_type": "code",
      "source": [
        "# We remove the rows with the NULL values in the dataset and create a cleaned version \n",
        "exoplanets_dropna = exoplanets.dropna()\n",
        "\n",
        "# Double checking that we have removed all null values\n",
        "exoplanets_dropna.isnull().sum()*100/exoplanets_dropna.shape[0]"
      ],
      "metadata": {
        "execution": {
          "iopub.status.busy": "2022-07-08T08:46:25.916690Z",
          "iopub.execute_input": "2022-07-08T08:46:25.917251Z",
          "iopub.status.idle": "2022-07-08T08:46:25.932111Z",
          "shell.execute_reply.started": "2022-07-08T08:46:25.917183Z",
          "shell.execute_reply": "2022-07-08T08:46:25.931484Z"
        },
        "trusted": true,
        "id": "uiXj3N9dCn3E"
      },
      "execution_count": null,
      "outputs": []
    },
    {
      "cell_type": "markdown",
      "source": [
        "Let's see how many exoplanets are left in our cleaned dataset:"
      ],
      "metadata": {
        "id": "OpMMPb4IiV8C"
      }
    },
    {
      "cell_type": "code",
      "source": [
        "# return the number of rows in the cleaned dataframe\n",
        "print(\"exoplanets remaining\", len(exoplanets_dropna))\n",
        "\n",
        "# calculate the number of removed exoplanets\n",
        "print(\"exoplanets removed:\", len(exoplanets)-len(exoplanets_dropna))"
      ],
      "metadata": {
        "id": "wIoHlGaXis9Q"
      },
      "execution_count": null,
      "outputs": []
    },
    {
      "cell_type": "markdown",
      "source": [
        "Now that we've handled missing data, we need to check for outliers that might affect our results. Let's look at some box plots for our data:"
      ],
      "metadata": {
        "id": "CecUmvIYjQJQ"
      }
    },
    {
      "cell_type": "code",
      "source": [
        "# Outlier Analysis\n",
        "fig, axs = plt.subplots(7, figsize = (6,6))\n",
        "plt1 = sns.boxplot(exoplanets_dropna['pl_radj'], ax = axs[0])\n",
        "plt2 = sns.boxplot(exoplanets_dropna['sy_dist'], ax = axs[1])\n",
        "plt3 = sns.boxplot(exoplanets_dropna['pl_bmassj'], ax = axs[2])\n",
        "plt4 = sns.boxplot(exoplanets_dropna['pl_orbper'], ax = axs[3])\n",
        "plt5 = sns.boxplot(exoplanets_dropna['disc_year'], ax = axs[4])\n",
        "plt6 = sns.boxplot(exoplanets_dropna['st_mass'], ax = axs[5])\n",
        "plt7 = sns.boxplot(exoplanets_dropna['pl_orbsmax'], ax = axs[6])\n",
        "\n",
        "plt.tight_layout()"
      ],
      "metadata": {
        "_uuid": "c427a8e8a84e617eccdeda7df5eccd25f740f25d",
        "execution": {
          "iopub.status.busy": "2022-07-08T08:46:28.809703Z",
          "iopub.execute_input": "2022-07-08T08:46:28.810488Z",
          "iopub.status.idle": "2022-07-08T08:46:29.558415Z",
          "shell.execute_reply.started": "2022-07-08T08:46:28.810401Z",
          "shell.execute_reply": "2022-07-08T08:46:29.557459Z"
        },
        "trusted": true,
        "id": "khhH9YFbCn3E"
      },
      "execution_count": null,
      "outputs": []
    },
    {
      "cell_type": "markdown",
      "source": [
        "**Bias alert!** Linear regression is very sensitive to outliers, meaning that even with the stars removed, this dataset contains some values that could skew our results. \n",
        "\n",
        "You can see how much of an impact the outliers have on our data's distribution by looking at the boxplots without them:"
      ],
      "metadata": {
        "id": "UsZk87Xkjc38"
      }
    },
    {
      "cell_type": "code",
      "source": [
        "# Plots without the outliers. \n",
        "fig, axs = plt.subplots(7, figsize = (6,6))\n",
        "plt1 = sns.boxplot(exoplanets_dropna['pl_radj'], ax = axs[0], showfliers = False)\n",
        "plt2 = sns.boxplot(exoplanets_dropna['sy_dist'], ax = axs[1], showfliers = False)\n",
        "plt3 = sns.boxplot(exoplanets_dropna['pl_bmassj'], ax = axs[2], showfliers = False)\n",
        "plt4 = sns.boxplot(exoplanets_dropna['pl_orbper'], ax = axs[3], showfliers = False)\n",
        "plt5 = sns.boxplot(exoplanets_dropna['disc_year'], ax = axs[4], showfliers = False)\n",
        "plt6 = sns.boxplot(exoplanets_dropna['st_mass'], ax = axs[5], showfliers = False)\n",
        "plt7 = sns.boxplot(exoplanets_dropna['pl_orbsmax'], ax = axs[6], showfliers = False)\n",
        "\n",
        "plt.tight_layout()"
      ],
      "metadata": {
        "_uuid": "c427a8e8a84e617eccdeda7df5eccd25f740f25d",
        "execution": {
          "iopub.status.busy": "2022-07-08T08:46:28.809703Z",
          "iopub.execute_input": "2022-07-08T08:46:28.810488Z",
          "iopub.status.idle": "2022-07-08T08:46:29.558415Z",
          "shell.execute_reply.started": "2022-07-08T08:46:28.810401Z",
          "shell.execute_reply": "2022-07-08T08:46:29.557459Z"
        },
        "trusted": true,
        "id": "55eovPU1J5sy"
      },
      "execution_count": null,
      "outputs": []
    },
    {
      "cell_type": "markdown",
      "source": [
        "There are some considerable outliers in the dataset, so let's remove them and create a cleaned version of our dataframe:"
      ],
      "metadata": {
        "id": "pCmbjhMLXjhE"
      }
    },
    {
      "cell_type": "code",
      "source": [
        "# remove outliers\n",
        "exoplanets_clean = exoplanets_dropna.drop(exoplanets_dropna[exoplanets_dropna.pl_radj > 1.8].index)\n",
        "exoplanets_clean = exoplanets_clean.drop(exoplanets_clean[exoplanets_clean.sy_dist > 2000].index)\n",
        "exoplanets_clean = exoplanets_clean.drop(exoplanets_clean[exoplanets_clean.pl_bmassj > 0.6].index)\n",
        "exoplanets_clean = exoplanets_clean.drop(exoplanets_clean[exoplanets_clean.pl_orbper > 90].index)\n",
        "exoplanets_clean = exoplanets_clean.drop(exoplanets_clean[exoplanets_clean.st_mass > 1.6].index)\n",
        "exoplanets_clean = exoplanets_clean.drop(exoplanets_clean[exoplanets_clean.pl_orbsmax > 0.5].index)"
      ],
      "metadata": {
        "id": "yGKanYKqbPrZ"
      },
      "execution_count": null,
      "outputs": []
    },
    {
      "cell_type": "markdown",
      "source": [
        "As is visible from the heatmap, the variable `pl_radj` seems is highly correlated with `pl_bmassj` (+0.88) which is intuitive given that more massive planets are likely to be larger. \n",
        "\n",
        "Star radius and planetary mass are also highly correlated (+0.37), which can be explained given that bigger stars form from larger gas clouds which allows more matter for planet formation.\n",
        "\n",
        "It seems like `disc_year` and `pl_bmassj` also have a high negative correlation (-0.21), because we have been able to observe smaller exoplanets as our technology has improved.\n",
        "\n",
        "What other correlations do you notice and what do you think might explain them?"
      ],
      "metadata": {
        "_uuid": "de3f5b90d0b6165958efcf1a31b80141867987fe",
        "id": "L4D0Up4JCn3G"
      }
    },
    {
      "cell_type": "markdown",
      "source": [
        "Since we are interested in predicting planet redius given the independent variable of mass of the planet, we will assign the independent variable, `pl_bmassj`, in this case, to the variable `X` and the dependent variable, `pl_radj`, to the variable `y`."
      ],
      "metadata": {
        "_uuid": "fe62b625cb69b757c37930b85ffc1b4b4805f4ca",
        "id": "dDlPc4ygCn3H"
      }
    },
    {
      "cell_type": "code",
      "source": [
        "# This has all the relevant relationships. The text above will change according to the features being explored. \n",
        "\n",
        "#semi-major axis (pl_irbsmax cubed) vs pl_orbsper squared\n",
        "X = exoplanets_clean['pl_orbsmax'] ** 3\n",
        "y = exoplanets_clean['pl_orbper'] ** 2\n",
        "xlabel = \"Orbit Semi-Major Axis cubed\"\n",
        "ylabel = \"Orbital period squared\""
      ],
      "metadata": {
        "_uuid": "ae7285c79fd678fad0ee4fb18f8923daf024838b",
        "execution": {
          "iopub.status.busy": "2022-07-08T08:48:00.813411Z",
          "iopub.execute_input": "2022-07-08T08:48:00.814205Z",
          "iopub.status.idle": "2022-07-08T08:48:00.819219Z",
          "shell.execute_reply.started": "2022-07-08T08:48:00.814101Z",
          "shell.execute_reply": "2022-07-08T08:48:00.818327Z"
        },
        "trusted": true,
        "id": "axV6Wz5lCn3H"
      },
      "execution_count": null,
      "outputs": []
    },
    {
      "cell_type": "markdown",
      "source": [
        "### **Step 5:** Train the model"
      ],
      "metadata": {
        "_uuid": "1c10d5d48b611a9c66e1c99e66c44f6b36191a92",
        "id": "xBjwzI5dCn3G"
      }
    },
    {
      "cell_type": "markdown",
      "source": [
        "Remember how to calculate the slope of a linear graph? <br>\n",
        "<img src=\"https://www.katesmathlessons.com/uploads/1/6/1/0/1610286/1163738_orig.png\" width=\"250\">\n",
        "\n",
        "\n",
        "The equation for linear regression is a more complex version of this:<br>\n",
        "$y = c + m_1x_1 + m_2x_2 + ... + m_nx_n$\n",
        "\n",
        "-  $y$ is the response\n",
        "-  $c$ is the intercept\n",
        "-  $m_1$ is the coefficient for the first feature\n",
        "-  $m_n$ is the coefficient for the nth feature<br>\n",
        "\n",
        "In our case:\n",
        "\n",
        "$y = c + m_1 \\times sydist$\n",
        "\n",
        "The $m$ values are called the model **coefficients** or **model parameters**.\n",
        "\n",
        "---"
      ],
      "metadata": {
        "_uuid": "596550475e9050e4413572b184f66ddf74764878",
        "id": "CDs_zxbtCn3G"
      }
    },
    {
      "cell_type": "markdown",
      "source": [
        ""
      ],
      "metadata": {
        "id": "qgBZz5xCCn3H"
      }
    },
    {
      "cell_type": "markdown",
      "source": [
        "We now need to split our variable into training and testing sets. We'll perform this by importing `train_test_split` from the `sklearn.model_selection` library. It is usually a good practice to keep 70% of the data in your train dataset and the rest 30% in your test dataset"
      ],
      "metadata": {
        "_uuid": "b3d9b88574b3b83dd47e7e0425c8e627443c4ec3",
        "id": "GkfrDZGJCn3H"
      }
    },
    {
      "cell_type": "code",
      "source": [
        "# import train test split function\n",
        "from sklearn.model_selection import train_test_split\n",
        "\n",
        "# split the data into 70% training and 30% testing\n",
        "X_train, X_test, y_train, y_test = train_test_split(X, y, train_size = 0.7, test_size = 0.3, random_state = 100)"
      ],
      "metadata": {
        "_uuid": "997311202075aaa98631ef95c1a0d91cdbefa2af",
        "execution": {
          "iopub.status.busy": "2022-07-08T08:48:08.113624Z",
          "iopub.execute_input": "2022-07-08T08:48:08.113980Z",
          "iopub.status.idle": "2022-07-08T08:48:08.120436Z",
          "shell.execute_reply.started": "2022-07-08T08:48:08.113918Z",
          "shell.execute_reply": "2022-07-08T08:48:08.119615Z"
        },
        "trusted": true,
        "id": "emc81-gTCn3H"
      },
      "execution_count": null,
      "outputs": []
    },
    {
      "cell_type": "code",
      "source": [
        "# Let's now take a look at the train dataset\n",
        "\n",
        "X_train.head()"
      ],
      "metadata": {
        "_uuid": "07e568ebfdb6c838568e2df3dfd5fd0acadc7184",
        "execution": {
          "iopub.status.busy": "2022-07-08T08:48:10.481698Z",
          "iopub.execute_input": "2022-07-08T08:48:10.482288Z",
          "iopub.status.idle": "2022-07-08T08:48:10.489345Z",
          "shell.execute_reply.started": "2022-07-08T08:48:10.482237Z",
          "shell.execute_reply": "2022-07-08T08:48:10.488604Z"
        },
        "trusted": true,
        "id": "Op6pxleICn3H"
      },
      "execution_count": null,
      "outputs": []
    },
    {
      "cell_type": "code",
      "source": [
        "y_train.head()"
      ],
      "metadata": {
        "_uuid": "873156cc1e983a63bfea8b5947bfb91e6992a7f5",
        "execution": {
          "iopub.status.busy": "2022-07-08T08:48:12.693448Z",
          "iopub.execute_input": "2022-07-08T08:48:12.693947Z",
          "iopub.status.idle": "2022-07-08T08:48:12.701543Z",
          "shell.execute_reply.started": "2022-07-08T08:48:12.693878Z",
          "shell.execute_reply": "2022-07-08T08:48:12.700662Z"
        },
        "trusted": true,
        "id": "1DmmVqzCCn3H"
      },
      "execution_count": null,
      "outputs": []
    },
    {
      "cell_type": "markdown",
      "source": [
        "You first need to import the `statsmodel.api` library using which you'll perform the linear regression."
      ],
      "metadata": {
        "_uuid": "a53ec07eb3235dca5ca72cc9c2f6ca0634a33a09",
        "id": "amhsiqHXCn3H"
      }
    },
    {
      "cell_type": "code",
      "source": [
        "import statsmodels.api as sm"
      ],
      "metadata": {
        "_uuid": "226e3704ff6b78a47273fd816009f9c30b8f0a81",
        "execution": {
          "iopub.status.busy": "2022-07-08T08:48:14.946604Z",
          "iopub.execute_input": "2022-07-08T08:48:14.946897Z",
          "iopub.status.idle": "2022-07-08T08:48:14.951137Z",
          "shell.execute_reply.started": "2022-07-08T08:48:14.946853Z",
          "shell.execute_reply": "2022-07-08T08:48:14.950224Z"
        },
        "trusted": true,
        "id": "NXSWIA7VCn3H"
      },
      "execution_count": null,
      "outputs": []
    },
    {
      "cell_type": "markdown",
      "source": [
        "By default, the `statsmodels` library fits a line on the dataset which passes through the origin. But in order to have an intercept, you need to manually use the `add_constant` attribute of `statsmodels`. And once you've added the constant to your `X_train` dataset, you can go ahead and fit a regression line using the `OLS` (Ordinary Least Squares) attribute of `statsmodels` as shown below"
      ],
      "metadata": {
        "_uuid": "7aace406b025306a7ba85016b8bd48ae662d1ec1",
        "id": "MX4cdx0bCn3H"
      }
    },
    {
      "cell_type": "code",
      "source": [
        "# Add a constant to get an intercept\n",
        "X_train_sm = sm.add_constant(X_train)\n",
        "\n",
        "# Fit the resgression line using 'OLS'\n",
        "lr = sm.OLS(y_train, X_train_sm).fit()"
      ],
      "metadata": {
        "_uuid": "b80a766082e6c9c40c3f09499fec4cfc51f62763",
        "execution": {
          "iopub.status.busy": "2022-07-08T08:48:19.259830Z",
          "iopub.execute_input": "2022-07-08T08:48:19.260541Z",
          "iopub.status.idle": "2022-07-08T08:48:19.284919Z",
          "shell.execute_reply.started": "2022-07-08T08:48:19.260482Z",
          "shell.execute_reply": "2022-07-08T08:48:19.283737Z"
        },
        "trusted": true,
        "id": "I5c-_mIkCn3H"
      },
      "execution_count": null,
      "outputs": []
    },
    {
      "cell_type": "code",
      "source": [
        "# Print the parameters, i.e. the intercept and the slope of the regression line fitted\n",
        "lr.params"
      ],
      "metadata": {
        "_uuid": "fd4287b550d2f05555ae3e18d6f497912424f8cf",
        "execution": {
          "iopub.status.busy": "2022-07-08T08:48:25.857965Z",
          "iopub.execute_input": "2022-07-08T08:48:25.858309Z",
          "iopub.status.idle": "2022-07-08T08:48:25.867133Z",
          "shell.execute_reply.started": "2022-07-08T08:48:25.858238Z",
          "shell.execute_reply": "2022-07-08T08:48:25.866312Z"
        },
        "trusted": true,
        "id": "_clcjMg5Cn3I"
      },
      "execution_count": null,
      "outputs": []
    },
    {
      "cell_type": "code",
      "source": [
        "# Performing a summary operation lists out all the different parameters of the regression line fitted\n",
        "print(lr.summary())\n",
        "### safi - explain relevant stats, p-values "
      ],
      "metadata": {
        "_uuid": "f841995801587a25a9b4c4b77ef396e538e9ad1f",
        "execution": {
          "iopub.status.busy": "2022-07-08T08:48:34.421339Z",
          "iopub.execute_input": "2022-07-08T08:48:34.422170Z",
          "iopub.status.idle": "2022-07-08T08:48:34.445984Z",
          "shell.execute_reply.started": "2022-07-08T08:48:34.422082Z",
          "shell.execute_reply": "2022-07-08T08:48:34.445110Z"
        },
        "trusted": true,
        "id": "gDy0jZBFCn3I"
      },
      "execution_count": null,
      "outputs": []
    },
    {
      "cell_type": "markdown",
      "source": [
        "####  Looking at some key statistics from the summary"
      ],
      "metadata": {
        "_uuid": "b4184f39c773af135644179ad6f86e9e75c3d7d5",
        "id": "cpD8x36wCn3I"
      }
    },
    {
      "cell_type": "markdown",
      "source": [
        "Take a look at the R-squared for this result: 0.928, meaning that 92.8% of the variance in orbital period squared is explained by the orbit semi-major axis cubed.\n",
        "\n",
        "In scientific studies, the R-squared may need to be above 0.95 for a regression model to be considered reliable, so we're pretty close! In other domains, an R-squared of just 0.3 may be sufficient if there is extreme variability in the dataset.\n"
      ],
      "metadata": {
        "_uuid": "2eb6f1c6f44cf4b216aaf184ef64be7358c12bb7",
        "id": "J9mWSYnECn3I"
      }
    },
    {
      "cell_type": "markdown",
      "source": [
        "Our F statistic has a very low p value (0.0002894)\n",
        "Meaning that the model fit is statistically significant, and the explained variance isn't purely by chance."
      ],
      "metadata": {
        "_uuid": "6f0cc01ea96a792ef1c9e369a67f5cf4949cda42",
        "id": "-rWWuP4MCn3I"
      }
    },
    {
      "cell_type": "markdown",
      "source": [
        "---\n",
        "The fit is significant. Let's visualize how well the model fit the data.\n",
        "\n",
        "Our linear regression equation was: \n",
        "\n",
        "y = mx + c\n",
        "\n",
        "From the parameters that we get, our linear regression equation becomes:\n",
        "\n",
        "$ orbital period squared = 0.150294 \\times orbit semimajor axis cubed + 55.728726 $\n"
      ],
      "metadata": {
        "_uuid": "355241eda62e0f3fb9b843256640d56ab6bf7fd1",
        "id": "UcnVCPaWCn3I"
      }
    },
    {
      "cell_type": "code",
      "source": [
        "plt.scatter(X_train, y_train)\n",
        "plt.title(\"Training data\")\n",
        "plt.xlabel(xlabel)\n",
        "plt.ylabel(ylabel)\n",
        "plt.plot(X_train, 126954.187818*X_train + 0.365779, 'r')\n",
        "plt.show()"
      ],
      "metadata": {
        "scrolled": true,
        "_uuid": "6e0dc97a88b9fc1d4e975c2fe511e59bd0cd2b8a",
        "execution": {
          "iopub.status.busy": "2022-07-08T08:59:22.755250Z",
          "iopub.execute_input": "2022-07-08T08:59:22.755588Z",
          "iopub.status.idle": "2022-07-08T08:59:23.005199Z",
          "shell.execute_reply.started": "2022-07-08T08:59:22.755528Z",
          "shell.execute_reply": "2022-07-08T08:59:23.004121Z"
        },
        "trusted": true,
        "id": "rvg_lWTTCn3I"
      },
      "execution_count": null,
      "outputs": []
    },
    {
      "cell_type": "markdown",
      "source": [
        "### **Step 6:** Test the model"
      ],
      "metadata": {
        "id": "b2mg8P5Ve7Fx"
      }
    },
    {
      "cell_type": "markdown",
      "source": [
        "Now that we've fitted a regression line on the training dataset, it's time to make some predictions on the test data:"
      ],
      "metadata": {
        "_uuid": "a88d571a4e726470bb1af84b6197e7065bcd23d4",
        "id": "wjxTuiOpCn3J"
      }
    },
    {
      "cell_type": "code",
      "source": [
        "# Add a constant to X_test\n",
        "X_test_sm = sm.add_constant(X_test)\n",
        "\n",
        "# Predict the y values corresponding to X_test_sm\n",
        "y_pred = lr.predict(X_test_sm)"
      ],
      "metadata": {
        "_uuid": "f0bed7ce820292dceee1c3b00b9ecbcb9fdbbd37",
        "execution": {
          "iopub.status.busy": "2022-07-08T09:00:00.172166Z",
          "iopub.execute_input": "2022-07-08T09:00:00.172803Z",
          "iopub.status.idle": "2022-07-08T09:00:00.181239Z",
          "shell.execute_reply.started": "2022-07-08T09:00:00.172753Z",
          "shell.execute_reply": "2022-07-08T09:00:00.180310Z"
        },
        "trusted": true,
        "id": "qV7reIKYCn3J"
      },
      "execution_count": null,
      "outputs": []
    },
    {
      "cell_type": "markdown",
      "source": [
        "Let's check the R-squared on the test set. The closer R squared is to 1, the better our correlation:"
      ],
      "metadata": {
        "_uuid": "ab9e84c7ccf6d83fd215ba8771cb0243a59bc88e",
        "id": "yRQWOrk2Cn3K"
      }
    },
    {
      "cell_type": "code",
      "source": [
        "from sklearn.metrics import r2_score\n",
        "r_squared = r2_score(y_test, y_pred)\n",
        "r_squared"
      ],
      "metadata": {
        "_uuid": "6ce19fc28741a4d2b558a377f2fd39c81abdb72e",
        "execution": {
          "iopub.status.busy": "2022-07-08T09:00:16.729346Z",
          "iopub.execute_input": "2022-07-08T09:00:16.729844Z",
          "iopub.status.idle": "2022-07-08T09:00:16.736189Z",
          "shell.execute_reply.started": "2022-07-08T09:00:16.729773Z",
          "shell.execute_reply": "2022-07-08T09:00:16.735589Z"
        },
        "trusted": true,
        "id": "EyZr70lVCn3K"
      },
      "execution_count": null,
      "outputs": []
    },
    {
      "cell_type": "markdown",
      "source": [
        "This means that 94.3% of the variance in `pl_radj` in the test set is explained by `pl_bmassj`. This is a great fit! \n",
        "\n"
      ],
      "metadata": {
        "id": "qRciCzGzsUAQ"
      }
    },
    {
      "cell_type": "markdown",
      "source": [
        "Let's visualize the fit on the test set:"
      ],
      "metadata": {
        "id": "xtdWQhVPgvVn"
      }
    },
    {
      "cell_type": "code",
      "source": [
        "plt.scatter(X_test, y_test)\n",
        "plt.plot(X_test, 126954.187818*X_test + 0.365779, 'r')\n",
        "plt.title(\"Test data\")\n",
        "plt.xlabel(xlabel)\n",
        "plt.ylabel(ylabel)\n",
        "plt.show()"
      ],
      "metadata": {
        "scrolled": true,
        "_uuid": "eb08ac34d4e148e3221adfe126072f108adbfa24",
        "trusted": true,
        "id": "nElxbQC2Cn3K"
      },
      "execution_count": null,
      "outputs": []
    },
    {
      "cell_type": "markdown",
      "source": [
        "These results are consistent with Kepler's Third Law: the squares of the orbital periods of the planets are directly proportional to the cubes of the semi-major axes of their orbits. Kepler's Third Law implies that the period for a planet to orbit the Sun increases rapidly with the radius of its orbit."
      ],
      "metadata": {
        "id": "tdRVOJ-ZgAF8"
      }
    },
    {
      "cell_type": "markdown",
      "source": [
        "### **Step 7:** Evaluate the model\n",
        "\n",
        "Let's see if our model can predict the orbital periods of the earth, given its semi-major axis:"
      ],
      "metadata": {
        "id": "k5MD4aLBh-_b"
      }
    },
    {
      "cell_type": "code",
      "source": [
        "import math\n",
        "print(\"Predicted earth orbital period\", math.sqrt(126954.187818*1**3 + 0.365779))"
      ],
      "metadata": {
        "id": "LEmqd13ViI3i"
      },
      "execution_count": null,
      "outputs": []
    },
    {
      "cell_type": "markdown",
      "source": [
        "Not bad! In reality, it's 365 days."
      ],
      "metadata": {
        "id": "jNoZNNZVjVTr"
      }
    },
    {
      "cell_type": "markdown",
      "source": [
        "### **Bonus**: Explore more variables\n",
        "\n",
        "Below you will see the correlations for every pair of variables in our dataset:"
      ],
      "metadata": {
        "id": "TUW6M6OnjgHv"
      }
    },
    {
      "cell_type": "code",
      "source": [
        "# Let's see the correlation between different variables.\n",
        "sns.heatmap(exoplanets_clean.corr(), cmap=\"YlGnBu\", annot = True)\n",
        "plt.show()\n",
        "\n",
        "# Discovery year vs radius = disc_year vs pl_radj\n",
        "# mass of star vs mass of planet = st_mass vs pl_bmassj\n",
        "# mass of planet vs radius of planet = pl_bmassj vs pl_radj"
      ],
      "metadata": {
        "id": "cPRZqHT0cpPr"
      },
      "execution_count": null,
      "outputs": []
    },
    {
      "cell_type": "markdown",
      "source": [
        "Choose any two variables you would like to compare and type their names here:"
      ],
      "metadata": {
        "id": "pxSMvkVDjzgO"
      }
    },
    {
      "cell_type": "code",
      "source": [
        "# make sure you put the variable names in QUOTATION MARKS\n",
        "x_var = \"pl_radj\"\n",
        "y_var = \"pl_bmassj\""
      ],
      "metadata": {
        "id": "sTpSmVPwj3CI"
      },
      "execution_count": null,
      "outputs": []
    },
    {
      "cell_type": "code",
      "source": [
        "# set up data\n",
        "X_try = exoplanets_clean[x_var]\n",
        "y_try = exoplanets_clean[y_var]\n",
        "xlabel = x_var\n",
        "ylabel = y_var"
      ],
      "metadata": {
        "id": "aVVi6bIijwj_"
      },
      "execution_count": null,
      "outputs": []
    },
    {
      "cell_type": "code",
      "source": [
        "# Add a constant to get an intercept\n",
        "X_try_sm = sm.add_constant(X_try)\n",
        "\n",
        "# Fit the resgression line using 'OLS'\n",
        "lr = sm.OLS(y_try, X_try_sm).fit()\n",
        "lr.params"
      ],
      "metadata": {
        "id": "FXz6gng5kQWu"
      },
      "execution_count": null,
      "outputs": []
    },
    {
      "cell_type": "code",
      "source": [
        "# graph your results\n",
        "plt.scatter(X_try, y_try)\n",
        "plt.plot(X_try, lr.params[1]*X_try + lr.params[0], 'r')\n",
        "plt.xlabel(x_var)\n",
        "plt.ylabel(y_var)\n",
        "plt.show()"
      ],
      "metadata": {
        "id": "75O5pDSQkyqP"
      },
      "execution_count": null,
      "outputs": []
    }
  ]
}