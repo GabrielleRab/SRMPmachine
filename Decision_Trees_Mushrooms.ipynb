{
  "nbformat": 4,
  "nbformat_minor": 0,
  "metadata": {
    "colab": {
      "provenance": [],
      "include_colab_link": true
    },
    "kernelspec": {
      "name": "python3",
      "display_name": "Python 3"
    },
    "language_info": {
      "name": "python"
    }
  },
  "cells": [
    {
      "cell_type": "markdown",
      "metadata": {
        "id": "view-in-github",
        "colab_type": "text"
      },
      "source": [
        "<a href=\"https://colab.research.google.com/github/GabrielleRab/SRMPmachine/blob/main/Decision_Trees_Mushrooms.ipynb\" target=\"_parent\"><img src=\"https://colab.research.google.com/assets/colab-badge.svg\" alt=\"Open In Colab\"/></a>"
      ]
    },
    {
      "cell_type": "markdown",
      "metadata": {
        "id": "eg16fWNG_ioj"
      },
      "source": [
        "---\n",
        "\n",
        "# **Decision Trees Colab: Poisonous Mushrooms**\n",
        "\n",
        "In this activity, you will build a decision tree to predict whether or not a mushroom is poisonous based on specific features or characteristics. You will determine which features are best able to predict the edibility of mushrooms.\n",
        "\n",
        "Decision trees are the building blocks of some of the most powerful supervised learning methods that are used today. The goal of a decision tree is to split your data into groups such that every element in one group belongs to one category. This makes it ideal for a binary classification task like poisonous vs not-poisonous."
      ]
    },
    {
      "cell_type": "markdown",
      "source": [
        "### **Step 1:** Understand the data\n",
        "\n",
        "This data set includes descriptions of 8,124 hypothetical samples from 23 species of gilled mushrooms in the Agaricus and Lepiota Family. Each sample is labeled as poisonous or not poisonous and all features of the mushroom are described.\n",
        "\n",
        "Take a moment to read the list of mushroom **features** and their descriptions in the linked Google Doc [here](https://docs.google.com/document/d/1Cbm-EvOJLiE725qYLw1jcl1-zz_5sPosJ5_q1lsEPFw/edit?usp=sharing).\n",
        "\n",
        "Which features do you think will be the most **predictive** of whether or not a mushroom is poisonous?"
      ],
      "metadata": {
        "id": "yCPJMRmC6I7m"
      }
    },
    {
      "cell_type": "markdown",
      "source": [
        "### **Step 2:** Import the necessary Python libraries\n",
        "\n",
        "We will use the sklearn Python library to create our Decision Tree. Run the code below to import the necessary sklearn modules along with libraries for data analysis and visualization."
      ],
      "metadata": {
        "id": "TEVDmRuIDesI"
      }
    },
    {
      "cell_type": "code",
      "source": [
        "from sklearn.model_selection import train_test_split\n",
        "from sklearn.preprocessing import StandardScaler\n",
        "from sklearn import tree\n",
        "from sklearn.tree import DecisionTreeClassifier\n",
        "from sklearn.metrics import accuracy_score\n",
        "import pandas as pd\n",
        "import graphviz"
      ],
      "metadata": {
        "id": "3l3JLv18DaDg"
      },
      "execution_count": null,
      "outputs": []
    },
    {
      "cell_type": "markdown",
      "source": [
        "### **Step 3:** Load in the data\n",
        "\n",
        "Run the code below to import the data, store it as a dataframe and preview the first 5 rows."
      ],
      "metadata": {
        "id": "0DO64X0aET2F"
      }
    },
    {
      "cell_type": "code",
      "source": [
        "df = pd.read_csv(\"https://raw.githubusercontent.com/GabrielleRab/SRMPmachine/main/datasets/mushrooms.csv\")\n",
        "df.head()"
      ],
      "metadata": {
        "id": "pxqgC3JQEfVL"
      },
      "execution_count": null,
      "outputs": []
    },
    {
      "cell_type": "markdown",
      "source": [
        "### **Step 4:** Split the data into a training and testing set\n",
        "\n",
        "Machine learning models first need to learn from labeled data (the training step) before they can be used to make predictions about new data (the testing step).\n",
        "\n",
        "Since we only have one dataset, we will need to split it into a training and a testing set. Run the code below to split our data 50/50 into the two sets:"
      ],
      "metadata": {
        "id": "MzK-qjG_Kwxu"
      }
    },
    {
      "cell_type": "code",
      "source": [
        "#Get the features and labels from the data\n",
        "#(and convert categorical information into indicator values)\n",
        "x = df.drop(['class'], axis=1)\n",
        "y = df['class']\n",
        "x = pd.get_dummies(x)\n",
        "y = pd.get_dummies(y)\n",
        "\n",
        "#Specify a 50% split\n",
        "training_percentage = 50\n",
        "\n",
        "#Create the training and testing datasets\n",
        "X_train, X_test, Y_train, Y_test = train_test_split(x, y, train_size=training_percentage/100, random_state=0)"
      ],
      "metadata": {
        "id": "mfNcjA8rLWbe"
      },
      "execution_count": null,
      "outputs": []
    },
    {
      "cell_type": "markdown",
      "source": [
        "### **Step 5:** Create the model\n",
        "\n",
        "Now it's time to make our decision tree. We will also need to set the hyperparameters (values that control how the model learns and makes decisions). In this case we will specify the maximum depth and the criterion the model will use to evaluate each feature.\n",
        "\n",
        "Run the code below to create your model:"
      ],
      "metadata": {
        "id": "hg2O6Ty-Mp9G"
      }
    },
    {
      "cell_type": "code",
      "source": [
        "clf = DecisionTreeClassifier(criterion='gini', max_depth=2, random_state=0)"
      ],
      "metadata": {
        "id": "F8Z877SLNSx3"
      },
      "execution_count": null,
      "outputs": []
    },
    {
      "cell_type": "markdown",
      "source": [
        "### **Step 5:** Train the model\n",
        "\n",
        "Now that we have created a decision tree it's time to train it using our training dataset. We will also evaluate the model's accuracy (what percent of mushrooms did it correctly identify as poisonous or non-poisonous).\n",
        "\n",
        "Run the code below to train and evaluate our model:"
      ],
      "metadata": {
        "id": "cxZowIOUOjmj"
      }
    },
    {
      "cell_type": "code",
      "source": [
        "#Train the model\n",
        "clf.fit(X_train, Y_train)\n",
        "\n",
        "#Print the training accuracy\n",
        "print('\\nTraining Accuracy (%): ',(100*(clf.score(X_train,Y_train))))"
      ],
      "metadata": {
        "id": "GNVwoVZlOkAU"
      },
      "execution_count": null,
      "outputs": []
    },
    {
      "cell_type": "markdown",
      "source": [
        "### **Step 6:** Visualizing the tree\n",
        "\n",
        "Now that we have trained our model, we can see which features it is using to make predictions. Run the code below to visualize the tree:"
      ],
      "metadata": {
        "id": "XkrDKDZUQ7EU"
      }
    },
    {
      "cell_type": "code",
      "source": [
        "dot_data = tree.export_graphviz(clf, out_file=None,\n",
        "                               feature_names=X_train.columns,\n",
        "                               class_names=Y_train.values,\n",
        "                               filled=True, rounded=True,\n",
        "                               special_characters=True)\n",
        "graph = graphviz.Source(dot_data)\n",
        "graph\n",
        "\n",
        "#Note: the values are shown in the order [[P, E], [E, P]]"
      ],
      "metadata": {
        "id": "jthDniVbRbgR"
      },
      "execution_count": null,
      "outputs": []
    },
    {
      "cell_type": "markdown",
      "source": [
        "### **Step 7:** Testing the tree\n",
        "\n",
        "Run this code block to run the other half of our data (the testing dataset) through the model we just trained to find out how accurate it is with new data:"
      ],
      "metadata": {
        "id": "4K1mpky-7qmC"
      }
    },
    {
      "cell_type": "code",
      "source": [
        "#Make the prediction using the model\n",
        "Y_pred = clf.predict(X_test)\n",
        "\n",
        "print('Percentage accuracy: ', 100*accuracy_score(Y_test, Y_pred))"
      ],
      "metadata": {
        "id": "D8BugqKW8Ika"
      },
      "execution_count": null,
      "outputs": []
    }
  ]
}