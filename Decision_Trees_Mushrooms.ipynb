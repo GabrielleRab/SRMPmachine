{
  "nbformat": 4,
  "nbformat_minor": 0,
  "metadata": {
    "colab": {
      "provenance": [],
      "include_colab_link": true
    },
    "kernelspec": {
      "name": "python3",
      "display_name": "Python 3"
    },
    "language_info": {
      "name": "python"
    }
  },
  "cells": [
    {
      "cell_type": "markdown",
      "metadata": {
        "id": "view-in-github",
        "colab_type": "text"
      },
      "source": [
        "<a href=\"https://colab.research.google.com/github/GabrielleRab/SRMPmachine/blob/main/Decision_Trees_Mushrooms.ipynb\" target=\"_parent\"><img src=\"https://colab.research.google.com/assets/colab-badge.svg\" alt=\"Open In Colab\"/></a>"
      ]
    },
    {
      "cell_type": "markdown",
      "metadata": {
        "id": "eg16fWNG_ioj"
      },
      "source": [
        "---\n",
        "\n",
        "# **Decision Trees Colab: Poisonous Mushrooms**\n",
        "\n",
        "In this activity, you will build a decision tree to predict whether or not a mushroom is poisonous based on specific features or characteristics. You will determine which features are best able to predict the edibility of mushrooms.\n",
        "\n",
        "Decision trees are the building blocks of some of the most powerful supervised learning methods that are used today. The goal of a decision tree is to split your data into groups such that every element in one group belongs to one category. This makes it ideal for a binary classification task like poisonous vs not-poisonous."
      ]
    },
    {
      "cell_type": "markdown",
      "source": [
        "### **Step 1:** Understand the data\n",
        "\n",
        "This data set includes descriptions of 8,124 hypothetical samples from 23 species of gilled mushrooms in the Agaricus and Lepiota Family. Each sample is labeled as poisonous or not poisonous and all features of the mushroom are described.\n",
        "\n",
        "Take a moment to read the list of mushroom **features** and their descriptions in the linked Google Doc [here](https://docs.google.com/document/d/1Cbm-EvOJLiE725qYLw1jcl1-zz_5sPosJ5_q1lsEPFw/edit?usp=sharing).\n",
        "\n",
        "Which features do you think will be the most **predictive** of whether or not a mushroom is poisonous?"
      ],
      "metadata": {
        "id": "yCPJMRmC6I7m"
      }
    },
    {
      "cell_type": "markdown",
      "source": [
        "### **Step 2:** Import the necessary Python libraries\n",
        "\n",
        "We will use the sklearn Python library to create our Decision Tree. Run the code below to import the necessary sklearn modules along with libraries for data analysis and visualization."
      ],
      "metadata": {
        "id": "TEVDmRuIDesI"
      }
    },
    {
      "cell_type": "code",
      "source": [
        "from sklearn.model_selection import train_test_split\n",
        "from sklearn.preprocessing import StandardScaler\n",
        "from sklearn import tree\n",
        "from sklearn.tree import DecisionTreeClassifier\n",
        "from sklearn.metrics import accuracy_score\n",
        "import pandas as pd\n",
        "import graphviz"
      ],
      "metadata": {
        "id": "3l3JLv18DaDg"
      },
      "execution_count": null,
      "outputs": []
    },
    {
      "cell_type": "markdown",
      "source": [
        "### **Step 3:** Load in the data\n",
        "\n",
        "Run the code below to import the data, store it as a dataframe and preview the first 5 rows."
      ],
      "metadata": {
        "id": "0DO64X0aET2F"
      }
    },
    {
      "cell_type": "code",
      "source": [
        "df = pd.read_csv(\"https://raw.githubusercontent.com/GabrielleRab/SRMPmachine/main/datasets/mushrooms.csv\")\n",
        "df.head()"
      ],
      "metadata": {
        "colab": {
          "base_uri": "https://localhost:8080/",
          "height": 322
        },
        "id": "pxqgC3JQEfVL",
        "outputId": "aa81760a-4ca9-4bb6-b6c9-55e82fbf0b9d"
      },
      "execution_count": null,
      "outputs": [
        {
          "output_type": "execute_result",
          "data": {
            "text/html": [
              "\n",
              "  <div id=\"df-e438ee6d-32be-4d84-8ce2-f33c0b448aa8\">\n",
              "    <div class=\"colab-df-container\">\n",
              "      <div>\n",
              "<style scoped>\n",
              "    .dataframe tbody tr th:only-of-type {\n",
              "        vertical-align: middle;\n",
              "    }\n",
              "\n",
              "    .dataframe tbody tr th {\n",
              "        vertical-align: top;\n",
              "    }\n",
              "\n",
              "    .dataframe thead th {\n",
              "        text-align: right;\n",
              "    }\n",
              "</style>\n",
              "<table border=\"1\" class=\"dataframe\">\n",
              "  <thead>\n",
              "    <tr style=\"text-align: right;\">\n",
              "      <th></th>\n",
              "      <th>class</th>\n",
              "      <th>cap-shape</th>\n",
              "      <th>cap-surface</th>\n",
              "      <th>cap-color</th>\n",
              "      <th>bruises</th>\n",
              "      <th>odor</th>\n",
              "      <th>gill-attachment</th>\n",
              "      <th>gill-spacing</th>\n",
              "      <th>gill-size</th>\n",
              "      <th>gill-color</th>\n",
              "      <th>stalk-shape</th>\n",
              "      <th>stalk-root</th>\n",
              "      <th>stalk-surface-above-ring</th>\n",
              "      <th>stalk-surface-below-ring</th>\n",
              "      <th>stalk-color-above-ring</th>\n",
              "      <th>stalk-color-below-ring</th>\n",
              "      <th>veil-type</th>\n",
              "      <th>veil-color</th>\n",
              "      <th>ring-number</th>\n",
              "      <th>ring-type</th>\n",
              "      <th>spore-print-color</th>\n",
              "      <th>population</th>\n",
              "      <th>habitat</th>\n",
              "    </tr>\n",
              "  </thead>\n",
              "  <tbody>\n",
              "    <tr>\n",
              "      <th>0</th>\n",
              "      <td>p</td>\n",
              "      <td>x</td>\n",
              "      <td>s</td>\n",
              "      <td>n</td>\n",
              "      <td>t</td>\n",
              "      <td>p</td>\n",
              "      <td>f</td>\n",
              "      <td>c</td>\n",
              "      <td>n</td>\n",
              "      <td>k</td>\n",
              "      <td>e</td>\n",
              "      <td>e</td>\n",
              "      <td>s</td>\n",
              "      <td>s</td>\n",
              "      <td>w</td>\n",
              "      <td>w</td>\n",
              "      <td>p</td>\n",
              "      <td>w</td>\n",
              "      <td>o</td>\n",
              "      <td>p</td>\n",
              "      <td>k</td>\n",
              "      <td>s</td>\n",
              "      <td>u</td>\n",
              "    </tr>\n",
              "    <tr>\n",
              "      <th>1</th>\n",
              "      <td>e</td>\n",
              "      <td>x</td>\n",
              "      <td>s</td>\n",
              "      <td>y</td>\n",
              "      <td>t</td>\n",
              "      <td>a</td>\n",
              "      <td>f</td>\n",
              "      <td>c</td>\n",
              "      <td>b</td>\n",
              "      <td>k</td>\n",
              "      <td>e</td>\n",
              "      <td>c</td>\n",
              "      <td>s</td>\n",
              "      <td>s</td>\n",
              "      <td>w</td>\n",
              "      <td>w</td>\n",
              "      <td>p</td>\n",
              "      <td>w</td>\n",
              "      <td>o</td>\n",
              "      <td>p</td>\n",
              "      <td>n</td>\n",
              "      <td>n</td>\n",
              "      <td>g</td>\n",
              "    </tr>\n",
              "    <tr>\n",
              "      <th>2</th>\n",
              "      <td>e</td>\n",
              "      <td>b</td>\n",
              "      <td>s</td>\n",
              "      <td>w</td>\n",
              "      <td>t</td>\n",
              "      <td>l</td>\n",
              "      <td>f</td>\n",
              "      <td>c</td>\n",
              "      <td>b</td>\n",
              "      <td>n</td>\n",
              "      <td>e</td>\n",
              "      <td>c</td>\n",
              "      <td>s</td>\n",
              "      <td>s</td>\n",
              "      <td>w</td>\n",
              "      <td>w</td>\n",
              "      <td>p</td>\n",
              "      <td>w</td>\n",
              "      <td>o</td>\n",
              "      <td>p</td>\n",
              "      <td>n</td>\n",
              "      <td>n</td>\n",
              "      <td>m</td>\n",
              "    </tr>\n",
              "    <tr>\n",
              "      <th>3</th>\n",
              "      <td>p</td>\n",
              "      <td>x</td>\n",
              "      <td>y</td>\n",
              "      <td>w</td>\n",
              "      <td>t</td>\n",
              "      <td>p</td>\n",
              "      <td>f</td>\n",
              "      <td>c</td>\n",
              "      <td>n</td>\n",
              "      <td>n</td>\n",
              "      <td>e</td>\n",
              "      <td>e</td>\n",
              "      <td>s</td>\n",
              "      <td>s</td>\n",
              "      <td>w</td>\n",
              "      <td>w</td>\n",
              "      <td>p</td>\n",
              "      <td>w</td>\n",
              "      <td>o</td>\n",
              "      <td>p</td>\n",
              "      <td>k</td>\n",
              "      <td>s</td>\n",
              "      <td>u</td>\n",
              "    </tr>\n",
              "    <tr>\n",
              "      <th>4</th>\n",
              "      <td>e</td>\n",
              "      <td>x</td>\n",
              "      <td>s</td>\n",
              "      <td>g</td>\n",
              "      <td>f</td>\n",
              "      <td>n</td>\n",
              "      <td>f</td>\n",
              "      <td>w</td>\n",
              "      <td>b</td>\n",
              "      <td>k</td>\n",
              "      <td>t</td>\n",
              "      <td>e</td>\n",
              "      <td>s</td>\n",
              "      <td>s</td>\n",
              "      <td>w</td>\n",
              "      <td>w</td>\n",
              "      <td>p</td>\n",
              "      <td>w</td>\n",
              "      <td>o</td>\n",
              "      <td>e</td>\n",
              "      <td>n</td>\n",
              "      <td>a</td>\n",
              "      <td>g</td>\n",
              "    </tr>\n",
              "  </tbody>\n",
              "</table>\n",
              "</div>\n",
              "      <button class=\"colab-df-convert\" onclick=\"convertToInteractive('df-e438ee6d-32be-4d84-8ce2-f33c0b448aa8')\"\n",
              "              title=\"Convert this dataframe to an interactive table.\"\n",
              "              style=\"display:none;\">\n",
              "        \n",
              "  <svg xmlns=\"http://www.w3.org/2000/svg\" height=\"24px\"viewBox=\"0 0 24 24\"\n",
              "       width=\"24px\">\n",
              "    <path d=\"M0 0h24v24H0V0z\" fill=\"none\"/>\n",
              "    <path d=\"M18.56 5.44l.94 2.06.94-2.06 2.06-.94-2.06-.94-.94-2.06-.94 2.06-2.06.94zm-11 1L8.5 8.5l.94-2.06 2.06-.94-2.06-.94L8.5 2.5l-.94 2.06-2.06.94zm10 10l.94 2.06.94-2.06 2.06-.94-2.06-.94-.94-2.06-.94 2.06-2.06.94z\"/><path d=\"M17.41 7.96l-1.37-1.37c-.4-.4-.92-.59-1.43-.59-.52 0-1.04.2-1.43.59L10.3 9.45l-7.72 7.72c-.78.78-.78 2.05 0 2.83L4 21.41c.39.39.9.59 1.41.59.51 0 1.02-.2 1.41-.59l7.78-7.78 2.81-2.81c.8-.78.8-2.07 0-2.86zM5.41 20L4 18.59l7.72-7.72 1.47 1.35L5.41 20z\"/>\n",
              "  </svg>\n",
              "      </button>\n",
              "      \n",
              "  <style>\n",
              "    .colab-df-container {\n",
              "      display:flex;\n",
              "      flex-wrap:wrap;\n",
              "      gap: 12px;\n",
              "    }\n",
              "\n",
              "    .colab-df-convert {\n",
              "      background-color: #E8F0FE;\n",
              "      border: none;\n",
              "      border-radius: 50%;\n",
              "      cursor: pointer;\n",
              "      display: none;\n",
              "      fill: #1967D2;\n",
              "      height: 32px;\n",
              "      padding: 0 0 0 0;\n",
              "      width: 32px;\n",
              "    }\n",
              "\n",
              "    .colab-df-convert:hover {\n",
              "      background-color: #E2EBFA;\n",
              "      box-shadow: 0px 1px 2px rgba(60, 64, 67, 0.3), 0px 1px 3px 1px rgba(60, 64, 67, 0.15);\n",
              "      fill: #174EA6;\n",
              "    }\n",
              "\n",
              "    [theme=dark] .colab-df-convert {\n",
              "      background-color: #3B4455;\n",
              "      fill: #D2E3FC;\n",
              "    }\n",
              "\n",
              "    [theme=dark] .colab-df-convert:hover {\n",
              "      background-color: #434B5C;\n",
              "      box-shadow: 0px 1px 3px 1px rgba(0, 0, 0, 0.15);\n",
              "      filter: drop-shadow(0px 1px 2px rgba(0, 0, 0, 0.3));\n",
              "      fill: #FFFFFF;\n",
              "    }\n",
              "  </style>\n",
              "\n",
              "      <script>\n",
              "        const buttonEl =\n",
              "          document.querySelector('#df-e438ee6d-32be-4d84-8ce2-f33c0b448aa8 button.colab-df-convert');\n",
              "        buttonEl.style.display =\n",
              "          google.colab.kernel.accessAllowed ? 'block' : 'none';\n",
              "\n",
              "        async function convertToInteractive(key) {\n",
              "          const element = document.querySelector('#df-e438ee6d-32be-4d84-8ce2-f33c0b448aa8');\n",
              "          const dataTable =\n",
              "            await google.colab.kernel.invokeFunction('convertToInteractive',\n",
              "                                                     [key], {});\n",
              "          if (!dataTable) return;\n",
              "\n",
              "          const docLinkHtml = 'Like what you see? Visit the ' +\n",
              "            '<a target=\"_blank\" href=https://colab.research.google.com/notebooks/data_table.ipynb>data table notebook</a>'\n",
              "            + ' to learn more about interactive tables.';\n",
              "          element.innerHTML = '';\n",
              "          dataTable['output_type'] = 'display_data';\n",
              "          await google.colab.output.renderOutput(dataTable, element);\n",
              "          const docLink = document.createElement('div');\n",
              "          docLink.innerHTML = docLinkHtml;\n",
              "          element.appendChild(docLink);\n",
              "        }\n",
              "      </script>\n",
              "    </div>\n",
              "  </div>\n",
              "  "
            ],
            "text/plain": [
              "  class cap-shape cap-surface  ... spore-print-color population habitat\n",
              "0     p         x           s  ...                 k          s       u\n",
              "1     e         x           s  ...                 n          n       g\n",
              "2     e         b           s  ...                 n          n       m\n",
              "3     p         x           y  ...                 k          s       u\n",
              "4     e         x           s  ...                 n          a       g\n",
              "\n",
              "[5 rows x 23 columns]"
            ]
          },
          "metadata": {},
          "execution_count": 2
        }
      ]
    },
    {
      "cell_type": "markdown",
      "source": [
        "### **Step 4:** Split the data into a training and testing set\n",
        "\n",
        "Machine learning models first need to learn from labeled data (the training step) before they can be used to make predictions about new data (the testing step).\n",
        "\n",
        "Since we only have one dataset, we will need to split it into a training and a testing set. Run the code below to split our data 50/50 into the two sets:"
      ],
      "metadata": {
        "id": "MzK-qjG_Kwxu"
      }
    },
    {
      "cell_type": "code",
      "source": [
        "#Get the features and labels from the data\n",
        "#(and convert categorical information into indicator values)\n",
        "x = df.drop(['class'], axis=1)\n",
        "y = df['class']\n",
        "x = pd.get_dummies(x)\n",
        "y = pd.get_dummies(y)\n",
        "\n",
        "#Specify a 50% split\n",
        "training_percentage = 50\n",
        "\n",
        "#Create the training and testing datasets\n",
        "X_train, X_test, Y_train, Y_test = train_test_split(x, y, train_size=training_percentage/100, random_state=0)"
      ],
      "metadata": {
        "id": "mfNcjA8rLWbe"
      },
      "execution_count": null,
      "outputs": []
    },
    {
      "cell_type": "markdown",
      "source": [
        "### **Step 5:** Create the model\n",
        "\n",
        "Now it's time to make our decision tree. We will also need to set the hyperparameters (values that control how the model learns and makes decisions). In this case we will specify the maximum depth and the criterion the model will use to evaluate each feature.\n",
        "\n",
        "Run the code below to create your model:"
      ],
      "metadata": {
        "id": "hg2O6Ty-Mp9G"
      }
    },
    {
      "cell_type": "code",
      "source": [
        "clf = DecisionTreeClassifier(criterion='gini', max_depth=2, random_state=0)"
      ],
      "metadata": {
        "id": "F8Z877SLNSx3"
      },
      "execution_count": null,
      "outputs": []
    },
    {
      "cell_type": "markdown",
      "source": [
        "### **Step 5:** Train the model\n",
        "\n",
        "Now that we have created a decision tree it's time to train it using our training dataset. We will also evaluate the model's accuracy (what percent of mushrooms did it correctly identify as poisonous or non-poisonous).\n",
        "\n",
        "Run the code below to train and evaluate our model:"
      ],
      "metadata": {
        "id": "cxZowIOUOjmj"
      }
    },
    {
      "cell_type": "code",
      "source": [
        "#Train the model\n",
        "clf.fit(X_train, Y_train)\n",
        "\n",
        "#Print the training accuracy\n",
        "print('\\nTraining Accuracy (%): ',(100*(clf.score(X_train,Y_train))))"
      ],
      "metadata": {
        "colab": {
          "base_uri": "https://localhost:8080/"
        },
        "id": "GNVwoVZlOkAU",
        "outputId": "de201ad9-5952-4fa2-a508-4ac7e81c3a3e"
      },
      "execution_count": null,
      "outputs": [
        {
          "output_type": "stream",
          "name": "stdout",
          "text": [
            "\n",
            "Training Accuracy (%):  95.24864598719842\n"
          ]
        }
      ]
    },
    {
      "cell_type": "markdown",
      "source": [
        "### **Step 6:** Visualizing the tree\n",
        "\n",
        "Now that we have trained our model, we can see which features it is using to make predictions. Run the code below to visualize the tree:"
      ],
      "metadata": {
        "id": "XkrDKDZUQ7EU"
      }
    },
    {
      "cell_type": "code",
      "source": [
        "dot_data = tree.export_graphviz(clf, out_file=None,\n",
        "                               feature_names=X_train.columns,\n",
        "                               class_names=Y_train.values,\n",
        "                               filled=True, rounded=True,\n",
        "                               special_characters=True)\n",
        "graph = graphviz.Source(dot_data)\n",
        "graph\n",
        "\n",
        "#Note: the values are shown in the order [[P, E], [E, P]]"
      ],
      "metadata": {
        "colab": {
          "base_uri": "https://localhost:8080/",
          "height": 440
        },
        "id": "jthDniVbRbgR",
        "outputId": "4994fc03-262e-45ef-9ba2-e3074dd8b16a"
      },
      "execution_count": null,
      "outputs": [
        {
          "output_type": "execute_result",
          "data": {
            "text/plain": [
              "<graphviz.files.Source at 0x7f87c2b588d0>"
            ],
            "image/svg+xml": "<?xml version=\"1.0\" encoding=\"UTF-8\" standalone=\"no\"?>\n<!DOCTYPE svg PUBLIC \"-//W3C//DTD SVG 1.1//EN\"\n \"http://www.w3.org/Graphics/SVG/1.1/DTD/svg11.dtd\">\n<!-- Generated by graphviz version 2.40.1 (20161225.0304)\n -->\n<!-- Title: Tree Pages: 1 -->\n<svg width=\"594pt\" height=\"314pt\"\n viewBox=\"0.00 0.00 593.50 314.00\" xmlns=\"http://www.w3.org/2000/svg\" xmlns:xlink=\"http://www.w3.org/1999/xlink\">\n<g id=\"graph0\" class=\"graph\" transform=\"scale(1 1) rotate(0) translate(4 310)\">\n<title>Tree</title>\n<polygon fill=\"#ffffff\" stroke=\"transparent\" points=\"-4,4 -4,-310 589.5,-310 589.5,4 -4,4\"/>\n<!-- 0 -->\n<g id=\"node1\" class=\"node\">\n<title>0</title>\n<path fill=\"#ffffff\" stroke=\"#000000\" d=\"M370,-306C370,-306 242,-306 242,-306 236,-306 230,-300 230,-294 230,-294 230,-235 230,-235 230,-229 236,-223 242,-223 242,-223 370,-223 370,-223 376,-223 382,-229 382,-235 382,-235 382,-294 382,-294 382,-300 376,-306 370,-306\"/>\n<text text-anchor=\"start\" x=\"265\" y=\"-290.8\" font-family=\"Helvetica,sans-Serif\" font-size=\"14.00\" fill=\"#000000\">odor_n ≤ 0.5</text>\n<text text-anchor=\"start\" x=\"268\" y=\"-275.8\" font-family=\"Helvetica,sans-Serif\" font-size=\"14.00\" fill=\"#000000\">gini = 0.499</text>\n<text text-anchor=\"start\" x=\"254\" y=\"-260.8\" font-family=\"Helvetica,sans-Serif\" font-size=\"14.00\" fill=\"#000000\">samples = 4062</text>\n<text text-anchor=\"start\" x=\"238\" y=\"-245.8\" font-family=\"Helvetica,sans-Serif\" font-size=\"14.00\" fill=\"#000000\">value = [[1964, 2098]</text>\n<text text-anchor=\"start\" x=\"263.5\" y=\"-230.8\" font-family=\"Helvetica,sans-Serif\" font-size=\"14.00\" fill=\"#000000\">[2098, 1964]]</text>\n</g>\n<!-- 1 -->\n<g id=\"node2\" class=\"node\">\n<title>1</title>\n<path fill=\"#f4c8a8\" stroke=\"#000000\" d=\"M279,-187C279,-187 159,-187 159,-187 153,-187 147,-181 147,-175 147,-175 147,-116 147,-116 147,-110 153,-104 159,-104 159,-104 279,-104 279,-104 285,-104 291,-110 291,-116 291,-116 291,-175 291,-175 291,-181 285,-187 279,-187\"/>\n<text text-anchor=\"start\" x=\"163.5\" y=\"-171.8\" font-family=\"Helvetica,sans-Serif\" font-size=\"14.00\" fill=\"#000000\">stalk&#45;root_c ≤ 0.5</text>\n<text text-anchor=\"start\" x=\"185.5\" y=\"-156.8\" font-family=\"Helvetica,sans-Serif\" font-size=\"14.00\" fill=\"#000000\">gini = 0.28</text>\n<text text-anchor=\"start\" x=\"167\" y=\"-141.8\" font-family=\"Helvetica,sans-Serif\" font-size=\"14.00\" fill=\"#000000\">samples = 2287</text>\n<text text-anchor=\"start\" x=\"155\" y=\"-126.8\" font-family=\"Helvetica,sans-Serif\" font-size=\"14.00\" fill=\"#000000\">value = [[1902, 385]</text>\n<text text-anchor=\"start\" x=\"180.5\" y=\"-111.8\" font-family=\"Helvetica,sans-Serif\" font-size=\"14.00\" fill=\"#000000\">[385, 1902]]</text>\n</g>\n<!-- 0&#45;&gt;1 -->\n<g id=\"edge1\" class=\"edge\">\n<title>0&#45;&gt;1</title>\n<path fill=\"none\" stroke=\"#000000\" d=\"M275.5716,-222.8796C269.1189,-214.0534 262.243,-204.6485 255.5887,-195.5466\"/>\n<polygon fill=\"#000000\" stroke=\"#000000\" points=\"258.2856,-193.3051 249.5583,-187.2981 252.6347,-197.4364 258.2856,-193.3051\"/>\n<text text-anchor=\"middle\" x=\"245.7208\" y=\"-208.3018\" font-family=\"Helvetica,sans-Serif\" font-size=\"14.00\" fill=\"#000000\">True</text>\n</g>\n<!-- 4 -->\n<g id=\"node5\" class=\"node\">\n<title>4</title>\n<path fill=\"#e99254\" stroke=\"#000000\" d=\"M467,-187C467,-187 321,-187 321,-187 315,-187 309,-181 309,-175 309,-175 309,-116 309,-116 309,-110 315,-104 321,-104 321,-104 467,-104 467,-104 473,-104 479,-110 479,-116 479,-116 479,-175 479,-175 479,-181 473,-187 467,-187\"/>\n<text text-anchor=\"start\" x=\"317\" y=\"-171.8\" font-family=\"Helvetica,sans-Serif\" font-size=\"14.00\" fill=\"#000000\">spore&#45;print&#45;color_r ≤ 0.5</text>\n<text text-anchor=\"start\" x=\"356\" y=\"-156.8\" font-family=\"Helvetica,sans-Serif\" font-size=\"14.00\" fill=\"#000000\">gini = 0.067</text>\n<text text-anchor=\"start\" x=\"342\" y=\"-141.8\" font-family=\"Helvetica,sans-Serif\" font-size=\"14.00\" fill=\"#000000\">samples = 1775</text>\n<text text-anchor=\"start\" x=\"334\" y=\"-126.8\" font-family=\"Helvetica,sans-Serif\" font-size=\"14.00\" fill=\"#000000\">value = [[62, 1713]</text>\n<text text-anchor=\"start\" x=\"359.5\" y=\"-111.8\" font-family=\"Helvetica,sans-Serif\" font-size=\"14.00\" fill=\"#000000\">[1713, 62]]</text>\n</g>\n<!-- 0&#45;&gt;4 -->\n<g id=\"edge4\" class=\"edge\">\n<title>0&#45;&gt;4</title>\n<path fill=\"none\" stroke=\"#000000\" d=\"M336.7781,-222.8796C343.3051,-214.0534 350.2599,-204.6485 356.9908,-195.5466\"/>\n<polygon fill=\"#000000\" stroke=\"#000000\" points=\"359.9588,-197.4195 363.0905,-187.2981 354.3305,-193.2574 359.9588,-197.4195\"/>\n<text text-anchor=\"middle\" x=\"366.7932\" y=\"-208.3224\" font-family=\"Helvetica,sans-Serif\" font-size=\"14.00\" fill=\"#000000\">False</text>\n</g>\n<!-- 2 -->\n<g id=\"node3\" class=\"node\">\n<title>2</title>\n<path fill=\"#eca36e\" stroke=\"#000000\" d=\"M132,-68C132,-68 12,-68 12,-68 6,-68 0,-62 0,-56 0,-56 0,-12 0,-12 0,-6 6,0 12,0 12,0 132,0 132,0 138,0 144,-6 144,-12 144,-12 144,-56 144,-56 144,-62 138,-68 132,-68\"/>\n<text text-anchor=\"start\" x=\"34\" y=\"-52.8\" font-family=\"Helvetica,sans-Serif\" font-size=\"14.00\" fill=\"#000000\">gini = 0.133</text>\n<text text-anchor=\"start\" x=\"20\" y=\"-37.8\" font-family=\"Helvetica,sans-Serif\" font-size=\"14.00\" fill=\"#000000\">samples = 2027</text>\n<text text-anchor=\"start\" x=\"8\" y=\"-22.8\" font-family=\"Helvetica,sans-Serif\" font-size=\"14.00\" fill=\"#000000\">value = [[1882, 145]</text>\n<text text-anchor=\"start\" x=\"33.5\" y=\"-7.8\" font-family=\"Helvetica,sans-Serif\" font-size=\"14.00\" fill=\"#000000\">[145, 1882]]</text>\n</g>\n<!-- 1&#45;&gt;2 -->\n<g id=\"edge2\" class=\"edge\">\n<title>1&#45;&gt;2</title>\n<path fill=\"none\" stroke=\"#000000\" d=\"M164.2626,-103.9815C151.5399,-94.3313 138.0134,-84.0714 125.3515,-74.4673\"/>\n<polygon fill=\"#000000\" stroke=\"#000000\" points=\"127.2553,-71.5184 117.1727,-68.2637 123.025,-77.0956 127.2553,-71.5184\"/>\n</g>\n<!-- 3 -->\n<g id=\"node4\" class=\"node\">\n<title>3</title>\n<path fill=\"#eca571\" stroke=\"#000000\" d=\"M278,-68C278,-68 174,-68 174,-68 168,-68 162,-62 162,-56 162,-56 162,-12 162,-12 162,-6 168,0 174,0 174,0 278,0 278,0 284,0 290,-6 290,-12 290,-12 290,-56 290,-56 290,-62 284,-68 278,-68\"/>\n<text text-anchor=\"start\" x=\"188\" y=\"-52.8\" font-family=\"Helvetica,sans-Serif\" font-size=\"14.00\" fill=\"#000000\">gini = 0.142</text>\n<text text-anchor=\"start\" x=\"178\" y=\"-37.8\" font-family=\"Helvetica,sans-Serif\" font-size=\"14.00\" fill=\"#000000\">samples = 260</text>\n<text text-anchor=\"start\" x=\"170\" y=\"-22.8\" font-family=\"Helvetica,sans-Serif\" font-size=\"14.00\" fill=\"#000000\">value = [[20, 240]</text>\n<text text-anchor=\"start\" x=\"195.5\" y=\"-7.8\" font-family=\"Helvetica,sans-Serif\" font-size=\"14.00\" fill=\"#000000\">[240, 20]]</text>\n</g>\n<!-- 1&#45;&gt;3 -->\n<g id=\"edge3\" class=\"edge\">\n<title>1&#45;&gt;3</title>\n<path fill=\"none\" stroke=\"#000000\" d=\"M221.6065,-103.9815C222.1316,-95.618 222.6854,-86.7965 223.2163,-78.3409\"/>\n<polygon fill=\"#000000\" stroke=\"#000000\" points=\"226.7154,-78.4634 223.8489,-68.2637 219.7291,-78.0247 226.7154,-78.4634\"/>\n</g>\n<!-- 5 -->\n<g id=\"node6\" class=\"node\">\n<title>5</title>\n<path fill=\"#e78946\" stroke=\"#000000\" d=\"M444,-68C444,-68 332,-68 332,-68 326,-68 320,-62 320,-56 320,-56 320,-12 320,-12 320,-6 326,0 332,0 332,0 444,0 444,0 450,0 456,-6 456,-12 456,-12 456,-56 456,-56 456,-62 450,-68 444,-68\"/>\n<text text-anchor=\"start\" x=\"350\" y=\"-52.8\" font-family=\"Helvetica,sans-Serif\" font-size=\"14.00\" fill=\"#000000\">gini = 0.032</text>\n<text text-anchor=\"start\" x=\"336\" y=\"-37.8\" font-family=\"Helvetica,sans-Serif\" font-size=\"14.00\" fill=\"#000000\">samples = 1741</text>\n<text text-anchor=\"start\" x=\"328\" y=\"-22.8\" font-family=\"Helvetica,sans-Serif\" font-size=\"14.00\" fill=\"#000000\">value = [[28, 1713]</text>\n<text text-anchor=\"start\" x=\"353.5\" y=\"-7.8\" font-family=\"Helvetica,sans-Serif\" font-size=\"14.00\" fill=\"#000000\">[1713, 28]]</text>\n</g>\n<!-- 4&#45;&gt;5 -->\n<g id=\"edge5\" class=\"edge\">\n<title>4&#45;&gt;5</title>\n<path fill=\"none\" stroke=\"#000000\" d=\"M391.7658,-103.9815C391.3158,-95.618 390.8411,-86.7965 390.3861,-78.3409\"/>\n<polygon fill=\"#000000\" stroke=\"#000000\" points=\"393.8762,-78.0611 389.8438,-68.2637 386.8863,-78.4373 393.8762,-78.0611\"/>\n</g>\n<!-- 6 -->\n<g id=\"node7\" class=\"node\">\n<title>6</title>\n<path fill=\"#e58139\" stroke=\"#000000\" d=\"M573.5,-68C573.5,-68 486.5,-68 486.5,-68 480.5,-68 474.5,-62 474.5,-56 474.5,-56 474.5,-12 474.5,-12 474.5,-6 480.5,0 486.5,0 486.5,0 573.5,0 573.5,0 579.5,0 585.5,-6 585.5,-12 585.5,-12 585.5,-56 585.5,-56 585.5,-62 579.5,-68 573.5,-68\"/>\n<text text-anchor=\"start\" x=\"500.5\" y=\"-52.8\" font-family=\"Helvetica,sans-Serif\" font-size=\"14.00\" fill=\"#000000\">gini = 0.0</text>\n<text text-anchor=\"start\" x=\"486\" y=\"-37.8\" font-family=\"Helvetica,sans-Serif\" font-size=\"14.00\" fill=\"#000000\">samples = 34</text>\n<text text-anchor=\"start\" x=\"482.5\" y=\"-22.8\" font-family=\"Helvetica,sans-Serif\" font-size=\"14.00\" fill=\"#000000\">value = [[34, 0]</text>\n<text text-anchor=\"start\" x=\"508\" y=\"-7.8\" font-family=\"Helvetica,sans-Serif\" font-size=\"14.00\" fill=\"#000000\">[0, 34]]</text>\n</g>\n<!-- 4&#45;&gt;6 -->\n<g id=\"edge6\" class=\"edge\">\n<title>4&#45;&gt;6</title>\n<path fill=\"none\" stroke=\"#000000\" d=\"M444.6414,-103.9815C456.2999,-94.4232 468.688,-84.2668 480.3059,-74.7419\"/>\n<polygon fill=\"#000000\" stroke=\"#000000\" points=\"482.6933,-77.3105 488.2075,-68.2637 478.2552,-71.8972 482.6933,-77.3105\"/>\n</g>\n</g>\n</svg>\n"
          },
          "metadata": {},
          "execution_count": 6
        }
      ]
    },
    {
      "cell_type": "markdown",
      "source": [
        "### **Step 7:** Testing the tree\n",
        "\n",
        "Run this code block to run the other half of our data (the testing dataset) through the model we just trained to find out how accurate it is with new data:"
      ],
      "metadata": {
        "id": "4K1mpky-7qmC"
      }
    },
    {
      "cell_type": "code",
      "source": [
        "#Make the prediction using the model\n",
        "Y_pred = clf.predict(X_test)\n",
        "\n",
        "print('Percentage accuracy: ', 100*accuracy_score(Y_test, Y_pred))"
      ],
      "metadata": {
        "colab": {
          "base_uri": "https://localhost:8080/"
        },
        "id": "D8BugqKW8Ika",
        "outputId": "1d6077ad-408c-4cf4-ef6f-8a21c166b5ab"
      },
      "execution_count": null,
      "outputs": [
        {
          "output_type": "stream",
          "name": "stdout",
          "text": [
            "Percentage accuracy:  95.59330379123584\n"
          ]
        }
      ]
    }
  ]
}